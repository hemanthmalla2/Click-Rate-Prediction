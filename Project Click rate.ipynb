{
 "cells": [
  {
   "cell_type": "code",
   "execution_count": 1,
   "id": "597ef526-d856-4cd3-9047-39caa13d09b5",
   "metadata": {},
   "outputs": [],
   "source": [
    "import numpy as np\n",
    "import pandas as pd\n",
    "import seaborn as sns\n",
    "import matplotlib.pyplot as plt\n",
    "import optuna\n",
    "from xgboost import XGBRegressor\n",
    "from scipy import stats\n",
    "from statsmodels.stats.outliers_influence import variance_inflation_factor\n",
    "from sklearn.linear_model import ElasticNet\n",
    "from sklearn.decomposition import PCA\n",
    "from sklearn.preprocessing import StandardScaler\n",
    "from sklearn.model_selection import train_test_split\n",
    "from sklearn.metrics import r2_score,mean_absolute_error,mean_squared_error\n",
    "%matplotlib inline"
   ]
  },
  {
   "cell_type": "code",
   "execution_count": 2,
   "id": "a17b19ca-1e73-420a-af85-04b1450d26ef",
   "metadata": {},
   "outputs": [],
   "source": [
    "pd.set_option('display.max_columns',None)"
   ]
  },
  {
   "cell_type": "code",
   "execution_count": 3,
   "id": "146bc439-f905-4494-852a-e4505c0bc28d",
   "metadata": {},
   "outputs": [
    {
     "data": {
      "text/html": [
       "<div>\n",
       "<style scoped>\n",
       "    .dataframe tbody tr th:only-of-type {\n",
       "        vertical-align: middle;\n",
       "    }\n",
       "\n",
       "    .dataframe tbody tr th {\n",
       "        vertical-align: top;\n",
       "    }\n",
       "\n",
       "    .dataframe thead th {\n",
       "        text-align: right;\n",
       "    }\n",
       "</style>\n",
       "<table border=\"1\" class=\"dataframe\">\n",
       "  <thead>\n",
       "    <tr style=\"text-align: right;\">\n",
       "      <th></th>\n",
       "      <th>campaign_id</th>\n",
       "      <th>sender</th>\n",
       "      <th>subject_len</th>\n",
       "      <th>body_len</th>\n",
       "      <th>mean_paragraph_len</th>\n",
       "      <th>day_of_week</th>\n",
       "      <th>is_weekend</th>\n",
       "      <th>times_of_day</th>\n",
       "      <th>category</th>\n",
       "      <th>product</th>\n",
       "      <th>no_of_CTA</th>\n",
       "      <th>mean_CTA_len</th>\n",
       "      <th>is_image</th>\n",
       "      <th>is_personalised</th>\n",
       "      <th>is_quote</th>\n",
       "      <th>is_timer</th>\n",
       "      <th>is_emoticons</th>\n",
       "      <th>is_discount</th>\n",
       "      <th>is_price</th>\n",
       "      <th>is_urgency</th>\n",
       "      <th>target_audience</th>\n",
       "      <th>click_rate</th>\n",
       "    </tr>\n",
       "  </thead>\n",
       "  <tbody>\n",
       "    <tr>\n",
       "      <th>0</th>\n",
       "      <td>1</td>\n",
       "      <td>3</td>\n",
       "      <td>76</td>\n",
       "      <td>10439</td>\n",
       "      <td>39</td>\n",
       "      <td>5</td>\n",
       "      <td>1</td>\n",
       "      <td>Noon</td>\n",
       "      <td>6</td>\n",
       "      <td>26</td>\n",
       "      <td>3</td>\n",
       "      <td>29</td>\n",
       "      <td>0</td>\n",
       "      <td>0</td>\n",
       "      <td>0</td>\n",
       "      <td>0</td>\n",
       "      <td>0</td>\n",
       "      <td>0</td>\n",
       "      <td>0</td>\n",
       "      <td>0</td>\n",
       "      <td>14</td>\n",
       "      <td>0.103079</td>\n",
       "    </tr>\n",
       "    <tr>\n",
       "      <th>1</th>\n",
       "      <td>2</td>\n",
       "      <td>3</td>\n",
       "      <td>54</td>\n",
       "      <td>2570</td>\n",
       "      <td>256</td>\n",
       "      <td>5</td>\n",
       "      <td>1</td>\n",
       "      <td>Morning</td>\n",
       "      <td>2</td>\n",
       "      <td>11</td>\n",
       "      <td>0</td>\n",
       "      <td>22</td>\n",
       "      <td>0</td>\n",
       "      <td>0</td>\n",
       "      <td>0</td>\n",
       "      <td>0</td>\n",
       "      <td>0</td>\n",
       "      <td>0</td>\n",
       "      <td>0</td>\n",
       "      <td>0</td>\n",
       "      <td>10</td>\n",
       "      <td>0.700000</td>\n",
       "    </tr>\n",
       "    <tr>\n",
       "      <th>2</th>\n",
       "      <td>3</td>\n",
       "      <td>3</td>\n",
       "      <td>59</td>\n",
       "      <td>12801</td>\n",
       "      <td>16</td>\n",
       "      <td>5</td>\n",
       "      <td>1</td>\n",
       "      <td>Noon</td>\n",
       "      <td>2</td>\n",
       "      <td>11</td>\n",
       "      <td>3</td>\n",
       "      <td>23</td>\n",
       "      <td>1</td>\n",
       "      <td>0</td>\n",
       "      <td>1</td>\n",
       "      <td>0</td>\n",
       "      <td>0</td>\n",
       "      <td>0</td>\n",
       "      <td>0</td>\n",
       "      <td>0</td>\n",
       "      <td>16</td>\n",
       "      <td>0.002769</td>\n",
       "    </tr>\n",
       "    <tr>\n",
       "      <th>3</th>\n",
       "      <td>4</td>\n",
       "      <td>3</td>\n",
       "      <td>74</td>\n",
       "      <td>11037</td>\n",
       "      <td>30</td>\n",
       "      <td>4</td>\n",
       "      <td>0</td>\n",
       "      <td>Evening</td>\n",
       "      <td>15</td>\n",
       "      <td>9</td>\n",
       "      <td>4</td>\n",
       "      <td>24</td>\n",
       "      <td>0</td>\n",
       "      <td>0</td>\n",
       "      <td>0</td>\n",
       "      <td>0</td>\n",
       "      <td>0</td>\n",
       "      <td>0</td>\n",
       "      <td>0</td>\n",
       "      <td>0</td>\n",
       "      <td>10</td>\n",
       "      <td>0.010868</td>\n",
       "    </tr>\n",
       "    <tr>\n",
       "      <th>4</th>\n",
       "      <td>5</td>\n",
       "      <td>3</td>\n",
       "      <td>80</td>\n",
       "      <td>10011</td>\n",
       "      <td>27</td>\n",
       "      <td>5</td>\n",
       "      <td>1</td>\n",
       "      <td>Noon</td>\n",
       "      <td>6</td>\n",
       "      <td>26</td>\n",
       "      <td>3</td>\n",
       "      <td>31</td>\n",
       "      <td>0</td>\n",
       "      <td>0</td>\n",
       "      <td>1</td>\n",
       "      <td>0</td>\n",
       "      <td>0</td>\n",
       "      <td>0</td>\n",
       "      <td>0</td>\n",
       "      <td>0</td>\n",
       "      <td>14</td>\n",
       "      <td>0.142826</td>\n",
       "    </tr>\n",
       "  </tbody>\n",
       "</table>\n",
       "</div>"
      ],
      "text/plain": [
       "   campaign_id  sender  subject_len  body_len  mean_paragraph_len  \\\n",
       "0            1       3           76     10439                  39   \n",
       "1            2       3           54      2570                 256   \n",
       "2            3       3           59     12801                  16   \n",
       "3            4       3           74     11037                  30   \n",
       "4            5       3           80     10011                  27   \n",
       "\n",
       "   day_of_week  is_weekend times_of_day  category  product  no_of_CTA  \\\n",
       "0            5           1         Noon         6       26          3   \n",
       "1            5           1      Morning         2       11          0   \n",
       "2            5           1         Noon         2       11          3   \n",
       "3            4           0      Evening        15        9          4   \n",
       "4            5           1         Noon         6       26          3   \n",
       "\n",
       "   mean_CTA_len  is_image  is_personalised  is_quote  is_timer  is_emoticons  \\\n",
       "0            29         0                0         0         0             0   \n",
       "1            22         0                0         0         0             0   \n",
       "2            23         1                0         1         0             0   \n",
       "3            24         0                0         0         0             0   \n",
       "4            31         0                0         1         0             0   \n",
       "\n",
       "   is_discount  is_price  is_urgency  target_audience  click_rate  \n",
       "0            0         0           0               14    0.103079  \n",
       "1            0         0           0               10    0.700000  \n",
       "2            0         0           0               16    0.002769  \n",
       "3            0         0           0               10    0.010868  \n",
       "4            0         0           0               14    0.142826  "
      ]
     },
     "execution_count": 3,
     "metadata": {},
     "output_type": "execute_result"
    }
   ],
   "source": [
    "df=pd.read_csv(\"train.csv\")\n",
    "df.head()"
   ]
  },
  {
   "cell_type": "code",
   "execution_count": 4,
   "id": "fc6ebfd1-087c-4dfb-b32c-6e233b288fa4",
   "metadata": {},
   "outputs": [
    {
     "data": {
      "text/plain": [
       "(1888, 22)"
      ]
     },
     "execution_count": 4,
     "metadata": {},
     "output_type": "execute_result"
    }
   ],
   "source": [
    "df.shape"
   ]
  },
  {
   "cell_type": "code",
   "execution_count": 5,
   "id": "a7432e42-fc44-4351-b065-ea1504492ebf",
   "metadata": {},
   "outputs": [
    {
     "name": "stdout",
     "output_type": "stream",
     "text": [
      "<class 'pandas.core.frame.DataFrame'>\n",
      "RangeIndex: 1888 entries, 0 to 1887\n",
      "Data columns (total 22 columns):\n",
      " #   Column              Non-Null Count  Dtype  \n",
      "---  ------              --------------  -----  \n",
      " 0   campaign_id         1888 non-null   int64  \n",
      " 1   sender              1888 non-null   int64  \n",
      " 2   subject_len         1888 non-null   int64  \n",
      " 3   body_len            1888 non-null   int64  \n",
      " 4   mean_paragraph_len  1888 non-null   int64  \n",
      " 5   day_of_week         1888 non-null   int64  \n",
      " 6   is_weekend          1888 non-null   int64  \n",
      " 7   times_of_day        1888 non-null   object \n",
      " 8   category            1888 non-null   int64  \n",
      " 9   product             1888 non-null   int64  \n",
      " 10  no_of_CTA           1888 non-null   int64  \n",
      " 11  mean_CTA_len        1888 non-null   int64  \n",
      " 12  is_image            1888 non-null   int64  \n",
      " 13  is_personalised     1888 non-null   int64  \n",
      " 14  is_quote            1888 non-null   int64  \n",
      " 15  is_timer            1888 non-null   int64  \n",
      " 16  is_emoticons        1888 non-null   int64  \n",
      " 17  is_discount         1888 non-null   int64  \n",
      " 18  is_price            1888 non-null   int64  \n",
      " 19  is_urgency          1888 non-null   int64  \n",
      " 20  target_audience     1888 non-null   int64  \n",
      " 21  click_rate          1888 non-null   float64\n",
      "dtypes: float64(1), int64(20), object(1)\n",
      "memory usage: 324.6+ KB\n"
     ]
    }
   ],
   "source": [
    "df.info()"
   ]
  },
  {
   "cell_type": "code",
   "execution_count": 6,
   "id": "3583ba75-b55c-4afd-9ff6-8314d2eec2eb",
   "metadata": {},
   "outputs": [
    {
     "data": {
      "text/html": [
       "<div>\n",
       "<style scoped>\n",
       "    .dataframe tbody tr th:only-of-type {\n",
       "        vertical-align: middle;\n",
       "    }\n",
       "\n",
       "    .dataframe tbody tr th {\n",
       "        vertical-align: top;\n",
       "    }\n",
       "\n",
       "    .dataframe thead th {\n",
       "        text-align: right;\n",
       "    }\n",
       "</style>\n",
       "<table border=\"1\" class=\"dataframe\">\n",
       "  <thead>\n",
       "    <tr style=\"text-align: right;\">\n",
       "      <th></th>\n",
       "      <th>campaign_id</th>\n",
       "      <th>sender</th>\n",
       "      <th>subject_len</th>\n",
       "      <th>body_len</th>\n",
       "      <th>mean_paragraph_len</th>\n",
       "      <th>day_of_week</th>\n",
       "      <th>is_weekend</th>\n",
       "      <th>times_of_day</th>\n",
       "      <th>category</th>\n",
       "      <th>product</th>\n",
       "      <th>no_of_CTA</th>\n",
       "      <th>mean_CTA_len</th>\n",
       "      <th>is_image</th>\n",
       "      <th>is_personalised</th>\n",
       "      <th>is_quote</th>\n",
       "      <th>is_timer</th>\n",
       "      <th>is_emoticons</th>\n",
       "      <th>is_discount</th>\n",
       "      <th>is_price</th>\n",
       "      <th>is_urgency</th>\n",
       "      <th>target_audience</th>\n",
       "    </tr>\n",
       "  </thead>\n",
       "  <tbody>\n",
       "    <tr>\n",
       "      <th>0</th>\n",
       "      <td>1889</td>\n",
       "      <td>3</td>\n",
       "      <td>61</td>\n",
       "      <td>12871</td>\n",
       "      <td>11</td>\n",
       "      <td>6</td>\n",
       "      <td>1</td>\n",
       "      <td>Noon</td>\n",
       "      <td>6</td>\n",
       "      <td>26</td>\n",
       "      <td>3</td>\n",
       "      <td>37</td>\n",
       "      <td>1</td>\n",
       "      <td>0</td>\n",
       "      <td>0</td>\n",
       "      <td>0</td>\n",
       "      <td>1</td>\n",
       "      <td>0</td>\n",
       "      <td>0</td>\n",
       "      <td>0</td>\n",
       "      <td>14</td>\n",
       "    </tr>\n",
       "    <tr>\n",
       "      <th>1</th>\n",
       "      <td>1890</td>\n",
       "      <td>3</td>\n",
       "      <td>54</td>\n",
       "      <td>2569</td>\n",
       "      <td>256</td>\n",
       "      <td>5</td>\n",
       "      <td>1</td>\n",
       "      <td>Morning</td>\n",
       "      <td>2</td>\n",
       "      <td>11</td>\n",
       "      <td>0</td>\n",
       "      <td>22</td>\n",
       "      <td>0</td>\n",
       "      <td>0</td>\n",
       "      <td>0</td>\n",
       "      <td>0</td>\n",
       "      <td>0</td>\n",
       "      <td>0</td>\n",
       "      <td>0</td>\n",
       "      <td>0</td>\n",
       "      <td>10</td>\n",
       "    </tr>\n",
       "    <tr>\n",
       "      <th>2</th>\n",
       "      <td>1891</td>\n",
       "      <td>3</td>\n",
       "      <td>88</td>\n",
       "      <td>1473</td>\n",
       "      <td>78</td>\n",
       "      <td>4</td>\n",
       "      <td>0</td>\n",
       "      <td>Evening</td>\n",
       "      <td>2</td>\n",
       "      <td>11</td>\n",
       "      <td>0</td>\n",
       "      <td>22</td>\n",
       "      <td>1</td>\n",
       "      <td>0</td>\n",
       "      <td>1</td>\n",
       "      <td>0</td>\n",
       "      <td>0</td>\n",
       "      <td>0</td>\n",
       "      <td>0</td>\n",
       "      <td>0</td>\n",
       "      <td>10</td>\n",
       "    </tr>\n",
       "    <tr>\n",
       "      <th>3</th>\n",
       "      <td>1892</td>\n",
       "      <td>3</td>\n",
       "      <td>88</td>\n",
       "      <td>1473</td>\n",
       "      <td>78</td>\n",
       "      <td>3</td>\n",
       "      <td>0</td>\n",
       "      <td>Evening</td>\n",
       "      <td>2</td>\n",
       "      <td>11</td>\n",
       "      <td>0</td>\n",
       "      <td>22</td>\n",
       "      <td>1</td>\n",
       "      <td>0</td>\n",
       "      <td>1</td>\n",
       "      <td>0</td>\n",
       "      <td>0</td>\n",
       "      <td>0</td>\n",
       "      <td>0</td>\n",
       "      <td>0</td>\n",
       "      <td>10</td>\n",
       "    </tr>\n",
       "    <tr>\n",
       "      <th>4</th>\n",
       "      <td>1893</td>\n",
       "      <td>3</td>\n",
       "      <td>78</td>\n",
       "      <td>9020</td>\n",
       "      <td>29</td>\n",
       "      <td>3</td>\n",
       "      <td>0</td>\n",
       "      <td>Noon</td>\n",
       "      <td>6</td>\n",
       "      <td>26</td>\n",
       "      <td>2</td>\n",
       "      <td>40</td>\n",
       "      <td>0</td>\n",
       "      <td>0</td>\n",
       "      <td>0</td>\n",
       "      <td>0</td>\n",
       "      <td>0</td>\n",
       "      <td>0</td>\n",
       "      <td>0</td>\n",
       "      <td>0</td>\n",
       "      <td>14</td>\n",
       "    </tr>\n",
       "  </tbody>\n",
       "</table>\n",
       "</div>"
      ],
      "text/plain": [
       "   campaign_id  sender  subject_len  body_len  mean_paragraph_len  \\\n",
       "0         1889       3           61     12871                  11   \n",
       "1         1890       3           54      2569                 256   \n",
       "2         1891       3           88      1473                  78   \n",
       "3         1892       3           88      1473                  78   \n",
       "4         1893       3           78      9020                  29   \n",
       "\n",
       "   day_of_week  is_weekend times_of_day  category  product  no_of_CTA  \\\n",
       "0            6           1         Noon         6       26          3   \n",
       "1            5           1      Morning         2       11          0   \n",
       "2            4           0      Evening         2       11          0   \n",
       "3            3           0      Evening         2       11          0   \n",
       "4            3           0         Noon         6       26          2   \n",
       "\n",
       "   mean_CTA_len  is_image  is_personalised  is_quote  is_timer  is_emoticons  \\\n",
       "0            37         1                0         0         0             1   \n",
       "1            22         0                0         0         0             0   \n",
       "2            22         1                0         1         0             0   \n",
       "3            22         1                0         1         0             0   \n",
       "4            40         0                0         0         0             0   \n",
       "\n",
       "   is_discount  is_price  is_urgency  target_audience  \n",
       "0            0         0           0               14  \n",
       "1            0         0           0               10  \n",
       "2            0         0           0               10  \n",
       "3            0         0           0               10  \n",
       "4            0         0           0               14  "
      ]
     },
     "execution_count": 6,
     "metadata": {},
     "output_type": "execute_result"
    }
   ],
   "source": [
    "df_test=pd.read_csv('test.csv')\n",
    "df_test.head()"
   ]
  },
  {
   "cell_type": "markdown",
   "id": "4e1b5909-43ee-4348-8f86-8f6c33fc9cc5",
   "metadata": {},
   "source": [
    "# Looking for missing values"
   ]
  },
  {
   "cell_type": "code",
   "execution_count": 7,
   "id": "c2bd1545-c0f1-4710-8da0-805ab9ecf68b",
   "metadata": {},
   "outputs": [
    {
     "data": {
      "text/html": [
       "<div>\n",
       "<style scoped>\n",
       "    .dataframe tbody tr th:only-of-type {\n",
       "        vertical-align: middle;\n",
       "    }\n",
       "\n",
       "    .dataframe tbody tr th {\n",
       "        vertical-align: top;\n",
       "    }\n",
       "\n",
       "    .dataframe thead th {\n",
       "        text-align: right;\n",
       "    }\n",
       "</style>\n",
       "<table border=\"1\" class=\"dataframe\">\n",
       "  <thead>\n",
       "    <tr style=\"text-align: right;\">\n",
       "      <th></th>\n",
       "      <th>sum</th>\n",
       "      <th>percentage</th>\n",
       "    </tr>\n",
       "  </thead>\n",
       "  <tbody>\n",
       "  </tbody>\n",
       "</table>\n",
       "</div>"
      ],
      "text/plain": [
       "Empty DataFrame\n",
       "Columns: [sum, percentage]\n",
       "Index: []"
      ]
     },
     "execution_count": 7,
     "metadata": {},
     "output_type": "execute_result"
    }
   ],
   "source": [
    "missing = pd.DataFrame()\n",
    "missing[\"sum\"]=df.isna().sum()\n",
    "missing[\"percentage\"]= df.isna().mean() * 100\n",
    "missing=missing[missing[\"sum\"]>0].sort_values(ascending=False,by='sum')\n",
    "missing"
   ]
  },
  {
   "cell_type": "markdown",
   "id": "9fb7a389-99ae-4b51-a426-3f5ac28af9a4",
   "metadata": {},
   "source": [
    "* so no missing values\n",
    "* looking into head i can say campain_id is not so useful so drop it"
   ]
  },
  {
   "cell_type": "code",
   "execution_count": 8,
   "id": "7382c526-4d75-4cd6-b860-5050c3d0396c",
   "metadata": {},
   "outputs": [],
   "source": [
    "df.drop(\"campaign_id\",axis=1,inplace=True)"
   ]
  },
  {
   "cell_type": "code",
   "execution_count": 9,
   "id": "08f24062-b3c9-43a1-afe5-b8873417e854",
   "metadata": {},
   "outputs": [
    {
     "data": {
      "text/html": [
       "<div>\n",
       "<style scoped>\n",
       "    .dataframe tbody tr th:only-of-type {\n",
       "        vertical-align: middle;\n",
       "    }\n",
       "\n",
       "    .dataframe tbody tr th {\n",
       "        vertical-align: top;\n",
       "    }\n",
       "\n",
       "    .dataframe thead th {\n",
       "        text-align: right;\n",
       "    }\n",
       "</style>\n",
       "<table border=\"1\" class=\"dataframe\">\n",
       "  <thead>\n",
       "    <tr style=\"text-align: right;\">\n",
       "      <th></th>\n",
       "      <th>sender</th>\n",
       "      <th>subject_len</th>\n",
       "      <th>body_len</th>\n",
       "      <th>mean_paragraph_len</th>\n",
       "      <th>day_of_week</th>\n",
       "      <th>is_weekend</th>\n",
       "      <th>times_of_day</th>\n",
       "      <th>category</th>\n",
       "      <th>product</th>\n",
       "      <th>no_of_CTA</th>\n",
       "      <th>mean_CTA_len</th>\n",
       "      <th>is_image</th>\n",
       "      <th>is_personalised</th>\n",
       "      <th>is_quote</th>\n",
       "      <th>is_timer</th>\n",
       "      <th>is_emoticons</th>\n",
       "      <th>is_discount</th>\n",
       "      <th>is_price</th>\n",
       "      <th>is_urgency</th>\n",
       "      <th>target_audience</th>\n",
       "      <th>click_rate</th>\n",
       "    </tr>\n",
       "  </thead>\n",
       "  <tbody>\n",
       "    <tr>\n",
       "      <th>0</th>\n",
       "      <td>3</td>\n",
       "      <td>76</td>\n",
       "      <td>10439</td>\n",
       "      <td>39</td>\n",
       "      <td>5</td>\n",
       "      <td>1</td>\n",
       "      <td>Noon</td>\n",
       "      <td>6</td>\n",
       "      <td>26</td>\n",
       "      <td>3</td>\n",
       "      <td>29</td>\n",
       "      <td>0</td>\n",
       "      <td>0</td>\n",
       "      <td>0</td>\n",
       "      <td>0</td>\n",
       "      <td>0</td>\n",
       "      <td>0</td>\n",
       "      <td>0</td>\n",
       "      <td>0</td>\n",
       "      <td>14</td>\n",
       "      <td>0.103079</td>\n",
       "    </tr>\n",
       "    <tr>\n",
       "      <th>1</th>\n",
       "      <td>3</td>\n",
       "      <td>54</td>\n",
       "      <td>2570</td>\n",
       "      <td>256</td>\n",
       "      <td>5</td>\n",
       "      <td>1</td>\n",
       "      <td>Morning</td>\n",
       "      <td>2</td>\n",
       "      <td>11</td>\n",
       "      <td>0</td>\n",
       "      <td>22</td>\n",
       "      <td>0</td>\n",
       "      <td>0</td>\n",
       "      <td>0</td>\n",
       "      <td>0</td>\n",
       "      <td>0</td>\n",
       "      <td>0</td>\n",
       "      <td>0</td>\n",
       "      <td>0</td>\n",
       "      <td>10</td>\n",
       "      <td>0.700000</td>\n",
       "    </tr>\n",
       "    <tr>\n",
       "      <th>2</th>\n",
       "      <td>3</td>\n",
       "      <td>59</td>\n",
       "      <td>12801</td>\n",
       "      <td>16</td>\n",
       "      <td>5</td>\n",
       "      <td>1</td>\n",
       "      <td>Noon</td>\n",
       "      <td>2</td>\n",
       "      <td>11</td>\n",
       "      <td>3</td>\n",
       "      <td>23</td>\n",
       "      <td>1</td>\n",
       "      <td>0</td>\n",
       "      <td>1</td>\n",
       "      <td>0</td>\n",
       "      <td>0</td>\n",
       "      <td>0</td>\n",
       "      <td>0</td>\n",
       "      <td>0</td>\n",
       "      <td>16</td>\n",
       "      <td>0.002769</td>\n",
       "    </tr>\n",
       "    <tr>\n",
       "      <th>3</th>\n",
       "      <td>3</td>\n",
       "      <td>74</td>\n",
       "      <td>11037</td>\n",
       "      <td>30</td>\n",
       "      <td>4</td>\n",
       "      <td>0</td>\n",
       "      <td>Evening</td>\n",
       "      <td>15</td>\n",
       "      <td>9</td>\n",
       "      <td>4</td>\n",
       "      <td>24</td>\n",
       "      <td>0</td>\n",
       "      <td>0</td>\n",
       "      <td>0</td>\n",
       "      <td>0</td>\n",
       "      <td>0</td>\n",
       "      <td>0</td>\n",
       "      <td>0</td>\n",
       "      <td>0</td>\n",
       "      <td>10</td>\n",
       "      <td>0.010868</td>\n",
       "    </tr>\n",
       "    <tr>\n",
       "      <th>4</th>\n",
       "      <td>3</td>\n",
       "      <td>80</td>\n",
       "      <td>10011</td>\n",
       "      <td>27</td>\n",
       "      <td>5</td>\n",
       "      <td>1</td>\n",
       "      <td>Noon</td>\n",
       "      <td>6</td>\n",
       "      <td>26</td>\n",
       "      <td>3</td>\n",
       "      <td>31</td>\n",
       "      <td>0</td>\n",
       "      <td>0</td>\n",
       "      <td>1</td>\n",
       "      <td>0</td>\n",
       "      <td>0</td>\n",
       "      <td>0</td>\n",
       "      <td>0</td>\n",
       "      <td>0</td>\n",
       "      <td>14</td>\n",
       "      <td>0.142826</td>\n",
       "    </tr>\n",
       "  </tbody>\n",
       "</table>\n",
       "</div>"
      ],
      "text/plain": [
       "   sender  subject_len  body_len  mean_paragraph_len  day_of_week  is_weekend  \\\n",
       "0       3           76     10439                  39            5           1   \n",
       "1       3           54      2570                 256            5           1   \n",
       "2       3           59     12801                  16            5           1   \n",
       "3       3           74     11037                  30            4           0   \n",
       "4       3           80     10011                  27            5           1   \n",
       "\n",
       "  times_of_day  category  product  no_of_CTA  mean_CTA_len  is_image  \\\n",
       "0         Noon         6       26          3            29         0   \n",
       "1      Morning         2       11          0            22         0   \n",
       "2         Noon         2       11          3            23         1   \n",
       "3      Evening        15        9          4            24         0   \n",
       "4         Noon         6       26          3            31         0   \n",
       "\n",
       "   is_personalised  is_quote  is_timer  is_emoticons  is_discount  is_price  \\\n",
       "0                0         0         0             0            0         0   \n",
       "1                0         0         0             0            0         0   \n",
       "2                0         1         0             0            0         0   \n",
       "3                0         0         0             0            0         0   \n",
       "4                0         1         0             0            0         0   \n",
       "\n",
       "   is_urgency  target_audience  click_rate  \n",
       "0           0               14    0.103079  \n",
       "1           0               10    0.700000  \n",
       "2           0               16    0.002769  \n",
       "3           0               10    0.010868  \n",
       "4           0               14    0.142826  "
      ]
     },
     "execution_count": 9,
     "metadata": {},
     "output_type": "execute_result"
    }
   ],
   "source": [
    "df.head()"
   ]
  },
  {
   "cell_type": "markdown",
   "id": "982bc702-9bc6-4c2d-83f1-9ee439d90497",
   "metadata": {},
   "source": [
    "* we will split data into `x,y` and `x` further into `continuios, catagorical and boolean` data "
   ]
  },
  {
   "cell_type": "code",
   "execution_count": 10,
   "id": "0d94372f-21ee-413d-98f9-a6e0ab88a788",
   "metadata": {},
   "outputs": [],
   "source": [
    "x=df.drop(\"click_rate\",axis=1)\n",
    "y=df.click_rate"
   ]
  },
  {
   "cell_type": "code",
   "execution_count": 11,
   "id": "23ffb8ab-a943-4117-a04a-d2aa3b90642d",
   "metadata": {},
   "outputs": [],
   "source": [
    "unique=[]\n",
    "bool_col=[]\n",
    "cat_col=[]\n",
    "cont_col =[]"
   ]
  },
  {
   "cell_type": "code",
   "execution_count": 12,
   "id": "c9e19d12-b757-4df4-b2a0-4fbb855bd224",
   "metadata": {},
   "outputs": [],
   "source": [
    "for i in x.columns:\n",
    "    n_values = x[i].nunique()\n",
    "    if n_values==1:\n",
    "        unique.append(i)\n",
    "    elif n_values == 2:\n",
    "        bool_col.append(i)\n",
    "    elif n_values < 10:\n",
    "        cat_col.append(i)\n",
    "    else:\n",
    "        cont_col.append(i)"
   ]
  },
  {
   "cell_type": "code",
   "execution_count": 13,
   "id": "964c4af4-6740-4d14-8274-f06172ec8ce7",
   "metadata": {},
   "outputs": [
    {
     "name": "stdout",
     "output_type": "stream",
     "text": [
      "Unique columns in the data are : ['is_timer']\n",
      " \n",
      "Boolean columns in the data are : ['is_weekend', 'is_personalised', 'is_discount', 'is_urgency']\n",
      " \n",
      "Catagorical columns in the data are : ['day_of_week', 'times_of_day', 'is_image', 'is_quote', 'is_emoticons', 'is_price']\n",
      " \n",
      "Continuious columns in the data are : ['sender', 'subject_len', 'body_len', 'mean_paragraph_len', 'category', 'product', 'no_of_CTA', 'mean_CTA_len', 'target_audience']\n",
      " \n"
     ]
    }
   ],
   "source": [
    "print(\"Unique columns in the data are :\",unique,end='\\n \\n')\n",
    "print(\"Boolean columns in the data are :\",bool_col,end='\\n \\n')\n",
    "print(\"Catagorical columns in the data are :\",cat_col,end='\\n \\n')\n",
    "print(\"Continuious columns in the data are :\",cont_col,end='\\n \\n')"
   ]
  },
  {
   "cell_type": "code",
   "execution_count": 14,
   "id": "4d081eb9-d31c-4e1e-8796-e692910fa539",
   "metadata": {},
   "outputs": [],
   "source": [
    "x.drop(unique,axis=1,inplace=True)"
   ]
  },
  {
   "cell_type": "code",
   "execution_count": 15,
   "id": "dc187077-8a3b-4efc-9830-00cdb0b806fa",
   "metadata": {},
   "outputs": [],
   "source": [
    "df_test.drop(unique,axis=1,inplace=True)"
   ]
  },
  {
   "cell_type": "code",
   "execution_count": 16,
   "id": "990ada27-e21c-4cdf-a1c5-914faf7105a0",
   "metadata": {},
   "outputs": [
    {
     "data": {
      "text/html": [
       "<div>\n",
       "<style scoped>\n",
       "    .dataframe tbody tr th:only-of-type {\n",
       "        vertical-align: middle;\n",
       "    }\n",
       "\n",
       "    .dataframe tbody tr th {\n",
       "        vertical-align: top;\n",
       "    }\n",
       "\n",
       "    .dataframe thead th {\n",
       "        text-align: right;\n",
       "    }\n",
       "</style>\n",
       "<table border=\"1\" class=\"dataframe\">\n",
       "  <thead>\n",
       "    <tr style=\"text-align: right;\">\n",
       "      <th></th>\n",
       "      <th>sender</th>\n",
       "      <th>subject_len</th>\n",
       "      <th>body_len</th>\n",
       "      <th>mean_paragraph_len</th>\n",
       "      <th>day_of_week</th>\n",
       "      <th>is_weekend</th>\n",
       "      <th>times_of_day</th>\n",
       "      <th>category</th>\n",
       "      <th>product</th>\n",
       "      <th>no_of_CTA</th>\n",
       "      <th>mean_CTA_len</th>\n",
       "      <th>is_image</th>\n",
       "      <th>is_personalised</th>\n",
       "      <th>is_quote</th>\n",
       "      <th>is_emoticons</th>\n",
       "      <th>is_discount</th>\n",
       "      <th>is_price</th>\n",
       "      <th>is_urgency</th>\n",
       "      <th>target_audience</th>\n",
       "    </tr>\n",
       "  </thead>\n",
       "  <tbody>\n",
       "    <tr>\n",
       "      <th>0</th>\n",
       "      <td>3</td>\n",
       "      <td>76</td>\n",
       "      <td>10439</td>\n",
       "      <td>39</td>\n",
       "      <td>5</td>\n",
       "      <td>1</td>\n",
       "      <td>Noon</td>\n",
       "      <td>6</td>\n",
       "      <td>26</td>\n",
       "      <td>3</td>\n",
       "      <td>29</td>\n",
       "      <td>0</td>\n",
       "      <td>0</td>\n",
       "      <td>0</td>\n",
       "      <td>0</td>\n",
       "      <td>0</td>\n",
       "      <td>0</td>\n",
       "      <td>0</td>\n",
       "      <td>14</td>\n",
       "    </tr>\n",
       "    <tr>\n",
       "      <th>1</th>\n",
       "      <td>3</td>\n",
       "      <td>54</td>\n",
       "      <td>2570</td>\n",
       "      <td>256</td>\n",
       "      <td>5</td>\n",
       "      <td>1</td>\n",
       "      <td>Morning</td>\n",
       "      <td>2</td>\n",
       "      <td>11</td>\n",
       "      <td>0</td>\n",
       "      <td>22</td>\n",
       "      <td>0</td>\n",
       "      <td>0</td>\n",
       "      <td>0</td>\n",
       "      <td>0</td>\n",
       "      <td>0</td>\n",
       "      <td>0</td>\n",
       "      <td>0</td>\n",
       "      <td>10</td>\n",
       "    </tr>\n",
       "    <tr>\n",
       "      <th>2</th>\n",
       "      <td>3</td>\n",
       "      <td>59</td>\n",
       "      <td>12801</td>\n",
       "      <td>16</td>\n",
       "      <td>5</td>\n",
       "      <td>1</td>\n",
       "      <td>Noon</td>\n",
       "      <td>2</td>\n",
       "      <td>11</td>\n",
       "      <td>3</td>\n",
       "      <td>23</td>\n",
       "      <td>1</td>\n",
       "      <td>0</td>\n",
       "      <td>1</td>\n",
       "      <td>0</td>\n",
       "      <td>0</td>\n",
       "      <td>0</td>\n",
       "      <td>0</td>\n",
       "      <td>16</td>\n",
       "    </tr>\n",
       "    <tr>\n",
       "      <th>3</th>\n",
       "      <td>3</td>\n",
       "      <td>74</td>\n",
       "      <td>11037</td>\n",
       "      <td>30</td>\n",
       "      <td>4</td>\n",
       "      <td>0</td>\n",
       "      <td>Evening</td>\n",
       "      <td>15</td>\n",
       "      <td>9</td>\n",
       "      <td>4</td>\n",
       "      <td>24</td>\n",
       "      <td>0</td>\n",
       "      <td>0</td>\n",
       "      <td>0</td>\n",
       "      <td>0</td>\n",
       "      <td>0</td>\n",
       "      <td>0</td>\n",
       "      <td>0</td>\n",
       "      <td>10</td>\n",
       "    </tr>\n",
       "    <tr>\n",
       "      <th>4</th>\n",
       "      <td>3</td>\n",
       "      <td>80</td>\n",
       "      <td>10011</td>\n",
       "      <td>27</td>\n",
       "      <td>5</td>\n",
       "      <td>1</td>\n",
       "      <td>Noon</td>\n",
       "      <td>6</td>\n",
       "      <td>26</td>\n",
       "      <td>3</td>\n",
       "      <td>31</td>\n",
       "      <td>0</td>\n",
       "      <td>0</td>\n",
       "      <td>1</td>\n",
       "      <td>0</td>\n",
       "      <td>0</td>\n",
       "      <td>0</td>\n",
       "      <td>0</td>\n",
       "      <td>14</td>\n",
       "    </tr>\n",
       "  </tbody>\n",
       "</table>\n",
       "</div>"
      ],
      "text/plain": [
       "   sender  subject_len  body_len  mean_paragraph_len  day_of_week  is_weekend  \\\n",
       "0       3           76     10439                  39            5           1   \n",
       "1       3           54      2570                 256            5           1   \n",
       "2       3           59     12801                  16            5           1   \n",
       "3       3           74     11037                  30            4           0   \n",
       "4       3           80     10011                  27            5           1   \n",
       "\n",
       "  times_of_day  category  product  no_of_CTA  mean_CTA_len  is_image  \\\n",
       "0         Noon         6       26          3            29         0   \n",
       "1      Morning         2       11          0            22         0   \n",
       "2         Noon         2       11          3            23         1   \n",
       "3      Evening        15        9          4            24         0   \n",
       "4         Noon         6       26          3            31         0   \n",
       "\n",
       "   is_personalised  is_quote  is_emoticons  is_discount  is_price  is_urgency  \\\n",
       "0                0         0             0            0         0           0   \n",
       "1                0         0             0            0         0           0   \n",
       "2                0         1             0            0         0           0   \n",
       "3                0         0             0            0         0           0   \n",
       "4                0         1             0            0         0           0   \n",
       "\n",
       "   target_audience  \n",
       "0               14  \n",
       "1               10  \n",
       "2               16  \n",
       "3               10  \n",
       "4               14  "
      ]
     },
     "execution_count": 16,
     "metadata": {},
     "output_type": "execute_result"
    }
   ],
   "source": [
    "x.head()"
   ]
  },
  {
   "cell_type": "code",
   "execution_count": 17,
   "id": "e557584a-860c-4db5-9748-385ee2dc9785",
   "metadata": {},
   "outputs": [
    {
     "data": {
      "text/plain": [
       "(1888, 19)"
      ]
     },
     "execution_count": 17,
     "metadata": {},
     "output_type": "execute_result"
    }
   ],
   "source": [
    "x.shape"
   ]
  },
  {
   "cell_type": "markdown",
   "id": "c564eece-38e6-4032-bd00-4c26115015ea",
   "metadata": {},
   "source": [
    "# boolean Data"
   ]
  },
  {
   "cell_type": "code",
   "execution_count": 18,
   "id": "ae574e61-6e65-49e5-a19f-e7cdc6e672a4",
   "metadata": {},
   "outputs": [
    {
     "data": {
      "text/html": [
       "<div>\n",
       "<style scoped>\n",
       "    .dataframe tbody tr th:only-of-type {\n",
       "        vertical-align: middle;\n",
       "    }\n",
       "\n",
       "    .dataframe tbody tr th {\n",
       "        vertical-align: top;\n",
       "    }\n",
       "\n",
       "    .dataframe thead th {\n",
       "        text-align: right;\n",
       "    }\n",
       "</style>\n",
       "<table border=\"1\" class=\"dataframe\">\n",
       "  <thead>\n",
       "    <tr style=\"text-align: right;\">\n",
       "      <th></th>\n",
       "      <th>is_weekend</th>\n",
       "      <th>is_personalised</th>\n",
       "      <th>is_discount</th>\n",
       "      <th>is_urgency</th>\n",
       "    </tr>\n",
       "  </thead>\n",
       "  <tbody>\n",
       "    <tr>\n",
       "      <th>0</th>\n",
       "      <td>1</td>\n",
       "      <td>0</td>\n",
       "      <td>0</td>\n",
       "      <td>0</td>\n",
       "    </tr>\n",
       "    <tr>\n",
       "      <th>1</th>\n",
       "      <td>1</td>\n",
       "      <td>0</td>\n",
       "      <td>0</td>\n",
       "      <td>0</td>\n",
       "    </tr>\n",
       "    <tr>\n",
       "      <th>2</th>\n",
       "      <td>1</td>\n",
       "      <td>0</td>\n",
       "      <td>0</td>\n",
       "      <td>0</td>\n",
       "    </tr>\n",
       "    <tr>\n",
       "      <th>3</th>\n",
       "      <td>0</td>\n",
       "      <td>0</td>\n",
       "      <td>0</td>\n",
       "      <td>0</td>\n",
       "    </tr>\n",
       "    <tr>\n",
       "      <th>4</th>\n",
       "      <td>1</td>\n",
       "      <td>0</td>\n",
       "      <td>0</td>\n",
       "      <td>0</td>\n",
       "    </tr>\n",
       "  </tbody>\n",
       "</table>\n",
       "</div>"
      ],
      "text/plain": [
       "   is_weekend  is_personalised  is_discount  is_urgency\n",
       "0           1                0            0           0\n",
       "1           1                0            0           0\n",
       "2           1                0            0           0\n",
       "3           0                0            0           0\n",
       "4           1                0            0           0"
      ]
     },
     "execution_count": 18,
     "metadata": {},
     "output_type": "execute_result"
    }
   ],
   "source": [
    "x[bool_col].head()"
   ]
  },
  {
   "cell_type": "markdown",
   "id": "5247c49c-cad1-4760-b084-afbe928792cc",
   "metadata": {},
   "source": [
    "# Catagorical Columns"
   ]
  },
  {
   "cell_type": "code",
   "execution_count": 19,
   "id": "110cf43b-d757-4383-babb-e909b4c7d9f0",
   "metadata": {},
   "outputs": [
    {
     "data": {
      "text/html": [
       "<div>\n",
       "<style scoped>\n",
       "    .dataframe tbody tr th:only-of-type {\n",
       "        vertical-align: middle;\n",
       "    }\n",
       "\n",
       "    .dataframe tbody tr th {\n",
       "        vertical-align: top;\n",
       "    }\n",
       "\n",
       "    .dataframe thead th {\n",
       "        text-align: right;\n",
       "    }\n",
       "</style>\n",
       "<table border=\"1\" class=\"dataframe\">\n",
       "  <thead>\n",
       "    <tr style=\"text-align: right;\">\n",
       "      <th></th>\n",
       "      <th>day_of_week</th>\n",
       "      <th>times_of_day</th>\n",
       "      <th>is_image</th>\n",
       "      <th>is_quote</th>\n",
       "      <th>is_emoticons</th>\n",
       "      <th>is_price</th>\n",
       "    </tr>\n",
       "  </thead>\n",
       "  <tbody>\n",
       "    <tr>\n",
       "      <th>0</th>\n",
       "      <td>5</td>\n",
       "      <td>Noon</td>\n",
       "      <td>0</td>\n",
       "      <td>0</td>\n",
       "      <td>0</td>\n",
       "      <td>0</td>\n",
       "    </tr>\n",
       "    <tr>\n",
       "      <th>1</th>\n",
       "      <td>5</td>\n",
       "      <td>Morning</td>\n",
       "      <td>0</td>\n",
       "      <td>0</td>\n",
       "      <td>0</td>\n",
       "      <td>0</td>\n",
       "    </tr>\n",
       "    <tr>\n",
       "      <th>2</th>\n",
       "      <td>5</td>\n",
       "      <td>Noon</td>\n",
       "      <td>1</td>\n",
       "      <td>1</td>\n",
       "      <td>0</td>\n",
       "      <td>0</td>\n",
       "    </tr>\n",
       "    <tr>\n",
       "      <th>3</th>\n",
       "      <td>4</td>\n",
       "      <td>Evening</td>\n",
       "      <td>0</td>\n",
       "      <td>0</td>\n",
       "      <td>0</td>\n",
       "      <td>0</td>\n",
       "    </tr>\n",
       "    <tr>\n",
       "      <th>4</th>\n",
       "      <td>5</td>\n",
       "      <td>Noon</td>\n",
       "      <td>0</td>\n",
       "      <td>1</td>\n",
       "      <td>0</td>\n",
       "      <td>0</td>\n",
       "    </tr>\n",
       "  </tbody>\n",
       "</table>\n",
       "</div>"
      ],
      "text/plain": [
       "   day_of_week times_of_day  is_image  is_quote  is_emoticons  is_price\n",
       "0            5         Noon         0         0             0         0\n",
       "1            5      Morning         0         0             0         0\n",
       "2            5         Noon         1         1             0         0\n",
       "3            4      Evening         0         0             0         0\n",
       "4            5         Noon         0         1             0         0"
      ]
     },
     "execution_count": 19,
     "metadata": {},
     "output_type": "execute_result"
    }
   ],
   "source": [
    "x[cat_col].head()"
   ]
  },
  {
   "cell_type": "markdown",
   "id": "ab499faf-9b68-4854-9b0e-d14b259939a0",
   "metadata": {},
   "source": [
    "* `day_of_week,is_image, is_quote, is_emotiocons` looks numerial but still it is undr catagorical section\n",
    "* `is_price` looks boolean but are in catagorical section \n",
    "* lets analyze the data'"
   ]
  },
  {
   "cell_type": "code",
   "execution_count": 20,
   "id": "40050b9e-4355-41b7-8bca-d48be56414c8",
   "metadata": {},
   "outputs": [
    {
     "data": {
      "text/plain": [
       "<AxesSubplot:xlabel='day_of_week', ylabel='count'>"
      ]
     },
     "execution_count": 20,
     "metadata": {},
     "output_type": "execute_result"
    },
    {
     "data": {
      "image/png": "[encoded data removed]",
      "text/plain": [
       "<Figure size 432x288 with 1 Axes>"
      ]
     },
     "metadata": {
      "needs_background": "light"
     },
     "output_type": "display_data"
    }
   ],
   "source": [
    "sns.countplot(x=x.day_of_week)"
   ]
  },
  {
   "cell_type": "code",
   "execution_count": 21,
   "id": "11bdad38-69f6-462e-a4ca-78be2155e27b",
   "metadata": {},
   "outputs": [
    {
     "data": {
      "text/plain": [
       "<AxesSubplot:xlabel='day_of_week', ylabel='click_rate'>"
      ]
     },
     "execution_count": 21,
     "metadata": {},
     "output_type": "execute_result"
    },
    {
     "data": {
      "image/png": "[encoded data removed]",
      "text/plain": [
       "<Figure size 432x288 with 1 Axes>"
      ]
     },
     "metadata": {
      "needs_background": "light"
     },
     "output_type": "display_data"
    }
   ],
   "source": [
    "sns.boxplot(x=x.day_of_week,y=y)"
   ]
  },
  {
   "cell_type": "code",
   "execution_count": null,
   "id": "ee05970d-2727-4acb-ac04-bf1d23bde1d6",
   "metadata": {},
   "outputs": [],
   "source": []
  },
  {
   "cell_type": "markdown",
   "id": "d0ada887-a278-4d55-99b1-aff3fde2f442",
   "metadata": {},
   "source": [
    "* Though it looks numerical data it is actually catagorical by nature \n",
    "* so we will convert tthis to catagorical data"
   ]
  },
  {
   "cell_type": "code",
   "execution_count": 22,
   "id": "6bd2c5d3-76ff-4fee-bc31-3976d0cfcb01",
   "metadata": {},
   "outputs": [],
   "source": [
    "x.day_of_week=x.day_of_week.astype('object')"
   ]
  },
  {
   "cell_type": "code",
   "execution_count": 23,
   "id": "676f1c02-7c3a-4d27-9c39-bfab2d2cfe6f",
   "metadata": {},
   "outputs": [],
   "source": [
    "df_test.day_of_week=df_test.day_of_week.astype('object')"
   ]
  },
  {
   "cell_type": "code",
   "execution_count": 24,
   "id": "85f8ce2f-7f6d-487f-b7cd-da967683d841",
   "metadata": {},
   "outputs": [
    {
     "name": "stderr",
     "output_type": "stream",
     "text": [
      "/home/thecybermonster/.local/lib/python3.10/site-packages/seaborn/_decorators.py:36: FutureWarning: Pass the following variable as a keyword arg: x. From version 0.12, the only valid positional argument will be `data`, and passing other arguments without an explicit keyword will result in an error or misinterpretation.\n",
      "  warnings.warn(\n"
     ]
    },
    {
     "data": {
      "text/plain": [
       "<AxesSubplot:xlabel='is_image', ylabel='count'>"
      ]
     },
     "execution_count": 24,
     "metadata": {},
     "output_type": "execute_result"
    },
    {
     "data": {
      "image/png": "[encoded data removed]",
      "text/plain": [
       "<Figure size 432x288 with 1 Axes>"
      ]
     },
     "metadata": {
      "needs_background": "light"
     },
     "output_type": "display_data"
    }
   ],
   "source": [
    "# is_image\n",
    "sns.countplot(x.is_image)"
   ]
  },
  {
   "cell_type": "markdown",
   "id": "1508a83d-ce8a-4e74-9e24-7de6564937ee",
   "metadata": {},
   "source": [
    "* is_image if no of image >2 is very minor in share so we will group them as a feature"
   ]
  },
  {
   "cell_type": "code",
   "execution_count": 25,
   "id": "dd819548-b69c-42df-8f8e-0ad80680fc45",
   "metadata": {},
   "outputs": [],
   "source": [
    "x.is_image= x.is_image.apply(lambda x: 3 if x>2 else x)\n",
    "df_test.is_image=df_test.is_image.apply(lambda x: 3 if x>2 else x)"
   ]
  },
  {
   "cell_type": "code",
   "execution_count": 26,
   "id": "a79a1f42-0f46-460a-94a5-22f9b41200bc",
   "metadata": {},
   "outputs": [
    {
     "name": "stderr",
     "output_type": "stream",
     "text": [
      "/home/thecybermonster/.local/lib/python3.10/site-packages/seaborn/_decorators.py:36: FutureWarning: Pass the following variable as a keyword arg: x. From version 0.12, the only valid positional argument will be `data`, and passing other arguments without an explicit keyword will result in an error or misinterpretation.\n",
      "  warnings.warn(\n"
     ]
    },
    {
     "data": {
      "text/plain": [
       "<AxesSubplot:xlabel='is_image', ylabel='count'>"
      ]
     },
     "execution_count": 26,
     "metadata": {},
     "output_type": "execute_result"
    },
    {
     "data": {
      "image/png": "[encoded data removed]",
      "text/plain": [
       "<Figure size 432x288 with 1 Axes>"
      ]
     },
     "metadata": {
      "needs_background": "light"
     },
     "output_type": "display_data"
    }
   ],
   "source": [
    "sns.countplot(x.is_image)"
   ]
  },
  {
   "cell_type": "code",
   "execution_count": 27,
   "id": "7c74c9e0-6d5d-4d76-8a35-ebbc0654b5e9",
   "metadata": {},
   "outputs": [
    {
     "name": "stderr",
     "output_type": "stream",
     "text": [
      "/home/thecybermonster/.local/lib/python3.10/site-packages/seaborn/_decorators.py:36: FutureWarning: Pass the following variable as a keyword arg: x. From version 0.12, the only valid positional argument will be `data`, and passing other arguments without an explicit keyword will result in an error or misinterpretation.\n",
      "  warnings.warn(\n"
     ]
    },
    {
     "data": {
      "text/plain": [
       "<AxesSubplot:xlabel='is_quote', ylabel='count'>"
      ]
     },
     "execution_count": 27,
     "metadata": {},
     "output_type": "execute_result"
    },
    {
     "data": {
      "image/png": "[encoded data removed]",
      "text/plain": [
       "<Figure size 432x288 with 1 Axes>"
      ]
     },
     "metadata": {
      "needs_background": "light"
     },
     "output_type": "display_data"
    }
   ],
   "source": [
    "# is_quote\n",
    "sns.countplot(x.is_quote)"
   ]
  },
  {
   "cell_type": "markdown",
   "id": "62eb999a-2a48-4b15-bb82-0bff722058a7",
   "metadata": {},
   "source": [
    "* if is_quote> 3 we will group them as feature we will impute 100 as other option to have an understanding"
   ]
  },
  {
   "cell_type": "code",
   "execution_count": 28,
   "id": "a5278c19-5554-46d4-9ff1-8effb40e8425",
   "metadata": {},
   "outputs": [],
   "source": [
    "x.is_quote =x.is_quote.apply(lambda x: 100 if x>3 else x)\n",
    "df_test.is_quote=df_test.is_quote.apply(lambda x: 100 if x>3 else x)"
   ]
  },
  {
   "cell_type": "code",
   "execution_count": 29,
   "id": "6b128d68-852c-4e5f-82b1-6b063f4ea35f",
   "metadata": {},
   "outputs": [
    {
     "name": "stderr",
     "output_type": "stream",
     "text": [
      "/home/thecybermonster/.local/lib/python3.10/site-packages/seaborn/_decorators.py:36: FutureWarning: Pass the following variable as a keyword arg: x. From version 0.12, the only valid positional argument will be `data`, and passing other arguments without an explicit keyword will result in an error or misinterpretation.\n",
      "  warnings.warn(\n"
     ]
    },
    {
     "data": {
      "text/plain": [
       "<AxesSubplot:xlabel='is_quote', ylabel='count'>"
      ]
     },
     "execution_count": 29,
     "metadata": {},
     "output_type": "execute_result"
    },
    {
     "data": {
      "image/png": "[encoded data removed]",
      "text/plain": [
       "<Figure size 432x288 with 1 Axes>"
      ]
     },
     "metadata": {
      "needs_background": "light"
     },
     "output_type": "display_data"
    }
   ],
   "source": [
    "sns.countplot(x.is_quote)"
   ]
  },
  {
   "cell_type": "code",
   "execution_count": 30,
   "id": "d6601d5a-c1df-4568-a6c8-4683f45a0f87",
   "metadata": {},
   "outputs": [
    {
     "name": "stderr",
     "output_type": "stream",
     "text": [
      "/home/thecybermonster/.local/lib/python3.10/site-packages/seaborn/_decorators.py:36: FutureWarning: Pass the following variable as a keyword arg: x. From version 0.12, the only valid positional argument will be `data`, and passing other arguments without an explicit keyword will result in an error or misinterpretation.\n",
      "  warnings.warn(\n"
     ]
    },
    {
     "data": {
      "text/plain": [
       "<AxesSubplot:xlabel='is_emoticons', ylabel='count'>"
      ]
     },
     "execution_count": 30,
     "metadata": {},
     "output_type": "execute_result"
    },
    {
     "data": {
      "image/png": "[encoded data removed]",
      "text/plain": [
       "<Figure size 432x288 with 1 Axes>"
      ]
     },
     "metadata": {
      "needs_background": "light"
     },
     "output_type": "display_data"
    }
   ],
   "source": [
    "# is_emoticons\n",
    "sns.countplot(x.is_emoticons)"
   ]
  },
  {
   "cell_type": "markdown",
   "id": "190c944e-9bac-4d60-9123-5418df4fa30d",
   "metadata": {},
   "source": [
    "* data is very skewed we will make  is if 0 else 1"
   ]
  },
  {
   "cell_type": "code",
   "execution_count": 31,
   "id": "f6c69cc2-54d1-4bef-844a-2617c43839fd",
   "metadata": {},
   "outputs": [],
   "source": [
    "x.is_emoticons = x.is_emoticons.apply(lambda x : 0 if x==0 else 1)\n",
    "df_test.is_emoticons=df_test.is_emoticons.apply(lambda x : 0 if x==0 else 1)"
   ]
  },
  {
   "cell_type": "code",
   "execution_count": 32,
   "id": "911d18bd-17ba-4efe-a93a-79287e5ad313",
   "metadata": {},
   "outputs": [
    {
     "name": "stderr",
     "output_type": "stream",
     "text": [
      "/home/thecybermonster/.local/lib/python3.10/site-packages/seaborn/_decorators.py:36: FutureWarning: Pass the following variable as a keyword arg: x. From version 0.12, the only valid positional argument will be `data`, and passing other arguments without an explicit keyword will result in an error or misinterpretation.\n",
      "  warnings.warn(\n"
     ]
    },
    {
     "data": {
      "text/plain": [
       "<AxesSubplot:xlabel='is_emoticons', ylabel='count'>"
      ]
     },
     "execution_count": 32,
     "metadata": {},
     "output_type": "execute_result"
    },
    {
     "data": {
      "image/png": "[encoded data removed]",
      "text/plain": [
       "<Figure size 432x288 with 1 Axes>"
      ]
     },
     "metadata": {
      "needs_background": "light"
     },
     "output_type": "display_data"
    }
   ],
   "source": [
    "sns.countplot(x.is_emoticons)"
   ]
  },
  {
   "cell_type": "markdown",
   "id": "82b516c5-5eac-4377-98a4-5757b50be0d2",
   "metadata": {},
   "source": [
    "* converting day_of_week,is_image, is_quote, is_emotiocons to object type"
   ]
  },
  {
   "cell_type": "code",
   "execution_count": 33,
   "id": "7a1cc154-e950-4c14-878c-a3a433f576e4",
   "metadata": {},
   "outputs": [],
   "source": [
    "# day_of_week, is_image, is_quote, is_emotiocons\n",
    "x[[\"is_image\", \"is_quote\", \"is_emoticons\"]] =x[[\"is_image\", \"is_quote\", \"is_emoticons\"]].astype('object')\n",
    "df_test[[\"is_image\", \"is_quote\", \"is_emoticons\"]]=df_test[[\"is_image\", \"is_quote\", \"is_emoticons\"]].astype('object')"
   ]
  },
  {
   "cell_type": "code",
   "execution_count": 34,
   "id": "80012b7a-55a1-404d-9341-e2a6b53dd44f",
   "metadata": {},
   "outputs": [
    {
     "name": "stderr",
     "output_type": "stream",
     "text": [
      "/home/thecybermonster/.local/lib/python3.10/site-packages/seaborn/_decorators.py:36: FutureWarning: Pass the following variable as a keyword arg: x. From version 0.12, the only valid positional argument will be `data`, and passing other arguments without an explicit keyword will result in an error or misinterpretation.\n",
      "  warnings.warn(\n"
     ]
    },
    {
     "data": {
      "text/plain": [
       "<AxesSubplot:xlabel='is_price', ylabel='count'>"
      ]
     },
     "execution_count": 34,
     "metadata": {},
     "output_type": "execute_result"
    },
    {
     "data": {
      "image/png": "[encoded data removed]",
      "text/plain": [
       "<Figure size 432x288 with 1 Axes>"
      ]
     },
     "metadata": {
      "needs_background": "light"
     },
     "output_type": "display_data"
    }
   ],
   "source": [
    "# is_image\n",
    "sns.countplot(x.is_price)"
   ]
  },
  {
   "cell_type": "code",
   "execution_count": 35,
   "id": "dcd47e7a-9bb9-45fa-8420-08be9238ec31",
   "metadata": {},
   "outputs": [
    {
     "name": "stderr",
     "output_type": "stream",
     "text": [
      "/home/thecybermonster/.local/lib/python3.10/site-packages/seaborn/_decorators.py:36: FutureWarning: Pass the following variable as a keyword arg: x. From version 0.12, the only valid positional argument will be `data`, and passing other arguments without an explicit keyword will result in an error or misinterpretation.\n",
      "  warnings.warn(\n"
     ]
    },
    {
     "data": {
      "text/plain": [
       "<AxesSubplot:xlabel='is_price', ylabel='count'>"
      ]
     },
     "execution_count": 35,
     "metadata": {},
     "output_type": "execute_result"
    },
    {
     "data": {
      "image/png": "[encoded data removed]",
      "text/plain": [
       "<Figure size 432x288 with 1 Axes>"
      ]
     },
     "metadata": {
      "needs_background": "light"
     },
     "output_type": "display_data"
    }
   ],
   "source": [
    "# is_image\n",
    "sns.countplot(x.is_price)"
   ]
  },
  {
   "cell_type": "code",
   "execution_count": 36,
   "id": "d85639fe-d881-49d5-bd40-148945796824",
   "metadata": {},
   "outputs": [
    {
     "data": {
      "text/plain": [
       "0        0.993114\n",
       "5499     0.002648\n",
       "8000     0.001059\n",
       "5000     0.001059\n",
       "4999     0.000530\n",
       "1399     0.000530\n",
       "1000     0.000530\n",
       "14999    0.000530\n",
       "Name: is_price, dtype: float64"
      ]
     },
     "execution_count": 36,
     "metadata": {},
     "output_type": "execute_result"
    }
   ],
   "source": [
    "x.is_price.value_counts(normalize=True)"
   ]
  },
  {
   "cell_type": "markdown",
   "id": "0c7a80b5-7c1c-448d-8451-56d56437a782",
   "metadata": {},
   "source": [
    "* looking into the data the is totally useless as the data is highly skewed so we will drop it "
   ]
  },
  {
   "cell_type": "code",
   "execution_count": 37,
   "id": "9dd071ec-b23b-47c0-a1de-9aa2a023cd7a",
   "metadata": {},
   "outputs": [],
   "source": [
    "x.drop('is_price',axis=1,inplace=True)\n",
    "df_test.drop('is_price',axis=1,inplace=True)\n",
    "cat_col.remove('is_price')"
   ]
  },
  {
   "cell_type": "markdown",
   "id": "1d294a51-41d0-46b8-b6ab-ab04bc81294f",
   "metadata": {},
   "source": [
    "* we will One hot encode other varibales later we will perform rfe to select kbest out of them"
   ]
  },
  {
   "cell_type": "code",
   "execution_count": 38,
   "id": "eae0ec11-fdc2-414e-9492-bc0bcccbecd4",
   "metadata": {},
   "outputs": [
    {
     "data": {
      "text/html": [
       "<div>\n",
       "<style scoped>\n",
       "    .dataframe tbody tr th:only-of-type {\n",
       "        vertical-align: middle;\n",
       "    }\n",
       "\n",
       "    .dataframe tbody tr th {\n",
       "        vertical-align: top;\n",
       "    }\n",
       "\n",
       "    .dataframe thead th {\n",
       "        text-align: right;\n",
       "    }\n",
       "</style>\n",
       "<table border=\"1\" class=\"dataframe\">\n",
       "  <thead>\n",
       "    <tr style=\"text-align: right;\">\n",
       "      <th></th>\n",
       "      <th>day_of_week</th>\n",
       "      <th>times_of_day</th>\n",
       "      <th>is_image</th>\n",
       "      <th>is_quote</th>\n",
       "      <th>is_emoticons</th>\n",
       "    </tr>\n",
       "  </thead>\n",
       "  <tbody>\n",
       "    <tr>\n",
       "      <th>0</th>\n",
       "      <td>5</td>\n",
       "      <td>Noon</td>\n",
       "      <td>0</td>\n",
       "      <td>0</td>\n",
       "      <td>0</td>\n",
       "    </tr>\n",
       "    <tr>\n",
       "      <th>1</th>\n",
       "      <td>5</td>\n",
       "      <td>Morning</td>\n",
       "      <td>0</td>\n",
       "      <td>0</td>\n",
       "      <td>0</td>\n",
       "    </tr>\n",
       "    <tr>\n",
       "      <th>2</th>\n",
       "      <td>5</td>\n",
       "      <td>Noon</td>\n",
       "      <td>1</td>\n",
       "      <td>1</td>\n",
       "      <td>0</td>\n",
       "    </tr>\n",
       "    <tr>\n",
       "      <th>3</th>\n",
       "      <td>4</td>\n",
       "      <td>Evening</td>\n",
       "      <td>0</td>\n",
       "      <td>0</td>\n",
       "      <td>0</td>\n",
       "    </tr>\n",
       "    <tr>\n",
       "      <th>4</th>\n",
       "      <td>5</td>\n",
       "      <td>Noon</td>\n",
       "      <td>0</td>\n",
       "      <td>1</td>\n",
       "      <td>0</td>\n",
       "    </tr>\n",
       "  </tbody>\n",
       "</table>\n",
       "</div>"
      ],
      "text/plain": [
       "  day_of_week times_of_day is_image is_quote is_emoticons\n",
       "0           5         Noon        0        0            0\n",
       "1           5      Morning        0        0            0\n",
       "2           5         Noon        1        1            0\n",
       "3           4      Evening        0        0            0\n",
       "4           5         Noon        0        1            0"
      ]
     },
     "execution_count": 38,
     "metadata": {},
     "output_type": "execute_result"
    }
   ],
   "source": [
    "x[cat_col].head()"
   ]
  },
  {
   "cell_type": "code",
   "execution_count": 39,
   "id": "c2e10c5e-9dca-46dd-82b3-282a51e5bd75",
   "metadata": {},
   "outputs": [
    {
     "name": "stderr",
     "output_type": "stream",
     "text": [
      "/home/thecybermonster/.local/lib/python3.10/site-packages/pandas/core/algorithms.py:798: FutureWarning: In a future version, the Index constructor will not infer numeric dtypes when passed object-dtype sequences (matching Series behavior)\n",
      "  uniques = Index(uniques)\n",
      "/home/thecybermonster/.local/lib/python3.10/site-packages/pandas/core/algorithms.py:798: FutureWarning: In a future version, the Index constructor will not infer numeric dtypes when passed object-dtype sequences (matching Series behavior)\n",
      "  uniques = Index(uniques)\n",
      "/home/thecybermonster/.local/lib/python3.10/site-packages/pandas/core/algorithms.py:798: FutureWarning: In a future version, the Index constructor will not infer numeric dtypes when passed object-dtype sequences (matching Series behavior)\n",
      "  uniques = Index(uniques)\n",
      "/home/thecybermonster/.local/lib/python3.10/site-packages/pandas/core/algorithms.py:798: FutureWarning: In a future version, the Index constructor will not infer numeric dtypes when passed object-dtype sequences (matching Series behavior)\n",
      "  uniques = Index(uniques)\n",
      "/home/thecybermonster/.local/lib/python3.10/site-packages/pandas/core/algorithms.py:798: FutureWarning: In a future version, the Index constructor will not infer numeric dtypes when passed object-dtype sequences (matching Series behavior)\n",
      "  uniques = Index(uniques)\n",
      "/home/thecybermonster/.local/lib/python3.10/site-packages/pandas/core/algorithms.py:798: FutureWarning: In a future version, the Index constructor will not infer numeric dtypes when passed object-dtype sequences (matching Series behavior)\n",
      "  uniques = Index(uniques)\n",
      "/home/thecybermonster/.local/lib/python3.10/site-packages/pandas/core/algorithms.py:798: FutureWarning: In a future version, the Index constructor will not infer numeric dtypes when passed object-dtype sequences (matching Series behavior)\n",
      "  uniques = Index(uniques)\n",
      "/home/thecybermonster/.local/lib/python3.10/site-packages/pandas/core/algorithms.py:798: FutureWarning: In a future version, the Index constructor will not infer numeric dtypes when passed object-dtype sequences (matching Series behavior)\n",
      "  uniques = Index(uniques)\n"
     ]
    }
   ],
   "source": [
    "for i in cat_col:\n",
    "    dummy=pd.get_dummies(x[i],prefix=i)\n",
    "    x= pd.concat([x,dummy],axis=1)\n",
    "    test_dummy=pd.get_dummies(df_test[i],prefix=i)\n",
    "    df_test = pd.concat([df_test,test_dummy],axis=1)\n",
    "    x.drop(i,axis=1,inplace=True)\n",
    "    df_test.drop(i,axis=1,inplace=True)            "
   ]
  },
  {
   "cell_type": "code",
   "execution_count": 40,
   "id": "b983f11f-4505-4c60-8853-9dceeec8ba2f",
   "metadata": {},
   "outputs": [
    {
     "data": {
      "text/html": [
       "<div>\n",
       "<style scoped>\n",
       "    .dataframe tbody tr th:only-of-type {\n",
       "        vertical-align: middle;\n",
       "    }\n",
       "\n",
       "    .dataframe tbody tr th {\n",
       "        vertical-align: top;\n",
       "    }\n",
       "\n",
       "    .dataframe thead th {\n",
       "        text-align: right;\n",
       "    }\n",
       "</style>\n",
       "<table border=\"1\" class=\"dataframe\">\n",
       "  <thead>\n",
       "    <tr style=\"text-align: right;\">\n",
       "      <th></th>\n",
       "      <th>sender</th>\n",
       "      <th>subject_len</th>\n",
       "      <th>body_len</th>\n",
       "      <th>mean_paragraph_len</th>\n",
       "      <th>is_weekend</th>\n",
       "      <th>category</th>\n",
       "      <th>product</th>\n",
       "      <th>no_of_CTA</th>\n",
       "      <th>mean_CTA_len</th>\n",
       "      <th>is_personalised</th>\n",
       "      <th>is_discount</th>\n",
       "      <th>is_urgency</th>\n",
       "      <th>target_audience</th>\n",
       "      <th>day_of_week_0</th>\n",
       "      <th>day_of_week_1</th>\n",
       "      <th>day_of_week_2</th>\n",
       "      <th>day_of_week_3</th>\n",
       "      <th>day_of_week_4</th>\n",
       "      <th>day_of_week_5</th>\n",
       "      <th>day_of_week_6</th>\n",
       "      <th>times_of_day_Evening</th>\n",
       "      <th>times_of_day_Morning</th>\n",
       "      <th>times_of_day_Noon</th>\n",
       "      <th>is_image_0</th>\n",
       "      <th>is_image_1</th>\n",
       "      <th>is_image_2</th>\n",
       "      <th>is_image_3</th>\n",
       "      <th>is_quote_0</th>\n",
       "      <th>is_quote_1</th>\n",
       "      <th>is_quote_2</th>\n",
       "      <th>is_quote_3</th>\n",
       "      <th>is_quote_100</th>\n",
       "      <th>is_emoticons_0</th>\n",
       "      <th>is_emoticons_1</th>\n",
       "    </tr>\n",
       "  </thead>\n",
       "  <tbody>\n",
       "    <tr>\n",
       "      <th>0</th>\n",
       "      <td>3</td>\n",
       "      <td>76</td>\n",
       "      <td>10439</td>\n",
       "      <td>39</td>\n",
       "      <td>1</td>\n",
       "      <td>6</td>\n",
       "      <td>26</td>\n",
       "      <td>3</td>\n",
       "      <td>29</td>\n",
       "      <td>0</td>\n",
       "      <td>0</td>\n",
       "      <td>0</td>\n",
       "      <td>14</td>\n",
       "      <td>0</td>\n",
       "      <td>0</td>\n",
       "      <td>0</td>\n",
       "      <td>0</td>\n",
       "      <td>0</td>\n",
       "      <td>1</td>\n",
       "      <td>0</td>\n",
       "      <td>0</td>\n",
       "      <td>0</td>\n",
       "      <td>1</td>\n",
       "      <td>1</td>\n",
       "      <td>0</td>\n",
       "      <td>0</td>\n",
       "      <td>0</td>\n",
       "      <td>1</td>\n",
       "      <td>0</td>\n",
       "      <td>0</td>\n",
       "      <td>0</td>\n",
       "      <td>0</td>\n",
       "      <td>1</td>\n",
       "      <td>0</td>\n",
       "    </tr>\n",
       "    <tr>\n",
       "      <th>1</th>\n",
       "      <td>3</td>\n",
       "      <td>54</td>\n",
       "      <td>2570</td>\n",
       "      <td>256</td>\n",
       "      <td>1</td>\n",
       "      <td>2</td>\n",
       "      <td>11</td>\n",
       "      <td>0</td>\n",
       "      <td>22</td>\n",
       "      <td>0</td>\n",
       "      <td>0</td>\n",
       "      <td>0</td>\n",
       "      <td>10</td>\n",
       "      <td>0</td>\n",
       "      <td>0</td>\n",
       "      <td>0</td>\n",
       "      <td>0</td>\n",
       "      <td>0</td>\n",
       "      <td>1</td>\n",
       "      <td>0</td>\n",
       "      <td>0</td>\n",
       "      <td>1</td>\n",
       "      <td>0</td>\n",
       "      <td>1</td>\n",
       "      <td>0</td>\n",
       "      <td>0</td>\n",
       "      <td>0</td>\n",
       "      <td>1</td>\n",
       "      <td>0</td>\n",
       "      <td>0</td>\n",
       "      <td>0</td>\n",
       "      <td>0</td>\n",
       "      <td>1</td>\n",
       "      <td>0</td>\n",
       "    </tr>\n",
       "    <tr>\n",
       "      <th>2</th>\n",
       "      <td>3</td>\n",
       "      <td>59</td>\n",
       "      <td>12801</td>\n",
       "      <td>16</td>\n",
       "      <td>1</td>\n",
       "      <td>2</td>\n",
       "      <td>11</td>\n",
       "      <td>3</td>\n",
       "      <td>23</td>\n",
       "      <td>0</td>\n",
       "      <td>0</td>\n",
       "      <td>0</td>\n",
       "      <td>16</td>\n",
       "      <td>0</td>\n",
       "      <td>0</td>\n",
       "      <td>0</td>\n",
       "      <td>0</td>\n",
       "      <td>0</td>\n",
       "      <td>1</td>\n",
       "      <td>0</td>\n",
       "      <td>0</td>\n",
       "      <td>0</td>\n",
       "      <td>1</td>\n",
       "      <td>0</td>\n",
       "      <td>1</td>\n",
       "      <td>0</td>\n",
       "      <td>0</td>\n",
       "      <td>0</td>\n",
       "      <td>1</td>\n",
       "      <td>0</td>\n",
       "      <td>0</td>\n",
       "      <td>0</td>\n",
       "      <td>1</td>\n",
       "      <td>0</td>\n",
       "    </tr>\n",
       "    <tr>\n",
       "      <th>3</th>\n",
       "      <td>3</td>\n",
       "      <td>74</td>\n",
       "      <td>11037</td>\n",
       "      <td>30</td>\n",
       "      <td>0</td>\n",
       "      <td>15</td>\n",
       "      <td>9</td>\n",
       "      <td>4</td>\n",
       "      <td>24</td>\n",
       "      <td>0</td>\n",
       "      <td>0</td>\n",
       "      <td>0</td>\n",
       "      <td>10</td>\n",
       "      <td>0</td>\n",
       "      <td>0</td>\n",
       "      <td>0</td>\n",
       "      <td>0</td>\n",
       "      <td>1</td>\n",
       "      <td>0</td>\n",
       "      <td>0</td>\n",
       "      <td>1</td>\n",
       "      <td>0</td>\n",
       "      <td>0</td>\n",
       "      <td>1</td>\n",
       "      <td>0</td>\n",
       "      <td>0</td>\n",
       "      <td>0</td>\n",
       "      <td>1</td>\n",
       "      <td>0</td>\n",
       "      <td>0</td>\n",
       "      <td>0</td>\n",
       "      <td>0</td>\n",
       "      <td>1</td>\n",
       "      <td>0</td>\n",
       "    </tr>\n",
       "    <tr>\n",
       "      <th>4</th>\n",
       "      <td>3</td>\n",
       "      <td>80</td>\n",
       "      <td>10011</td>\n",
       "      <td>27</td>\n",
       "      <td>1</td>\n",
       "      <td>6</td>\n",
       "      <td>26</td>\n",
       "      <td>3</td>\n",
       "      <td>31</td>\n",
       "      <td>0</td>\n",
       "      <td>0</td>\n",
       "      <td>0</td>\n",
       "      <td>14</td>\n",
       "      <td>0</td>\n",
       "      <td>0</td>\n",
       "      <td>0</td>\n",
       "      <td>0</td>\n",
       "      <td>0</td>\n",
       "      <td>1</td>\n",
       "      <td>0</td>\n",
       "      <td>0</td>\n",
       "      <td>0</td>\n",
       "      <td>1</td>\n",
       "      <td>1</td>\n",
       "      <td>0</td>\n",
       "      <td>0</td>\n",
       "      <td>0</td>\n",
       "      <td>0</td>\n",
       "      <td>1</td>\n",
       "      <td>0</td>\n",
       "      <td>0</td>\n",
       "      <td>0</td>\n",
       "      <td>1</td>\n",
       "      <td>0</td>\n",
       "    </tr>\n",
       "  </tbody>\n",
       "</table>\n",
       "</div>"
      ],
      "text/plain": [
       "   sender  subject_len  body_len  mean_paragraph_len  is_weekend  category  \\\n",
       "0       3           76     10439                  39           1         6   \n",
       "1       3           54      2570                 256           1         2   \n",
       "2       3           59     12801                  16           1         2   \n",
       "3       3           74     11037                  30           0        15   \n",
       "4       3           80     10011                  27           1         6   \n",
       "\n",
       "   product  no_of_CTA  mean_CTA_len  is_personalised  is_discount  is_urgency  \\\n",
       "0       26          3            29                0            0           0   \n",
       "1       11          0            22                0            0           0   \n",
       "2       11          3            23                0            0           0   \n",
       "3        9          4            24                0            0           0   \n",
       "4       26          3            31                0            0           0   \n",
       "\n",
       "   target_audience  day_of_week_0  day_of_week_1  day_of_week_2  \\\n",
       "0               14              0              0              0   \n",
       "1               10              0              0              0   \n",
       "2               16              0              0              0   \n",
       "3               10              0              0              0   \n",
       "4               14              0              0              0   \n",
       "\n",
       "   day_of_week_3  day_of_week_4  day_of_week_5  day_of_week_6  \\\n",
       "0              0              0              1              0   \n",
       "1              0              0              1              0   \n",
       "2              0              0              1              0   \n",
       "3              0              1              0              0   \n",
       "4              0              0              1              0   \n",
       "\n",
       "   times_of_day_Evening  times_of_day_Morning  times_of_day_Noon  is_image_0  \\\n",
       "0                     0                     0                  1           1   \n",
       "1                     0                     1                  0           1   \n",
       "2                     0                     0                  1           0   \n",
       "3                     1                     0                  0           1   \n",
       "4                     0                     0                  1           1   \n",
       "\n",
       "   is_image_1  is_image_2  is_image_3  is_quote_0  is_quote_1  is_quote_2  \\\n",
       "0           0           0           0           1           0           0   \n",
       "1           0           0           0           1           0           0   \n",
       "2           1           0           0           0           1           0   \n",
       "3           0           0           0           1           0           0   \n",
       "4           0           0           0           0           1           0   \n",
       "\n",
       "   is_quote_3  is_quote_100  is_emoticons_0  is_emoticons_1  \n",
       "0           0             0               1               0  \n",
       "1           0             0               1               0  \n",
       "2           0             0               1               0  \n",
       "3           0             0               1               0  \n",
       "4           0             0               1               0  "
      ]
     },
     "execution_count": 40,
     "metadata": {},
     "output_type": "execute_result"
    }
   ],
   "source": [
    "x.head()"
   ]
  },
  {
   "cell_type": "code",
   "execution_count": 41,
   "id": "81495845-2e3d-4678-ad2d-59767f75201e",
   "metadata": {},
   "outputs": [
    {
     "data": {
      "text/plain": [
       "(1888, 34)"
      ]
     },
     "execution_count": 41,
     "metadata": {},
     "output_type": "execute_result"
    }
   ],
   "source": [
    "x.shape"
   ]
  },
  {
   "cell_type": "markdown",
   "id": "71ec540a-a41e-4012-b5bd-d5808e54688f",
   "metadata": {},
   "source": [
    "# continuious data"
   ]
  },
  {
   "cell_type": "code",
   "execution_count": 42,
   "id": "47a32e18-7139-4a09-a7d2-259b2b6c0f36",
   "metadata": {},
   "outputs": [
    {
     "data": {
      "text/html": [
       "<div>\n",
       "<style scoped>\n",
       "    .dataframe tbody tr th:only-of-type {\n",
       "        vertical-align: middle;\n",
       "    }\n",
       "\n",
       "    .dataframe tbody tr th {\n",
       "        vertical-align: top;\n",
       "    }\n",
       "\n",
       "    .dataframe thead th {\n",
       "        text-align: right;\n",
       "    }\n",
       "</style>\n",
       "<table border=\"1\" class=\"dataframe\">\n",
       "  <thead>\n",
       "    <tr style=\"text-align: right;\">\n",
       "      <th></th>\n",
       "      <th>sender</th>\n",
       "      <th>subject_len</th>\n",
       "      <th>body_len</th>\n",
       "      <th>mean_paragraph_len</th>\n",
       "      <th>category</th>\n",
       "      <th>product</th>\n",
       "      <th>no_of_CTA</th>\n",
       "      <th>mean_CTA_len</th>\n",
       "      <th>target_audience</th>\n",
       "    </tr>\n",
       "  </thead>\n",
       "  <tbody>\n",
       "    <tr>\n",
       "      <th>0</th>\n",
       "      <td>3</td>\n",
       "      <td>76</td>\n",
       "      <td>10439</td>\n",
       "      <td>39</td>\n",
       "      <td>6</td>\n",
       "      <td>26</td>\n",
       "      <td>3</td>\n",
       "      <td>29</td>\n",
       "      <td>14</td>\n",
       "    </tr>\n",
       "    <tr>\n",
       "      <th>1</th>\n",
       "      <td>3</td>\n",
       "      <td>54</td>\n",
       "      <td>2570</td>\n",
       "      <td>256</td>\n",
       "      <td>2</td>\n",
       "      <td>11</td>\n",
       "      <td>0</td>\n",
       "      <td>22</td>\n",
       "      <td>10</td>\n",
       "    </tr>\n",
       "    <tr>\n",
       "      <th>2</th>\n",
       "      <td>3</td>\n",
       "      <td>59</td>\n",
       "      <td>12801</td>\n",
       "      <td>16</td>\n",
       "      <td>2</td>\n",
       "      <td>11</td>\n",
       "      <td>3</td>\n",
       "      <td>23</td>\n",
       "      <td>16</td>\n",
       "    </tr>\n",
       "    <tr>\n",
       "      <th>3</th>\n",
       "      <td>3</td>\n",
       "      <td>74</td>\n",
       "      <td>11037</td>\n",
       "      <td>30</td>\n",
       "      <td>15</td>\n",
       "      <td>9</td>\n",
       "      <td>4</td>\n",
       "      <td>24</td>\n",
       "      <td>10</td>\n",
       "    </tr>\n",
       "    <tr>\n",
       "      <th>4</th>\n",
       "      <td>3</td>\n",
       "      <td>80</td>\n",
       "      <td>10011</td>\n",
       "      <td>27</td>\n",
       "      <td>6</td>\n",
       "      <td>26</td>\n",
       "      <td>3</td>\n",
       "      <td>31</td>\n",
       "      <td>14</td>\n",
       "    </tr>\n",
       "  </tbody>\n",
       "</table>\n",
       "</div>"
      ],
      "text/plain": [
       "   sender  subject_len  body_len  mean_paragraph_len  category  product  \\\n",
       "0       3           76     10439                  39         6       26   \n",
       "1       3           54      2570                 256         2       11   \n",
       "2       3           59     12801                  16         2       11   \n",
       "3       3           74     11037                  30        15        9   \n",
       "4       3           80     10011                  27         6       26   \n",
       "\n",
       "   no_of_CTA  mean_CTA_len  target_audience  \n",
       "0          3            29               14  \n",
       "1          0            22               10  \n",
       "2          3            23               16  \n",
       "3          4            24               10  \n",
       "4          3            31               14  "
      ]
     },
     "execution_count": 42,
     "metadata": {},
     "output_type": "execute_result"
    }
   ],
   "source": [
    "x[cont_col].head()"
   ]
  },
  {
   "cell_type": "code",
   "execution_count": 43,
   "id": "442e1b60-92dd-4487-bee7-faecb2a4526b",
   "metadata": {},
   "outputs": [
    {
     "name": "stderr",
     "output_type": "stream",
     "text": [
      "/home/thecybermonster/.local/lib/python3.10/site-packages/seaborn/_decorators.py:36: FutureWarning: Pass the following variable as a keyword arg: x. From version 0.12, the only valid positional argument will be `data`, and passing other arguments without an explicit keyword will result in an error or misinterpretation.\n",
      "  warnings.warn(\n"
     ]
    },
    {
     "data": {
      "text/plain": [
       "<AxesSubplot:xlabel='sender', ylabel='count'>"
      ]
     },
     "execution_count": 43,
     "metadata": {},
     "output_type": "execute_result"
    },
    {
     "data": {
      "image/png": "[encoded data removed]",
      "text/plain": [
       "<Figure size 432x288 with 1 Axes>"
      ]
     },
     "metadata": {
      "needs_background": "light"
     },
     "output_type": "display_data"
    }
   ],
   "source": [
    "sns.countplot(x.sender)"
   ]
  },
  {
   "cell_type": "markdown",
   "id": "b88f759d-f771-44e4-bc65-871fd8636cec",
   "metadata": {},
   "source": [
    "* though the data looks continuious it acts catagorical and is skewed\n",
    "* we will group 2, 10, 15 and all other as 1 "
   ]
  },
  {
   "cell_type": "code",
   "execution_count": 44,
   "id": "c1fcada6-a1a7-4ef6-9a3b-a47c336dffa2",
   "metadata": {},
   "outputs": [],
   "source": [
    "x.sender= x.sender.apply(lambda x: 100 if x not in [3,10,15] else x )"
   ]
  },
  {
   "cell_type": "code",
   "execution_count": 45,
   "id": "0235d752-2bf7-40d9-b6a6-7b5f1d784917",
   "metadata": {},
   "outputs": [],
   "source": [
    "df_test.sender=df_test.sender.apply(lambda x: 100 if x not in [3,10,15] else x )"
   ]
  },
  {
   "cell_type": "code",
   "execution_count": 46,
   "id": "3a73c69a-e85f-45f9-8cab-e8b75686d25c",
   "metadata": {},
   "outputs": [
    {
     "name": "stderr",
     "output_type": "stream",
     "text": [
      "/home/thecybermonster/.local/lib/python3.10/site-packages/seaborn/_decorators.py:36: FutureWarning: Pass the following variable as a keyword arg: x. From version 0.12, the only valid positional argument will be `data`, and passing other arguments without an explicit keyword will result in an error or misinterpretation.\n",
      "  warnings.warn(\n"
     ]
    },
    {
     "data": {
      "text/plain": [
       "<AxesSubplot:xlabel='sender', ylabel='count'>"
      ]
     },
     "execution_count": 46,
     "metadata": {},
     "output_type": "execute_result"
    },
    {
     "data": {
      "image/png": "[encoded data removed]",
      "text/plain": [
       "<Figure size 432x288 with 1 Axes>"
      ]
     },
     "metadata": {
      "needs_background": "light"
     },
     "output_type": "display_data"
    }
   ],
   "source": [
    "sns.countplot(x.sender)"
   ]
  },
  {
   "cell_type": "code",
   "execution_count": 47,
   "id": "a282f849-87de-4a96-a19f-7cddfa1884fd",
   "metadata": {},
   "outputs": [],
   "source": [
    "x.sender=x.sender.astype('object')\n",
    "df_test.sender=df_test.sender.astype('object')"
   ]
  },
  {
   "cell_type": "code",
   "execution_count": 48,
   "id": "b9175aea-c56d-4d4c-9075-dc29b923c5c1",
   "metadata": {},
   "outputs": [
    {
     "name": "stderr",
     "output_type": "stream",
     "text": [
      "/home/thecybermonster/.local/lib/python3.10/site-packages/pandas/core/algorithms.py:798: FutureWarning: In a future version, the Index constructor will not infer numeric dtypes when passed object-dtype sequences (matching Series behavior)\n",
      "  uniques = Index(uniques)\n"
     ]
    }
   ],
   "source": [
    "dummy=pd.get_dummies(x.sender,prefix='sender')\n",
    "x=pd.concat([x,dummy],axis=1)\n",
    "x.drop('sender',axis=1,inplace=True)"
   ]
  },
  {
   "cell_type": "code",
   "execution_count": 49,
   "id": "178ac90e-80af-4751-a8d6-ef075c4550af",
   "metadata": {},
   "outputs": [
    {
     "name": "stderr",
     "output_type": "stream",
     "text": [
      "/home/thecybermonster/.local/lib/python3.10/site-packages/pandas/core/algorithms.py:798: FutureWarning: In a future version, the Index constructor will not infer numeric dtypes when passed object-dtype sequences (matching Series behavior)\n",
      "  uniques = Index(uniques)\n"
     ]
    }
   ],
   "source": [
    "dummy=pd.get_dummies(df_test.sender,prefix='sender')\n",
    "df_test=pd.concat([df_test,dummy],axis=1)\n",
    "df_test.drop('sender',axis=1,inplace=True)"
   ]
  },
  {
   "cell_type": "code",
   "execution_count": 50,
   "id": "7c3131ee-71ac-4699-aadd-ef565c5ded66",
   "metadata": {},
   "outputs": [
    {
     "name": "stderr",
     "output_type": "stream",
     "text": [
      "/home/thecybermonster/.local/lib/python3.10/site-packages/seaborn/_decorators.py:36: FutureWarning: Pass the following variable as a keyword arg: x. From version 0.12, the only valid positional argument will be `data`, and passing other arguments without an explicit keyword will result in an error or misinterpretation.\n",
      "  warnings.warn(\n",
      "/home/thecybermonster/.local/lib/python3.10/site-packages/seaborn/_decorators.py:36: FutureWarning: Pass the following variable as a keyword arg: x. From version 0.12, the only valid positional argument will be `data`, and passing other arguments without an explicit keyword will result in an error or misinterpretation.\n",
      "  warnings.warn(\n"
     ]
    },
    {
     "data": {
      "text/plain": [
       "<AxesSubplot:xlabel='subject_len'>"
      ]
     },
     "execution_count": 50,
     "metadata": {},
     "output_type": "execute_result"
    },
    {
     "data": {
      "image/png": "[encoded data removed]",
      "text/plain": [
       "<Figure size 2520x360 with 3 Axes>"
      ]
     },
     "metadata": {
      "needs_background": "light"
     },
     "output_type": "display_data"
    }
   ],
   "source": [
    "fig,axs= plt.subplots(ncols=3,figsize=(35,5))\n",
    "sns.kdeplot(x.subject_len,ax=axs[0])\n",
    "sns.violinplot(x.subject_len,ax=axs[1])\n",
    "sns.boxplot(x.subject_len,ax=axs[2])"
   ]
  },
  {
   "cell_type": "code",
   "execution_count": 51,
   "id": "8b602f84-dbd2-4860-8319-fea8df95f365",
   "metadata": {},
   "outputs": [
    {
     "name": "stderr",
     "output_type": "stream",
     "text": [
      "/home/thecybermonster/.local/lib/python3.10/site-packages/seaborn/_decorators.py:36: FutureWarning: Pass the following variable as a keyword arg: x. From version 0.12, the only valid positional argument will be `data`, and passing other arguments without an explicit keyword will result in an error or misinterpretation.\n",
      "  warnings.warn(\n",
      "/home/thecybermonster/.local/lib/python3.10/site-packages/seaborn/_decorators.py:36: FutureWarning: Pass the following variable as a keyword arg: x. From version 0.12, the only valid positional argument will be `data`, and passing other arguments without an explicit keyword will result in an error or misinterpretation.\n",
      "  warnings.warn(\n"
     ]
    },
    {
     "data": {
      "text/plain": [
       "<AxesSubplot:xlabel='body_len'>"
      ]
     },
     "execution_count": 51,
     "metadata": {},
     "output_type": "execute_result"
    },
    {
     "data": {
      "image/png": "[encoded data removed]",
      "text/plain": [
       "<Figure size 2520x360 with 3 Axes>"
      ]
     },
     "metadata": {
      "needs_background": "light"
     },
     "output_type": "display_data"
    }
   ],
   "source": [
    "# body_len\n",
    "fig,axs= plt.subplots(ncols=3,figsize=(35,5))\n",
    "sns.kdeplot(x.body_len,ax=axs[0])\n",
    "sns.violinplot(x.body_len,ax=axs[1])\n",
    "sns.boxplot(x.body_len,ax=axs[2])"
   ]
  },
  {
   "cell_type": "code",
   "execution_count": 52,
   "id": "4233c2b6-6d80-4483-b1d4-58ed2d325049",
   "metadata": {},
   "outputs": [
    {
     "name": "stderr",
     "output_type": "stream",
     "text": [
      "/home/thecybermonster/.local/lib/python3.10/site-packages/seaborn/_decorators.py:36: FutureWarning: Pass the following variable as a keyword arg: x. From version 0.12, the only valid positional argument will be `data`, and passing other arguments without an explicit keyword will result in an error or misinterpretation.\n",
      "  warnings.warn(\n",
      "/home/thecybermonster/.local/lib/python3.10/site-packages/seaborn/_decorators.py:36: FutureWarning: Pass the following variable as a keyword arg: x. From version 0.12, the only valid positional argument will be `data`, and passing other arguments without an explicit keyword will result in an error or misinterpretation.\n",
      "  warnings.warn(\n"
     ]
    },
    {
     "data": {
      "text/plain": [
       "<AxesSubplot:xlabel='mean_paragraph_len'>"
      ]
     },
     "execution_count": 52,
     "metadata": {},
     "output_type": "execute_result"
    },
    {
     "data": {
      "image/png": "[encoded data removed]",
      "text/plain": [
       "<Figure size 2520x360 with 3 Axes>"
      ]
     },
     "metadata": {
      "needs_background": "light"
     },
     "output_type": "display_data"
    }
   ],
   "source": [
    "# mean_paragraph_len\n",
    "fig,axs= plt.subplots(ncols=3,figsize=(35,5))\n",
    "sns.kdeplot(x.mean_paragraph_len,ax=axs[0])\n",
    "sns.violinplot(x.mean_paragraph_len,ax=axs[1])\n",
    "sns.boxplot(x.mean_paragraph_len,ax=axs[2])"
   ]
  },
  {
   "cell_type": "code",
   "execution_count": 53,
   "id": "f186f822-08cf-496a-91cb-67117175b3e9",
   "metadata": {},
   "outputs": [
    {
     "name": "stderr",
     "output_type": "stream",
     "text": [
      "/home/thecybermonster/.local/lib/python3.10/site-packages/seaborn/_decorators.py:36: FutureWarning: Pass the following variable as a keyword arg: x. From version 0.12, the only valid positional argument will be `data`, and passing other arguments without an explicit keyword will result in an error or misinterpretation.\n",
      "  warnings.warn(\n"
     ]
    },
    {
     "data": {
      "text/plain": [
       "<AxesSubplot:xlabel='category', ylabel='count'>"
      ]
     },
     "execution_count": 53,
     "metadata": {},
     "output_type": "execute_result"
    },
    {
     "data": {
      "image/png": "[encoded data removed]",
      "text/plain": [
       "<Figure size 432x288 with 1 Axes>"
      ]
     },
     "metadata": {
      "needs_background": "light"
     },
     "output_type": "display_data"
    }
   ],
   "source": [
    "# Category\n",
    "sns.countplot(x.category)"
   ]
  },
  {
   "cell_type": "markdown",
   "id": "49124ac1-2c32-403f-98d0-c29ce54ef52c",
   "metadata": {},
   "source": [
    "* we will goorup catagories with 1,2,6,9,10,15 and others"
   ]
  },
  {
   "cell_type": "code",
   "execution_count": 54,
   "id": "0df7368a-4710-475f-bbf6-31a5723673a8",
   "metadata": {},
   "outputs": [],
   "source": [
    "x.category = x.category.apply(lambda x: 100 if x not in [1,2,6,9,10,15] else x)\n",
    "df_test.category=df_test.category.apply(lambda x: 100 if x not in [1,2,6,9,10,15] else x)"
   ]
  },
  {
   "cell_type": "code",
   "execution_count": 55,
   "id": "63713aaf-ed63-4115-be79-20edc96a13ac",
   "metadata": {},
   "outputs": [
    {
     "name": "stderr",
     "output_type": "stream",
     "text": [
      "/home/thecybermonster/.local/lib/python3.10/site-packages/seaborn/_decorators.py:36: FutureWarning: Pass the following variable as a keyword arg: x. From version 0.12, the only valid positional argument will be `data`, and passing other arguments without an explicit keyword will result in an error or misinterpretation.\n",
      "  warnings.warn(\n"
     ]
    },
    {
     "data": {
      "text/plain": [
       "<AxesSubplot:xlabel='category', ylabel='count'>"
      ]
     },
     "execution_count": 55,
     "metadata": {},
     "output_type": "execute_result"
    },
    {
     "data": {
      "image/png": "[encoded data removed]",
      "text/plain": [
       "<Figure size 432x288 with 1 Axes>"
      ]
     },
     "metadata": {
      "needs_background": "light"
     },
     "output_type": "display_data"
    }
   ],
   "source": [
    "sns.countplot(x.category)"
   ]
  },
  {
   "cell_type": "code",
   "execution_count": 56,
   "id": "ff6964c1-bea0-4a6c-a7a1-5b11b97c0f15",
   "metadata": {},
   "outputs": [],
   "source": [
    "x.category=x.category.astype('object')\n",
    "df_test.category=df_test.category.astype('object')"
   ]
  },
  {
   "cell_type": "code",
   "execution_count": 57,
   "id": "d4ddf02a-137d-4eee-9503-06c482fda6bb",
   "metadata": {},
   "outputs": [
    {
     "name": "stderr",
     "output_type": "stream",
     "text": [
      "/home/thecybermonster/.local/lib/python3.10/site-packages/pandas/core/algorithms.py:798: FutureWarning: In a future version, the Index constructor will not infer numeric dtypes when passed object-dtype sequences (matching Series behavior)\n",
      "  uniques = Index(uniques)\n"
     ]
    }
   ],
   "source": [
    "dummy=pd.get_dummies(x.category,prefix='category')\n",
    "x=pd.concat([x,dummy],axis=1)\n",
    "x.drop('category',axis=1,inplace=True)"
   ]
  },
  {
   "cell_type": "code",
   "execution_count": 58,
   "id": "a84142b1-53a5-423a-b628-dbcec9c16b68",
   "metadata": {},
   "outputs": [
    {
     "name": "stderr",
     "output_type": "stream",
     "text": [
      "/home/thecybermonster/.local/lib/python3.10/site-packages/pandas/core/algorithms.py:798: FutureWarning: In a future version, the Index constructor will not infer numeric dtypes when passed object-dtype sequences (matching Series behavior)\n",
      "  uniques = Index(uniques)\n"
     ]
    }
   ],
   "source": [
    "dummy=pd.get_dummies(df_test.category,prefix='category')\n",
    "df_test=pd.concat([df_test,dummy],axis=1)\n",
    "df_test.drop('category',axis=1,inplace=True)"
   ]
  },
  {
   "cell_type": "code",
   "execution_count": 59,
   "id": "8d4a8ae3-d2a9-4ac1-bf3d-40bf8aade813",
   "metadata": {},
   "outputs": [
    {
     "name": "stderr",
     "output_type": "stream",
     "text": [
      "/home/thecybermonster/.local/lib/python3.10/site-packages/seaborn/_decorators.py:36: FutureWarning: Pass the following variable as a keyword arg: x. From version 0.12, the only valid positional argument will be `data`, and passing other arguments without an explicit keyword will result in an error or misinterpretation.\n",
      "  warnings.warn(\n",
      "/home/thecybermonster/.local/lib/python3.10/site-packages/seaborn/_decorators.py:36: FutureWarning: Pass the following variable as a keyword arg: x. From version 0.12, the only valid positional argument will be `data`, and passing other arguments without an explicit keyword will result in an error or misinterpretation.\n",
      "  warnings.warn(\n"
     ]
    },
    {
     "data": {
      "text/plain": [
       "<AxesSubplot:xlabel='product'>"
      ]
     },
     "execution_count": 59,
     "metadata": {},
     "output_type": "execute_result"
    },
    {
     "data": {
      "image/png": "[encoded data removed]",
      "text/plain": [
       "<Figure size 2520x360 with 3 Axes>"
      ]
     },
     "metadata": {
      "needs_background": "light"
     },
     "output_type": "display_data"
    }
   ],
   "source": [
    "# mean_paragraph_len\n",
    "fig,axs= plt.subplots(ncols=3,figsize=(35,5))\n",
    "sns.kdeplot(x['product'],ax=axs[0])\n",
    "sns.violinplot(x['product'],ax=axs[1])\n",
    "sns.boxplot(x['product'],ax=axs[2])"
   ]
  },
  {
   "cell_type": "markdown",
   "id": "76dcfbe9-cd28-4e29-a22b-c688c82f85ae",
   "metadata": {},
   "source": [
    "* Looking at the kde plot and violen plot looks like catagorical data by nature"
   ]
  },
  {
   "cell_type": "code",
   "execution_count": 60,
   "id": "7ba567de-7851-493c-ac8a-60b16b7daf80",
   "metadata": {},
   "outputs": [
    {
     "name": "stderr",
     "output_type": "stream",
     "text": [
      "/home/thecybermonster/.local/lib/python3.10/site-packages/seaborn/_decorators.py:36: FutureWarning: Pass the following variable as a keyword arg: x. From version 0.12, the only valid positional argument will be `data`, and passing other arguments without an explicit keyword will result in an error or misinterpretation.\n",
      "  warnings.warn(\n"
     ]
    },
    {
     "data": {
      "text/plain": [
       "<AxesSubplot:xlabel='product', ylabel='count'>"
      ]
     },
     "execution_count": 60,
     "metadata": {},
     "output_type": "execute_result"
    },
    {
     "data": {
      "image/png": "[encoded data removed]",
      "text/plain": [
       "<Figure size 432x288 with 1 Axes>"
      ]
     },
     "metadata": {
      "needs_background": "light"
     },
     "output_type": "display_data"
    }
   ],
   "source": [
    "sns.countplot(x['product'])"
   ]
  },
  {
   "cell_type": "markdown",
   "id": "affeda9b-79f9-4599-b26a-b5ac2f53701f",
   "metadata": {},
   "source": [
    "* This is a catagorical varibale but it has 50 features\n",
    "* we will convert them to binary but later point we will use RFE to reduce feture selection"
   ]
  },
  {
   "cell_type": "code",
   "execution_count": 61,
   "id": "361971bf-1a40-4954-b409-d55e34e1009a",
   "metadata": {},
   "outputs": [
    {
     "data": {
      "text/plain": [
       "[9, 5, 34, 11, 42, 23, 1, 13, 6, 31, 26]"
      ]
     },
     "execution_count": 61,
     "metadata": {},
     "output_type": "execute_result"
    }
   ],
   "source": [
    "prod=x['product'].value_counts().reset_index()\n",
    "prod=prod[prod[\"product\"] > 50]\n",
    "prod=list(prod['index'])\n",
    "prod"
   ]
  },
  {
   "cell_type": "markdown",
   "id": "db5a1847-11dc-4d61-b830-0d43c82fd3b4",
   "metadata": {},
   "source": [
    "* now we use prod to transform the data"
   ]
  },
  {
   "cell_type": "code",
   "execution_count": 62,
   "id": "a39a3a52-bc63-48c9-9e97-91b6b03a3cbf",
   "metadata": {},
   "outputs": [],
   "source": [
    "x['product']=x['product'].apply(lambda x: 100 if x not in prod else x)\n",
    "df_test['product']=df_test['product'].apply(lambda x: 100 if x not in prod else x)"
   ]
  },
  {
   "cell_type": "code",
   "execution_count": 63,
   "id": "069a620a-35b4-4b8b-82e9-9ab9e92eb77a",
   "metadata": {},
   "outputs": [],
   "source": [
    "df_test['product']=df_test['product'].astype('object')\n",
    "df_test['product']=df_test['product'].astype('object')"
   ]
  },
  {
   "cell_type": "code",
   "execution_count": 64,
   "id": "c6234157-48ec-4b88-b1d6-362398759e1d",
   "metadata": {},
   "outputs": [
    {
     "name": "stderr",
     "output_type": "stream",
     "text": [
      "/home/thecybermonster/.local/lib/python3.10/site-packages/seaborn/_decorators.py:36: FutureWarning: Pass the following variable as a keyword arg: x. From version 0.12, the only valid positional argument will be `data`, and passing other arguments without an explicit keyword will result in an error or misinterpretation.\n",
      "  warnings.warn(\n"
     ]
    },
    {
     "data": {
      "text/plain": [
       "<AxesSubplot:xlabel='product', ylabel='count'>"
      ]
     },
     "execution_count": 64,
     "metadata": {},
     "output_type": "execute_result"
    },
    {
     "data": {
      "image/png": "[encoded data removed]",
      "text/plain": [
       "<Figure size 432x288 with 1 Axes>"
      ]
     },
     "metadata": {
      "needs_background": "light"
     },
     "output_type": "display_data"
    }
   ],
   "source": [
    "sns.countplot(x['product'])"
   ]
  },
  {
   "cell_type": "code",
   "execution_count": 65,
   "id": "54699621-792a-4dc6-885c-38d2c8082360",
   "metadata": {},
   "outputs": [],
   "source": [
    "dummy=pd.get_dummies(x['product'],prefix='product')\n",
    "x=pd.concat([x,dummy],axis=1)\n",
    "x.drop('product',axis=1,inplace=True)"
   ]
  },
  {
   "cell_type": "code",
   "execution_count": 66,
   "id": "206f6741-8cfd-4ab0-a6c3-590ed9c6463f",
   "metadata": {},
   "outputs": [
    {
     "name": "stderr",
     "output_type": "stream",
     "text": [
      "/home/thecybermonster/.local/lib/python3.10/site-packages/pandas/core/algorithms.py:798: FutureWarning: In a future version, the Index constructor will not infer numeric dtypes when passed object-dtype sequences (matching Series behavior)\n",
      "  uniques = Index(uniques)\n"
     ]
    }
   ],
   "source": [
    "dummy=pd.get_dummies(df_test['product'],prefix='product')\n",
    "df_test=pd.concat([df_test,dummy],axis=1)\n",
    "df_test.drop('product',axis=1,inplace=True)"
   ]
  },
  {
   "cell_type": "code",
   "execution_count": 67,
   "id": "2473d2d0-0b61-439e-b4c5-f712aa735e43",
   "metadata": {},
   "outputs": [
    {
     "name": "stderr",
     "output_type": "stream",
     "text": [
      "/home/thecybermonster/.local/lib/python3.10/site-packages/seaborn/_decorators.py:36: FutureWarning: Pass the following variable as a keyword arg: x. From version 0.12, the only valid positional argument will be `data`, and passing other arguments without an explicit keyword will result in an error or misinterpretation.\n",
      "  warnings.warn(\n",
      "/home/thecybermonster/.local/lib/python3.10/site-packages/seaborn/_decorators.py:36: FutureWarning: Pass the following variable as a keyword arg: x. From version 0.12, the only valid positional argument will be `data`, and passing other arguments without an explicit keyword will result in an error or misinterpretation.\n",
      "  warnings.warn(\n"
     ]
    },
    {
     "data": {
      "text/plain": [
       "<AxesSubplot:xlabel='no_of_CTA'>"
      ]
     },
     "execution_count": 67,
     "metadata": {},
     "output_type": "execute_result"
    },
    {
     "data": {
      "image/png": "[encoded data removed]",
      "text/plain": [
       "<Figure size 2520x360 with 3 Axes>"
      ]
     },
     "metadata": {
      "needs_background": "light"
     },
     "output_type": "display_data"
    }
   ],
   "source": [
    "# no_of_CTA\n",
    "fig,axs= plt.subplots(ncols=3,figsize=(35,5))\n",
    "sns.kdeplot(x.no_of_CTA,ax=axs[0])\n",
    "sns.violinplot(x.no_of_CTA,ax=axs[1])\n",
    "sns.boxplot(x.no_of_CTA,ax=axs[2])"
   ]
  },
  {
   "cell_type": "code",
   "execution_count": 68,
   "id": "b6aa9826-a9eb-4f32-880a-e563a8e7b834",
   "metadata": {},
   "outputs": [
    {
     "name": "stderr",
     "output_type": "stream",
     "text": [
      "/home/thecybermonster/.local/lib/python3.10/site-packages/seaborn/_decorators.py:36: FutureWarning: Pass the following variable as a keyword arg: x. From version 0.12, the only valid positional argument will be `data`, and passing other arguments without an explicit keyword will result in an error or misinterpretation.\n",
      "  warnings.warn(\n",
      "/home/thecybermonster/.local/lib/python3.10/site-packages/seaborn/_decorators.py:36: FutureWarning: Pass the following variable as a keyword arg: x. From version 0.12, the only valid positional argument will be `data`, and passing other arguments without an explicit keyword will result in an error or misinterpretation.\n",
      "  warnings.warn(\n"
     ]
    },
    {
     "data": {
      "text/plain": [
       "<AxesSubplot:xlabel='mean_CTA_len'>"
      ]
     },
     "execution_count": 68,
     "metadata": {},
     "output_type": "execute_result"
    },
    {
     "data": {
      "image/png": "[encoded data removed]",
      "text/plain": [
       "<Figure size 2520x360 with 3 Axes>"
      ]
     },
     "metadata": {
      "needs_background": "light"
     },
     "output_type": "display_data"
    }
   ],
   "source": [
    "# mean_CTA_len\n",
    "fig,axs= plt.subplots(ncols=3,figsize=(35,5))\n",
    "sns.kdeplot(x.mean_CTA_len,ax=axs[0])\n",
    "sns.violinplot(x.mean_CTA_len,ax=axs[1])\n",
    "sns.boxplot(x.mean_CTA_len,ax=axs[2])"
   ]
  },
  {
   "cell_type": "code",
   "execution_count": 69,
   "id": "e8dc5036-3522-4046-9b3f-addd63592dab",
   "metadata": {},
   "outputs": [
    {
     "name": "stderr",
     "output_type": "stream",
     "text": [
      "/home/thecybermonster/.local/lib/python3.10/site-packages/seaborn/_decorators.py:36: FutureWarning: Pass the following variable as a keyword arg: x. From version 0.12, the only valid positional argument will be `data`, and passing other arguments without an explicit keyword will result in an error or misinterpretation.\n",
      "  warnings.warn(\n",
      "/home/thecybermonster/.local/lib/python3.10/site-packages/seaborn/_decorators.py:36: FutureWarning: Pass the following variable as a keyword arg: x. From version 0.12, the only valid positional argument will be `data`, and passing other arguments without an explicit keyword will result in an error or misinterpretation.\n",
      "  warnings.warn(\n"
     ]
    },
    {
     "data": {
      "text/plain": [
       "<AxesSubplot:xlabel='target_audience'>"
      ]
     },
     "execution_count": 69,
     "metadata": {},
     "output_type": "execute_result"
    },
    {
     "data": {
      "image/png": "[encoded data removed]",
      "text/plain": [
       "<Figure size 2520x360 with 3 Axes>"
      ]
     },
     "metadata": {
      "needs_background": "light"
     },
     "output_type": "display_data"
    }
   ],
   "source": [
    "# target_audience\n",
    "fig,axs= plt.subplots(ncols=3,figsize=(35,5))\n",
    "sns.kdeplot(x.target_audience,ax=axs[0])\n",
    "sns.violinplot(x.target_audience,ax=axs[1])\n",
    "sns.boxplot(x.target_audience,ax=axs[2])"
   ]
  },
  {
   "cell_type": "code",
   "execution_count": 70,
   "id": "f21d9aa3-54df-4d70-b26d-d78aa3a95cb0",
   "metadata": {},
   "outputs": [
    {
     "name": "stderr",
     "output_type": "stream",
     "text": [
      "/home/thecybermonster/.local/lib/python3.10/site-packages/seaborn/_decorators.py:36: FutureWarning: Pass the following variable as a keyword arg: x. From version 0.12, the only valid positional argument will be `data`, and passing other arguments without an explicit keyword will result in an error or misinterpretation.\n",
      "  warnings.warn(\n"
     ]
    },
    {
     "data": {
      "text/plain": [
       "<AxesSubplot:xlabel='target_audience', ylabel='count'>"
      ]
     },
     "execution_count": 70,
     "metadata": {},
     "output_type": "execute_result"
    },
    {
     "data": {
      "image/png": "[encoded data removed]",
      "text/plain": [
       "<Figure size 432x288 with 1 Axes>"
      ]
     },
     "metadata": {
      "needs_background": "light"
     },
     "output_type": "display_data"
    }
   ],
   "source": [
    "sns.countplot(x.target_audience)"
   ]
  },
  {
   "cell_type": "code",
   "execution_count": 71,
   "id": "78fd0770-e951-4781-8d7c-829bc90c4789",
   "metadata": {},
   "outputs": [],
   "source": [
    "x.target_audience= x.target_audience.apply(lambda x : 100 if x not in [10,12,14,15,16] else x)\n",
    "df_test.target_audience= df_test.target_audience.apply(lambda x : 100 if x not in [10,12,14,15,16] else x)"
   ]
  },
  {
   "cell_type": "code",
   "execution_count": 72,
   "id": "8b617f8b-0f7d-4e94-9a13-e201d7006c2f",
   "metadata": {},
   "outputs": [],
   "source": [
    "x.target_audience = x.target_audience.astype('object')\n",
    "df_test.target_audience = df_test.target_audience.astype('object')"
   ]
  },
  {
   "cell_type": "code",
   "execution_count": 73,
   "id": "34695f77-8c35-4746-9264-bc3c25d7047f",
   "metadata": {},
   "outputs": [
    {
     "name": "stderr",
     "output_type": "stream",
     "text": [
      "/home/thecybermonster/.local/lib/python3.10/site-packages/seaborn/_decorators.py:36: FutureWarning: Pass the following variable as a keyword arg: x. From version 0.12, the only valid positional argument will be `data`, and passing other arguments without an explicit keyword will result in an error or misinterpretation.\n",
      "  warnings.warn(\n"
     ]
    },
    {
     "data": {
      "text/plain": [
       "<AxesSubplot:xlabel='target_audience', ylabel='count'>"
      ]
     },
     "execution_count": 73,
     "metadata": {},
     "output_type": "execute_result"
    },
    {
     "data": {
      "image/png": "[encoded data removed]",
      "text/plain": [
       "<Figure size 432x288 with 1 Axes>"
      ]
     },
     "metadata": {
      "needs_background": "light"
     },
     "output_type": "display_data"
    }
   ],
   "source": [
    "sns.countplot(x.target_audience)"
   ]
  },
  {
   "cell_type": "code",
   "execution_count": 74,
   "id": "507ff188-bb7d-4326-89e4-40331e4a04e3",
   "metadata": {},
   "outputs": [
    {
     "name": "stderr",
     "output_type": "stream",
     "text": [
      "/home/thecybermonster/.local/lib/python3.10/site-packages/pandas/core/algorithms.py:798: FutureWarning: In a future version, the Index constructor will not infer numeric dtypes when passed object-dtype sequences (matching Series behavior)\n",
      "  uniques = Index(uniques)\n"
     ]
    }
   ],
   "source": [
    "dummy=pd.get_dummies(x['target_audience'],prefix='target_audience')\n",
    "x=pd.concat([x,dummy],axis=1)\n",
    "x.drop('target_audience',axis=1,inplace=True)"
   ]
  },
  {
   "cell_type": "code",
   "execution_count": 75,
   "id": "fdefbc05-211d-46a5-b794-a5c1ccbadb2b",
   "metadata": {},
   "outputs": [
    {
     "name": "stderr",
     "output_type": "stream",
     "text": [
      "/home/thecybermonster/.local/lib/python3.10/site-packages/pandas/core/algorithms.py:798: FutureWarning: In a future version, the Index constructor will not infer numeric dtypes when passed object-dtype sequences (matching Series behavior)\n",
      "  uniques = Index(uniques)\n"
     ]
    }
   ],
   "source": [
    "dummy=pd.get_dummies(df_test['target_audience'],prefix='target_audience')\n",
    "df_test=pd.concat([df_test,dummy],axis=1)\n",
    "df_test.drop('target_audience',axis=1,inplace=True)"
   ]
  },
  {
   "cell_type": "code",
   "execution_count": 76,
   "id": "9d9d591d-7110-4c4f-9ae3-0ccc5acf73ef",
   "metadata": {},
   "outputs": [
    {
     "data": {
      "text/html": [
       "<div>\n",
       "<style scoped>\n",
       "    .dataframe tbody tr th:only-of-type {\n",
       "        vertical-align: middle;\n",
       "    }\n",
       "\n",
       "    .dataframe tbody tr th {\n",
       "        vertical-align: top;\n",
       "    }\n",
       "\n",
       "    .dataframe thead th {\n",
       "        text-align: right;\n",
       "    }\n",
       "</style>\n",
       "<table border=\"1\" class=\"dataframe\">\n",
       "  <thead>\n",
       "    <tr style=\"text-align: right;\">\n",
       "      <th></th>\n",
       "      <th>subject_len</th>\n",
       "      <th>body_len</th>\n",
       "      <th>mean_paragraph_len</th>\n",
       "      <th>is_weekend</th>\n",
       "      <th>no_of_CTA</th>\n",
       "      <th>mean_CTA_len</th>\n",
       "      <th>is_personalised</th>\n",
       "      <th>is_discount</th>\n",
       "      <th>is_urgency</th>\n",
       "      <th>day_of_week_0</th>\n",
       "      <th>day_of_week_1</th>\n",
       "      <th>day_of_week_2</th>\n",
       "      <th>day_of_week_3</th>\n",
       "      <th>day_of_week_4</th>\n",
       "      <th>day_of_week_5</th>\n",
       "      <th>day_of_week_6</th>\n",
       "      <th>times_of_day_Evening</th>\n",
       "      <th>times_of_day_Morning</th>\n",
       "      <th>times_of_day_Noon</th>\n",
       "      <th>is_image_0</th>\n",
       "      <th>is_image_1</th>\n",
       "      <th>is_image_2</th>\n",
       "      <th>is_image_3</th>\n",
       "      <th>is_quote_0</th>\n",
       "      <th>is_quote_1</th>\n",
       "      <th>is_quote_2</th>\n",
       "      <th>is_quote_3</th>\n",
       "      <th>is_quote_100</th>\n",
       "      <th>is_emoticons_0</th>\n",
       "      <th>is_emoticons_1</th>\n",
       "      <th>sender_3</th>\n",
       "      <th>sender_10</th>\n",
       "      <th>sender_15</th>\n",
       "      <th>sender_100</th>\n",
       "      <th>category_1</th>\n",
       "      <th>category_2</th>\n",
       "      <th>category_6</th>\n",
       "      <th>category_9</th>\n",
       "      <th>category_10</th>\n",
       "      <th>category_15</th>\n",
       "      <th>category_100</th>\n",
       "      <th>product_1</th>\n",
       "      <th>product_5</th>\n",
       "      <th>product_6</th>\n",
       "      <th>product_9</th>\n",
       "      <th>product_11</th>\n",
       "      <th>product_13</th>\n",
       "      <th>product_23</th>\n",
       "      <th>product_26</th>\n",
       "      <th>product_31</th>\n",
       "      <th>product_34</th>\n",
       "      <th>product_42</th>\n",
       "      <th>product_100</th>\n",
       "      <th>target_audience_10</th>\n",
       "      <th>target_audience_12</th>\n",
       "      <th>target_audience_14</th>\n",
       "      <th>target_audience_15</th>\n",
       "      <th>target_audience_16</th>\n",
       "      <th>target_audience_100</th>\n",
       "    </tr>\n",
       "  </thead>\n",
       "  <tbody>\n",
       "    <tr>\n",
       "      <th>0</th>\n",
       "      <td>76</td>\n",
       "      <td>10439</td>\n",
       "      <td>39</td>\n",
       "      <td>1</td>\n",
       "      <td>3</td>\n",
       "      <td>29</td>\n",
       "      <td>0</td>\n",
       "      <td>0</td>\n",
       "      <td>0</td>\n",
       "      <td>0</td>\n",
       "      <td>0</td>\n",
       "      <td>0</td>\n",
       "      <td>0</td>\n",
       "      <td>0</td>\n",
       "      <td>1</td>\n",
       "      <td>0</td>\n",
       "      <td>0</td>\n",
       "      <td>0</td>\n",
       "      <td>1</td>\n",
       "      <td>1</td>\n",
       "      <td>0</td>\n",
       "      <td>0</td>\n",
       "      <td>0</td>\n",
       "      <td>1</td>\n",
       "      <td>0</td>\n",
       "      <td>0</td>\n",
       "      <td>0</td>\n",
       "      <td>0</td>\n",
       "      <td>1</td>\n",
       "      <td>0</td>\n",
       "      <td>1</td>\n",
       "      <td>0</td>\n",
       "      <td>0</td>\n",
       "      <td>0</td>\n",
       "      <td>0</td>\n",
       "      <td>0</td>\n",
       "      <td>1</td>\n",
       "      <td>0</td>\n",
       "      <td>0</td>\n",
       "      <td>0</td>\n",
       "      <td>0</td>\n",
       "      <td>0</td>\n",
       "      <td>0</td>\n",
       "      <td>0</td>\n",
       "      <td>0</td>\n",
       "      <td>0</td>\n",
       "      <td>0</td>\n",
       "      <td>0</td>\n",
       "      <td>1</td>\n",
       "      <td>0</td>\n",
       "      <td>0</td>\n",
       "      <td>0</td>\n",
       "      <td>0</td>\n",
       "      <td>0</td>\n",
       "      <td>0</td>\n",
       "      <td>1</td>\n",
       "      <td>0</td>\n",
       "      <td>0</td>\n",
       "      <td>0</td>\n",
       "    </tr>\n",
       "    <tr>\n",
       "      <th>1</th>\n",
       "      <td>54</td>\n",
       "      <td>2570</td>\n",
       "      <td>256</td>\n",
       "      <td>1</td>\n",
       "      <td>0</td>\n",
       "      <td>22</td>\n",
       "      <td>0</td>\n",
       "      <td>0</td>\n",
       "      <td>0</td>\n",
       "      <td>0</td>\n",
       "      <td>0</td>\n",
       "      <td>0</td>\n",
       "      <td>0</td>\n",
       "      <td>0</td>\n",
       "      <td>1</td>\n",
       "      <td>0</td>\n",
       "      <td>0</td>\n",
       "      <td>1</td>\n",
       "      <td>0</td>\n",
       "      <td>1</td>\n",
       "      <td>0</td>\n",
       "      <td>0</td>\n",
       "      <td>0</td>\n",
       "      <td>1</td>\n",
       "      <td>0</td>\n",
       "      <td>0</td>\n",
       "      <td>0</td>\n",
       "      <td>0</td>\n",
       "      <td>1</td>\n",
       "      <td>0</td>\n",
       "      <td>1</td>\n",
       "      <td>0</td>\n",
       "      <td>0</td>\n",
       "      <td>0</td>\n",
       "      <td>0</td>\n",
       "      <td>1</td>\n",
       "      <td>0</td>\n",
       "      <td>0</td>\n",
       "      <td>0</td>\n",
       "      <td>0</td>\n",
       "      <td>0</td>\n",
       "      <td>0</td>\n",
       "      <td>0</td>\n",
       "      <td>0</td>\n",
       "      <td>0</td>\n",
       "      <td>1</td>\n",
       "      <td>0</td>\n",
       "      <td>0</td>\n",
       "      <td>0</td>\n",
       "      <td>0</td>\n",
       "      <td>0</td>\n",
       "      <td>0</td>\n",
       "      <td>0</td>\n",
       "      <td>1</td>\n",
       "      <td>0</td>\n",
       "      <td>0</td>\n",
       "      <td>0</td>\n",
       "      <td>0</td>\n",
       "      <td>0</td>\n",
       "    </tr>\n",
       "    <tr>\n",
       "      <th>2</th>\n",
       "      <td>59</td>\n",
       "      <td>12801</td>\n",
       "      <td>16</td>\n",
       "      <td>1</td>\n",
       "      <td>3</td>\n",
       "      <td>23</td>\n",
       "      <td>0</td>\n",
       "      <td>0</td>\n",
       "      <td>0</td>\n",
       "      <td>0</td>\n",
       "      <td>0</td>\n",
       "      <td>0</td>\n",
       "      <td>0</td>\n",
       "      <td>0</td>\n",
       "      <td>1</td>\n",
       "      <td>0</td>\n",
       "      <td>0</td>\n",
       "      <td>0</td>\n",
       "      <td>1</td>\n",
       "      <td>0</td>\n",
       "      <td>1</td>\n",
       "      <td>0</td>\n",
       "      <td>0</td>\n",
       "      <td>0</td>\n",
       "      <td>1</td>\n",
       "      <td>0</td>\n",
       "      <td>0</td>\n",
       "      <td>0</td>\n",
       "      <td>1</td>\n",
       "      <td>0</td>\n",
       "      <td>1</td>\n",
       "      <td>0</td>\n",
       "      <td>0</td>\n",
       "      <td>0</td>\n",
       "      <td>0</td>\n",
       "      <td>1</td>\n",
       "      <td>0</td>\n",
       "      <td>0</td>\n",
       "      <td>0</td>\n",
       "      <td>0</td>\n",
       "      <td>0</td>\n",
       "      <td>0</td>\n",
       "      <td>0</td>\n",
       "      <td>0</td>\n",
       "      <td>0</td>\n",
       "      <td>1</td>\n",
       "      <td>0</td>\n",
       "      <td>0</td>\n",
       "      <td>0</td>\n",
       "      <td>0</td>\n",
       "      <td>0</td>\n",
       "      <td>0</td>\n",
       "      <td>0</td>\n",
       "      <td>0</td>\n",
       "      <td>0</td>\n",
       "      <td>0</td>\n",
       "      <td>0</td>\n",
       "      <td>1</td>\n",
       "      <td>0</td>\n",
       "    </tr>\n",
       "    <tr>\n",
       "      <th>3</th>\n",
       "      <td>74</td>\n",
       "      <td>11037</td>\n",
       "      <td>30</td>\n",
       "      <td>0</td>\n",
       "      <td>4</td>\n",
       "      <td>24</td>\n",
       "      <td>0</td>\n",
       "      <td>0</td>\n",
       "      <td>0</td>\n",
       "      <td>0</td>\n",
       "      <td>0</td>\n",
       "      <td>0</td>\n",
       "      <td>0</td>\n",
       "      <td>1</td>\n",
       "      <td>0</td>\n",
       "      <td>0</td>\n",
       "      <td>1</td>\n",
       "      <td>0</td>\n",
       "      <td>0</td>\n",
       "      <td>1</td>\n",
       "      <td>0</td>\n",
       "      <td>0</td>\n",
       "      <td>0</td>\n",
       "      <td>1</td>\n",
       "      <td>0</td>\n",
       "      <td>0</td>\n",
       "      <td>0</td>\n",
       "      <td>0</td>\n",
       "      <td>1</td>\n",
       "      <td>0</td>\n",
       "      <td>1</td>\n",
       "      <td>0</td>\n",
       "      <td>0</td>\n",
       "      <td>0</td>\n",
       "      <td>0</td>\n",
       "      <td>0</td>\n",
       "      <td>0</td>\n",
       "      <td>0</td>\n",
       "      <td>0</td>\n",
       "      <td>1</td>\n",
       "      <td>0</td>\n",
       "      <td>0</td>\n",
       "      <td>0</td>\n",
       "      <td>0</td>\n",
       "      <td>1</td>\n",
       "      <td>0</td>\n",
       "      <td>0</td>\n",
       "      <td>0</td>\n",
       "      <td>0</td>\n",
       "      <td>0</td>\n",
       "      <td>0</td>\n",
       "      <td>0</td>\n",
       "      <td>0</td>\n",
       "      <td>1</td>\n",
       "      <td>0</td>\n",
       "      <td>0</td>\n",
       "      <td>0</td>\n",
       "      <td>0</td>\n",
       "      <td>0</td>\n",
       "    </tr>\n",
       "    <tr>\n",
       "      <th>4</th>\n",
       "      <td>80</td>\n",
       "      <td>10011</td>\n",
       "      <td>27</td>\n",
       "      <td>1</td>\n",
       "      <td>3</td>\n",
       "      <td>31</td>\n",
       "      <td>0</td>\n",
       "      <td>0</td>\n",
       "      <td>0</td>\n",
       "      <td>0</td>\n",
       "      <td>0</td>\n",
       "      <td>0</td>\n",
       "      <td>0</td>\n",
       "      <td>0</td>\n",
       "      <td>1</td>\n",
       "      <td>0</td>\n",
       "      <td>0</td>\n",
       "      <td>0</td>\n",
       "      <td>1</td>\n",
       "      <td>1</td>\n",
       "      <td>0</td>\n",
       "      <td>0</td>\n",
       "      <td>0</td>\n",
       "      <td>0</td>\n",
       "      <td>1</td>\n",
       "      <td>0</td>\n",
       "      <td>0</td>\n",
       "      <td>0</td>\n",
       "      <td>1</td>\n",
       "      <td>0</td>\n",
       "      <td>1</td>\n",
       "      <td>0</td>\n",
       "      <td>0</td>\n",
       "      <td>0</td>\n",
       "      <td>0</td>\n",
       "      <td>0</td>\n",
       "      <td>1</td>\n",
       "      <td>0</td>\n",
       "      <td>0</td>\n",
       "      <td>0</td>\n",
       "      <td>0</td>\n",
       "      <td>0</td>\n",
       "      <td>0</td>\n",
       "      <td>0</td>\n",
       "      <td>0</td>\n",
       "      <td>0</td>\n",
       "      <td>0</td>\n",
       "      <td>0</td>\n",
       "      <td>1</td>\n",
       "      <td>0</td>\n",
       "      <td>0</td>\n",
       "      <td>0</td>\n",
       "      <td>0</td>\n",
       "      <td>0</td>\n",
       "      <td>0</td>\n",
       "      <td>1</td>\n",
       "      <td>0</td>\n",
       "      <td>0</td>\n",
       "      <td>0</td>\n",
       "    </tr>\n",
       "  </tbody>\n",
       "</table>\n",
       "</div>"
      ],
      "text/plain": [
       "   subject_len  body_len  mean_paragraph_len  is_weekend  no_of_CTA  \\\n",
       "0           76     10439                  39           1          3   \n",
       "1           54      2570                 256           1          0   \n",
       "2           59     12801                  16           1          3   \n",
       "3           74     11037                  30           0          4   \n",
       "4           80     10011                  27           1          3   \n",
       "\n",
       "   mean_CTA_len  is_personalised  is_discount  is_urgency  day_of_week_0  \\\n",
       "0            29                0            0           0              0   \n",
       "1            22                0            0           0              0   \n",
       "2            23                0            0           0              0   \n",
       "3            24                0            0           0              0   \n",
       "4            31                0            0           0              0   \n",
       "\n",
       "   day_of_week_1  day_of_week_2  day_of_week_3  day_of_week_4  day_of_week_5  \\\n",
       "0              0              0              0              0              1   \n",
       "1              0              0              0              0              1   \n",
       "2              0              0              0              0              1   \n",
       "3              0              0              0              1              0   \n",
       "4              0              0              0              0              1   \n",
       "\n",
       "   day_of_week_6  times_of_day_Evening  times_of_day_Morning  \\\n",
       "0              0                     0                     0   \n",
       "1              0                     0                     1   \n",
       "2              0                     0                     0   \n",
       "3              0                     1                     0   \n",
       "4              0                     0                     0   \n",
       "\n",
       "   times_of_day_Noon  is_image_0  is_image_1  is_image_2  is_image_3  \\\n",
       "0                  1           1           0           0           0   \n",
       "1                  0           1           0           0           0   \n",
       "2                  1           0           1           0           0   \n",
       "3                  0           1           0           0           0   \n",
       "4                  1           1           0           0           0   \n",
       "\n",
       "   is_quote_0  is_quote_1  is_quote_2  is_quote_3  is_quote_100  \\\n",
       "0           1           0           0           0             0   \n",
       "1           1           0           0           0             0   \n",
       "2           0           1           0           0             0   \n",
       "3           1           0           0           0             0   \n",
       "4           0           1           0           0             0   \n",
       "\n",
       "   is_emoticons_0  is_emoticons_1  sender_3  sender_10  sender_15  sender_100  \\\n",
       "0               1               0         1          0          0           0   \n",
       "1               1               0         1          0          0           0   \n",
       "2               1               0         1          0          0           0   \n",
       "3               1               0         1          0          0           0   \n",
       "4               1               0         1          0          0           0   \n",
       "\n",
       "   category_1  category_2  category_6  category_9  category_10  category_15  \\\n",
       "0           0           0           1           0            0            0   \n",
       "1           0           1           0           0            0            0   \n",
       "2           0           1           0           0            0            0   \n",
       "3           0           0           0           0            0            1   \n",
       "4           0           0           1           0            0            0   \n",
       "\n",
       "   category_100  product_1  product_5  product_6  product_9  product_11  \\\n",
       "0             0          0          0          0          0           0   \n",
       "1             0          0          0          0          0           1   \n",
       "2             0          0          0          0          0           1   \n",
       "3             0          0          0          0          1           0   \n",
       "4             0          0          0          0          0           0   \n",
       "\n",
       "   product_13  product_23  product_26  product_31  product_34  product_42  \\\n",
       "0           0           0           1           0           0           0   \n",
       "1           0           0           0           0           0           0   \n",
       "2           0           0           0           0           0           0   \n",
       "3           0           0           0           0           0           0   \n",
       "4           0           0           1           0           0           0   \n",
       "\n",
       "   product_100  target_audience_10  target_audience_12  target_audience_14  \\\n",
       "0            0                   0                   0                   1   \n",
       "1            0                   1                   0                   0   \n",
       "2            0                   0                   0                   0   \n",
       "3            0                   1                   0                   0   \n",
       "4            0                   0                   0                   1   \n",
       "\n",
       "   target_audience_15  target_audience_16  target_audience_100  \n",
       "0                   0                   0                    0  \n",
       "1                   0                   0                    0  \n",
       "2                   0                   1                    0  \n",
       "3                   0                   0                    0  \n",
       "4                   0                   0                    0  "
      ]
     },
     "execution_count": 76,
     "metadata": {},
     "output_type": "execute_result"
    }
   ],
   "source": [
    "x.head()"
   ]
  },
  {
   "cell_type": "code",
   "execution_count": 77,
   "id": "d579814e-5e84-463c-8cf0-235b3d391bbe",
   "metadata": {},
   "outputs": [
    {
     "data": {
      "text/plain": [
       "(1888, 59)"
      ]
     },
     "execution_count": 77,
     "metadata": {},
     "output_type": "execute_result"
    }
   ],
   "source": [
    "x.shape"
   ]
  },
  {
   "cell_type": "code",
   "execution_count": 78,
   "id": "45b014c4-7ed4-4ecc-abd0-927f59acdab7",
   "metadata": {},
   "outputs": [
    {
     "data": {
      "text/plain": [
       "<AxesSubplot:>"
      ]
     },
     "execution_count": 78,
     "metadata": {},
     "output_type": "execute_result"
    },
    {
     "data": {
      "image/png": "[encoded data removed]",
      "text/plain": [
       "<Figure size 1800x1080 with 2 Axes>"
      ]
     },
     "metadata": {
      "needs_background": "light"
     },
     "output_type": "display_data"
    }
   ],
   "source": [
    "plt.figure(figsize=(25,15))\n",
    "sns.heatmap(x.corr(),vmin= -1,vmax=1)"
   ]
  },
  {
   "cell_type": "code",
   "execution_count": null,
   "id": "06f6317f-7e07-415f-916b-05b4c795fb2d",
   "metadata": {},
   "outputs": [],
   "source": []
  },
  {
   "cell_type": "markdown",
   "id": "ea648a67-ef0d-4873-a6fb-bcd2b4606067",
   "metadata": {},
   "source": [
    "# Remove multi colinearty within the data"
   ]
  },
  {
   "cell_type": "code",
   "execution_count": 79,
   "id": "ce84079c-0703-4f0b-b1e4-edb04c817f68",
   "metadata": {
    "tags": []
   },
   "outputs": [],
   "source": [
    "num_col=[]\n",
    "for i in x.columns:\n",
    "    if x[i].nunique() !=2:\n",
    "        num_col.append(i)"
   ]
  },
  {
   "cell_type": "code",
   "execution_count": 80,
   "id": "6c05f9bd-128d-4947-b74d-ee567374fd35",
   "metadata": {},
   "outputs": [
    {
     "data": {
      "text/plain": [
       "['subject_len', 'body_len', 'mean_paragraph_len', 'no_of_CTA', 'mean_CTA_len']"
      ]
     },
     "execution_count": 80,
     "metadata": {},
     "output_type": "execute_result"
    }
   ],
   "source": [
    "num_col"
   ]
  },
  {
   "cell_type": "code",
   "execution_count": 81,
   "id": "4df48b9c-0ffd-4b24-9478-991f606ad7f9",
   "metadata": {},
   "outputs": [
    {
     "name": "stdout",
     "output_type": "stream",
     "text": [
      "numerical columns after mulit colinearity removal are : ['subject_len', 'body_len', 'mean_paragraph_len', 'no_of_CTA', 'mean_CTA_len']\n"
     ]
    }
   ],
   "source": [
    "print(\"numerical columns after mulit colinearity removal are :\",num_col)"
   ]
  },
  {
   "cell_type": "code",
   "execution_count": 82,
   "id": "cc089bf3-c9e4-4df4-8a9d-01053a788e39",
   "metadata": {},
   "outputs": [
    {
     "name": "stdout",
     "output_type": "stream",
     "text": [
      "we have 5 numerical columns\n"
     ]
    }
   ],
   "source": [
    "print(\"we have\", len(num_col),\"numerical columns\")"
   ]
  },
  {
   "cell_type": "markdown",
   "id": "74a0f3bc-5d6b-4fef-98f8-06bd3cbbebec",
   "metadata": {},
   "source": [
    "* we need to scale them"
   ]
  },
  {
   "cell_type": "code",
   "execution_count": 83,
   "id": "7452839a-e04b-409b-831c-57d62368e08d",
   "metadata": {},
   "outputs": [
    {
     "data": {
      "text/html": [
       "<div>\n",
       "<style scoped>\n",
       "    .dataframe tbody tr th:only-of-type {\n",
       "        vertical-align: middle;\n",
       "    }\n",
       "\n",
       "    .dataframe tbody tr th {\n",
       "        vertical-align: top;\n",
       "    }\n",
       "\n",
       "    .dataframe thead th {\n",
       "        text-align: right;\n",
       "    }\n",
       "</style>\n",
       "<table border=\"1\" class=\"dataframe\">\n",
       "  <thead>\n",
       "    <tr style=\"text-align: right;\">\n",
       "      <th></th>\n",
       "      <th>subject_len</th>\n",
       "      <th>body_len</th>\n",
       "      <th>mean_paragraph_len</th>\n",
       "      <th>no_of_CTA</th>\n",
       "      <th>mean_CTA_len</th>\n",
       "    </tr>\n",
       "  </thead>\n",
       "  <tbody>\n",
       "    <tr>\n",
       "      <th>0</th>\n",
       "      <td>76</td>\n",
       "      <td>10439</td>\n",
       "      <td>39</td>\n",
       "      <td>3</td>\n",
       "      <td>29</td>\n",
       "    </tr>\n",
       "    <tr>\n",
       "      <th>1</th>\n",
       "      <td>54</td>\n",
       "      <td>2570</td>\n",
       "      <td>256</td>\n",
       "      <td>0</td>\n",
       "      <td>22</td>\n",
       "    </tr>\n",
       "    <tr>\n",
       "      <th>2</th>\n",
       "      <td>59</td>\n",
       "      <td>12801</td>\n",
       "      <td>16</td>\n",
       "      <td>3</td>\n",
       "      <td>23</td>\n",
       "    </tr>\n",
       "    <tr>\n",
       "      <th>3</th>\n",
       "      <td>74</td>\n",
       "      <td>11037</td>\n",
       "      <td>30</td>\n",
       "      <td>4</td>\n",
       "      <td>24</td>\n",
       "    </tr>\n",
       "    <tr>\n",
       "      <th>4</th>\n",
       "      <td>80</td>\n",
       "      <td>10011</td>\n",
       "      <td>27</td>\n",
       "      <td>3</td>\n",
       "      <td>31</td>\n",
       "    </tr>\n",
       "  </tbody>\n",
       "</table>\n",
       "</div>"
      ],
      "text/plain": [
       "   subject_len  body_len  mean_paragraph_len  no_of_CTA  mean_CTA_len\n",
       "0           76     10439                  39          3            29\n",
       "1           54      2570                 256          0            22\n",
       "2           59     12801                  16          3            23\n",
       "3           74     11037                  30          4            24\n",
       "4           80     10011                  27          3            31"
      ]
     },
     "execution_count": 83,
     "metadata": {},
     "output_type": "execute_result"
    }
   ],
   "source": [
    "x[num_col].head()"
   ]
  },
  {
   "cell_type": "code",
   "execution_count": 84,
   "id": "b241ac8c-79d8-41d7-b6ab-93e80e4d09a0",
   "metadata": {},
   "outputs": [
    {
     "data": {
      "text/plain": [
       "<AxesSubplot:>"
      ]
     },
     "execution_count": 84,
     "metadata": {},
     "output_type": "execute_result"
    },
    {
     "data": {
      "image/png": "[encoded data removed]",
      "text/plain": [
       "<Figure size 432x288 with 2 Axes>"
      ]
     },
     "metadata": {
      "needs_background": "light"
     },
     "output_type": "display_data"
    }
   ],
   "source": [
    "corr=pd.concat([x[num_col],y],axis=1)\n",
    "corr=corr.corr()\n",
    "sns.heatmap(corr,annot=True,vmax=1,vmin = -1)"
   ]
  },
  {
   "cell_type": "code",
   "execution_count": 85,
   "id": "186b58fc-b45c-444a-8cab-50b2e4f7befb",
   "metadata": {},
   "outputs": [
    {
     "name": "stderr",
     "output_type": "stream",
     "text": [
      "/home/thecybermonster/.local/lib/python3.10/site-packages/pandas/core/arraylike.py:397: RuntimeWarning: divide by zero encountered in log\n",
      "  result = getattr(ufunc, method)(*inputs, **kwargs)\n"
     ]
    },
    {
     "data": {
      "text/plain": [
       "<AxesSubplot:>"
      ]
     },
     "execution_count": 85,
     "metadata": {},
     "output_type": "execute_result"
    },
    {
     "data": {
      "image/png": "[encoded data removed]",
      "text/plain": [
       "<Figure size 432x288 with 2 Axes>"
      ]
     },
     "metadata": {
      "needs_background": "light"
     },
     "output_type": "display_data"
    }
   ],
   "source": [
    "corr=pd.concat([x[num_col],np.log(y)],axis=1)\n",
    "corr=corr.corr()\n",
    "sns.heatmap(corr,annot=True,vmax=1,vmin = -1)"
   ]
  },
  {
   "cell_type": "markdown",
   "id": "84055ffe-f99d-4e28-8c49-97011b444169",
   "metadata": {},
   "source": [
    "* there is no high coo-relation with meand Linear regression doesnt perform wel even after tranformting y column to normal distribution\n",
    "* so we will build xgboost regression model\n",
    "* XgBoost is capable of handling Mulit colinearty"
   ]
  },
  {
   "cell_type": "code",
   "execution_count": 86,
   "id": "8c80010a-4f72-4a37-89ef-1637a660b369",
   "metadata": {},
   "outputs": [
    {
     "data": {
      "text/html": [
       "<div>\n",
       "<style scoped>\n",
       "    .dataframe tbody tr th:only-of-type {\n",
       "        vertical-align: middle;\n",
       "    }\n",
       "\n",
       "    .dataframe tbody tr th {\n",
       "        vertical-align: top;\n",
       "    }\n",
       "\n",
       "    .dataframe thead th {\n",
       "        text-align: right;\n",
       "    }\n",
       "</style>\n",
       "<table border=\"1\" class=\"dataframe\">\n",
       "  <thead>\n",
       "    <tr style=\"text-align: right;\">\n",
       "      <th></th>\n",
       "      <th>subject_len</th>\n",
       "      <th>body_len</th>\n",
       "      <th>mean_paragraph_len</th>\n",
       "      <th>no_of_CTA</th>\n",
       "      <th>mean_CTA_len</th>\n",
       "    </tr>\n",
       "  </thead>\n",
       "  <tbody>\n",
       "    <tr>\n",
       "      <th>0</th>\n",
       "      <td>76</td>\n",
       "      <td>10439</td>\n",
       "      <td>39</td>\n",
       "      <td>3</td>\n",
       "      <td>29</td>\n",
       "    </tr>\n",
       "    <tr>\n",
       "      <th>1</th>\n",
       "      <td>54</td>\n",
       "      <td>2570</td>\n",
       "      <td>256</td>\n",
       "      <td>0</td>\n",
       "      <td>22</td>\n",
       "    </tr>\n",
       "    <tr>\n",
       "      <th>2</th>\n",
       "      <td>59</td>\n",
       "      <td>12801</td>\n",
       "      <td>16</td>\n",
       "      <td>3</td>\n",
       "      <td>23</td>\n",
       "    </tr>\n",
       "    <tr>\n",
       "      <th>3</th>\n",
       "      <td>74</td>\n",
       "      <td>11037</td>\n",
       "      <td>30</td>\n",
       "      <td>4</td>\n",
       "      <td>24</td>\n",
       "    </tr>\n",
       "    <tr>\n",
       "      <th>4</th>\n",
       "      <td>80</td>\n",
       "      <td>10011</td>\n",
       "      <td>27</td>\n",
       "      <td>3</td>\n",
       "      <td>31</td>\n",
       "    </tr>\n",
       "  </tbody>\n",
       "</table>\n",
       "</div>"
      ],
      "text/plain": [
       "   subject_len  body_len  mean_paragraph_len  no_of_CTA  mean_CTA_len\n",
       "0           76     10439                  39          3            29\n",
       "1           54      2570                 256          0            22\n",
       "2           59     12801                  16          3            23\n",
       "3           74     11037                  30          4            24\n",
       "4           80     10011                  27          3            31"
      ]
     },
     "execution_count": 86,
     "metadata": {},
     "output_type": "execute_result"
    }
   ],
   "source": [
    "x[num_col].head()"
   ]
  },
  {
   "cell_type": "code",
   "execution_count": 87,
   "id": "ca9a13a5-e922-4032-b346-1b5ab0de084f",
   "metadata": {},
   "outputs": [],
   "source": [
    "scale= StandardScaler()\n",
    "x[num_col]=scale.fit_transform(x[num_col])\n",
    "df_test[num_col]=scale.transform(df_test[num_col])"
   ]
  },
  {
   "cell_type": "code",
   "execution_count": 88,
   "id": "e48fa449-2cc7-47ef-8362-4d9cff9ed55e",
   "metadata": {},
   "outputs": [
    {
     "data": {
      "text/html": [
       "<div>\n",
       "<style scoped>\n",
       "    .dataframe tbody tr th:only-of-type {\n",
       "        vertical-align: middle;\n",
       "    }\n",
       "\n",
       "    .dataframe tbody tr th {\n",
       "        vertical-align: top;\n",
       "    }\n",
       "\n",
       "    .dataframe thead th {\n",
       "        text-align: right;\n",
       "    }\n",
       "</style>\n",
       "<table border=\"1\" class=\"dataframe\">\n",
       "  <thead>\n",
       "    <tr style=\"text-align: right;\">\n",
       "      <th></th>\n",
       "      <th>subject_len</th>\n",
       "      <th>body_len</th>\n",
       "      <th>mean_paragraph_len</th>\n",
       "      <th>no_of_CTA</th>\n",
       "      <th>mean_CTA_len</th>\n",
       "    </tr>\n",
       "  </thead>\n",
       "  <tbody>\n",
       "    <tr>\n",
       "      <th>0</th>\n",
       "      <td>-0.340011</td>\n",
       "      <td>-0.511459</td>\n",
       "      <td>0.133676</td>\n",
       "      <td>-0.264194</td>\n",
       "      <td>-0.104094</td>\n",
       "    </tr>\n",
       "    <tr>\n",
       "      <th>1</th>\n",
       "      <td>-1.070053</td>\n",
       "      <td>-1.585626</td>\n",
       "      <td>7.847300</td>\n",
       "      <td>-0.912545</td>\n",
       "      <td>-0.695035</td>\n",
       "    </tr>\n",
       "    <tr>\n",
       "      <th>2</th>\n",
       "      <td>-0.904134</td>\n",
       "      <td>-0.189031</td>\n",
       "      <td>-0.683896</td>\n",
       "      <td>-0.264194</td>\n",
       "      <td>-0.610615</td>\n",
       "    </tr>\n",
       "    <tr>\n",
       "      <th>3</th>\n",
       "      <td>-0.406378</td>\n",
       "      <td>-0.429828</td>\n",
       "      <td>-0.186243</td>\n",
       "      <td>-0.048077</td>\n",
       "      <td>-0.526195</td>\n",
       "    </tr>\n",
       "    <tr>\n",
       "      <th>4</th>\n",
       "      <td>-0.207275</td>\n",
       "      <td>-0.569883</td>\n",
       "      <td>-0.292883</td>\n",
       "      <td>-0.264194</td>\n",
       "      <td>0.064746</td>\n",
       "    </tr>\n",
       "  </tbody>\n",
       "</table>\n",
       "</div>"
      ],
      "text/plain": [
       "   subject_len  body_len  mean_paragraph_len  no_of_CTA  mean_CTA_len\n",
       "0    -0.340011 -0.511459            0.133676  -0.264194     -0.104094\n",
       "1    -1.070053 -1.585626            7.847300  -0.912545     -0.695035\n",
       "2    -0.904134 -0.189031           -0.683896  -0.264194     -0.610615\n",
       "3    -0.406378 -0.429828           -0.186243  -0.048077     -0.526195\n",
       "4    -0.207275 -0.569883           -0.292883  -0.264194      0.064746"
      ]
     },
     "execution_count": 88,
     "metadata": {},
     "output_type": "execute_result"
    }
   ],
   "source": [
    "x[num_col].head()"
   ]
  },
  {
   "cell_type": "code",
   "execution_count": 89,
   "id": "ead78de9-1b9b-4753-8ae9-bd8a2004529d",
   "metadata": {},
   "outputs": [
    {
     "data": {
      "text/html": [
       "<div>\n",
       "<style scoped>\n",
       "    .dataframe tbody tr th:only-of-type {\n",
       "        vertical-align: middle;\n",
       "    }\n",
       "\n",
       "    .dataframe tbody tr th {\n",
       "        vertical-align: top;\n",
       "    }\n",
       "\n",
       "    .dataframe thead th {\n",
       "        text-align: right;\n",
       "    }\n",
       "</style>\n",
       "<table border=\"1\" class=\"dataframe\">\n",
       "  <thead>\n",
       "    <tr style=\"text-align: right;\">\n",
       "      <th></th>\n",
       "      <th>subject_len</th>\n",
       "      <th>body_len</th>\n",
       "      <th>mean_paragraph_len</th>\n",
       "      <th>no_of_CTA</th>\n",
       "      <th>mean_CTA_len</th>\n",
       "    </tr>\n",
       "  </thead>\n",
       "  <tbody>\n",
       "    <tr>\n",
       "      <th>0</th>\n",
       "      <td>-0.837767</td>\n",
       "      <td>-0.179476</td>\n",
       "      <td>-0.861630</td>\n",
       "      <td>-0.264194</td>\n",
       "      <td>0.571266</td>\n",
       "    </tr>\n",
       "    <tr>\n",
       "      <th>1</th>\n",
       "      <td>-1.070053</td>\n",
       "      <td>-1.585763</td>\n",
       "      <td>7.847300</td>\n",
       "      <td>-0.912545</td>\n",
       "      <td>-0.695035</td>\n",
       "    </tr>\n",
       "    <tr>\n",
       "      <th>2</th>\n",
       "      <td>0.058195</td>\n",
       "      <td>-1.735373</td>\n",
       "      <td>1.519996</td>\n",
       "      <td>-0.912545</td>\n",
       "      <td>-0.695035</td>\n",
       "    </tr>\n",
       "    <tr>\n",
       "      <th>3</th>\n",
       "      <td>0.058195</td>\n",
       "      <td>-1.735373</td>\n",
       "      <td>1.519996</td>\n",
       "      <td>-0.912545</td>\n",
       "      <td>-0.695035</td>\n",
       "    </tr>\n",
       "    <tr>\n",
       "      <th>4</th>\n",
       "      <td>-0.273643</td>\n",
       "      <td>-0.705161</td>\n",
       "      <td>-0.221790</td>\n",
       "      <td>-0.480311</td>\n",
       "      <td>0.824527</td>\n",
       "    </tr>\n",
       "  </tbody>\n",
       "</table>\n",
       "</div>"
      ],
      "text/plain": [
       "   subject_len  body_len  mean_paragraph_len  no_of_CTA  mean_CTA_len\n",
       "0    -0.837767 -0.179476           -0.861630  -0.264194      0.571266\n",
       "1    -1.070053 -1.585763            7.847300  -0.912545     -0.695035\n",
       "2     0.058195 -1.735373            1.519996  -0.912545     -0.695035\n",
       "3     0.058195 -1.735373            1.519996  -0.912545     -0.695035\n",
       "4    -0.273643 -0.705161           -0.221790  -0.480311      0.824527"
      ]
     },
     "execution_count": 89,
     "metadata": {},
     "output_type": "execute_result"
    }
   ],
   "source": [
    "df_test[num_col].head()"
   ]
  },
  {
   "cell_type": "code",
   "execution_count": 90,
   "id": "2e837444-d2ca-4fc0-b49e-f473d4fee320",
   "metadata": {},
   "outputs": [],
   "source": [
    "# PCA can handle multi colinearity so we will transform the entire data with multicolinearity\n",
    "pca=PCA()"
   ]
  },
  {
   "cell_type": "code",
   "execution_count": 91,
   "id": "2ed77be9-9027-4874-a60f-3b24fe447eac",
   "metadata": {},
   "outputs": [
    {
     "data": {
      "text/html": [
       "<style>#sk-container-id-1 {color: black;background-color: white;}#sk-container-id-1 pre{padding: 0;}#sk-container-id-1 div.sk-toggleable {background-color: white;}#sk-container-id-1 label.sk-toggleable__label {cursor: pointer;display: block;width: 100%;margin-bottom: 0;padding: 0.3em;box-sizing: border-box;text-align: center;}#sk-container-id-1 label.sk-toggleable__label-arrow:before {content: \"▸\";float: left;margin-right: 0.25em;color: #696969;}#sk-container-id-1 label.sk-toggleable__label-arrow:hover:before {color: black;}#sk-container-id-1 div.sk-estimator:hover label.sk-toggleable__label-arrow:before {color: black;}#sk-container-id-1 div.sk-toggleable__content {max-height: 0;max-width: 0;overflow: hidden;text-align: left;background-color: #f0f8ff;}#sk-container-id-1 div.sk-toggleable__content pre {margin: 0.2em;color: black;border-radius: 0.25em;background-color: #f0f8ff;}#sk-container-id-1 input.sk-toggleable__control:checked~div.sk-toggleable__content {max-height: 200px;max-width: 100%;overflow: auto;}#sk-container-id-1 input.sk-toggleable__control:checked~label.sk-toggleable__label-arrow:before {content: \"▾\";}#sk-container-id-1 div.sk-estimator input.sk-toggleable__control:checked~label.sk-toggleable__label {background-color: #d4ebff;}#sk-container-id-1 div.sk-label input.sk-toggleable__control:checked~label.sk-toggleable__label {background-color: #d4ebff;}#sk-container-id-1 input.sk-hidden--visually {border: 0;clip: rect(1px 1px 1px 1px);clip: rect(1px, 1px, 1px, 1px);height: 1px;margin: -1px;overflow: hidden;padding: 0;position: absolute;width: 1px;}#sk-container-id-1 div.sk-estimator {font-family: monospace;background-color: #f0f8ff;border: 1px dotted black;border-radius: 0.25em;box-sizing: border-box;margin-bottom: 0.5em;}#sk-container-id-1 div.sk-estimator:hover {background-color: #d4ebff;}#sk-container-id-1 div.sk-parallel-item::after {content: \"\";width: 100%;border-bottom: 1px solid gray;flex-grow: 1;}#sk-container-id-1 div.sk-label:hover label.sk-toggleable__label {background-color: #d4ebff;}#sk-container-id-1 div.sk-serial::before {content: \"\";position: absolute;border-left: 1px solid gray;box-sizing: border-box;top: 0;bottom: 0;left: 50%;z-index: 0;}#sk-container-id-1 div.sk-serial {display: flex;flex-direction: column;align-items: center;background-color: white;padding-right: 0.2em;padding-left: 0.2em;position: relative;}#sk-container-id-1 div.sk-item {position: relative;z-index: 1;}#sk-container-id-1 div.sk-parallel {display: flex;align-items: stretch;justify-content: center;background-color: white;position: relative;}#sk-container-id-1 div.sk-item::before, #sk-container-id-1 div.sk-parallel-item::before {content: \"\";position: absolute;border-left: 1px solid gray;box-sizing: border-box;top: 0;bottom: 0;left: 50%;z-index: -1;}#sk-container-id-1 div.sk-parallel-item {display: flex;flex-direction: column;z-index: 1;position: relative;background-color: white;}#sk-container-id-1 div.sk-parallel-item:first-child::after {align-self: flex-end;width: 50%;}#sk-container-id-1 div.sk-parallel-item:last-child::after {align-self: flex-start;width: 50%;}#sk-container-id-1 div.sk-parallel-item:only-child::after {width: 0;}#sk-container-id-1 div.sk-dashed-wrapped {border: 1px dashed gray;margin: 0 0.4em 0.5em 0.4em;box-sizing: border-box;padding-bottom: 0.4em;background-color: white;}#sk-container-id-1 div.sk-label label {font-family: monospace;font-weight: bold;display: inline-block;line-height: 1.2em;}#sk-container-id-1 div.sk-label-container {text-align: center;}#sk-container-id-1 div.sk-container {/* jupyter's `normalize.less` sets `[hidden] { display: none; }` but bootstrap.min.css set `[hidden] { display: none !important; }` so we also need the `!important` here to be able to override the default hidden behavior on the sphinx rendered scikit-learn.org. See: https://github.com/scikit-learn/scikit-learn/issues/21755 */display: inline-block !important;position: relative;}#sk-container-id-1 div.sk-text-repr-fallback {display: none;}</style><div id=\"sk-container-id-1\" class=\"sk-top-container\"><div class=\"sk-text-repr-fallback\"><pre>PCA()</pre><b>In a Jupyter environment, please rerun this cell to show the HTML representation or trust the notebook. <br />On GitHub, the HTML representation is unable to render, please try loading this page with nbviewer.org.</b></div><div class=\"sk-container\" hidden><div class=\"sk-item\"><div class=\"sk-estimator sk-toggleable\"><input class=\"sk-toggleable__control sk-hidden--visually\" id=\"sk-estimator-id-1\" type=\"checkbox\" checked><label for=\"sk-estimator-id-1\" class=\"sk-toggleable__label sk-toggleable__label-arrow\">PCA</label><div class=\"sk-toggleable__content\"><pre>PCA()</pre></div></div></div></div></div>"
      ],
      "text/plain": [
       "PCA()"
      ]
     },
     "execution_count": 91,
     "metadata": {},
     "output_type": "execute_result"
    }
   ],
   "source": [
    "pca.fit(x)"
   ]
  },
  {
   "cell_type": "code",
   "execution_count": 92,
   "id": "2ac0b79c-92d4-4d61-809b-c95f054c9255",
   "metadata": {},
   "outputs": [
    {
     "data": {
      "text/plain": [
       "59"
      ]
     },
     "execution_count": 92,
     "metadata": {},
     "output_type": "execute_result"
    }
   ],
   "source": [
    "len(pca.explained_variance_ratio_)"
   ]
  },
  {
   "cell_type": "code",
   "execution_count": 93,
   "id": "0c1574f0-589e-433b-8358-edcaa7a2299b",
   "metadata": {},
   "outputs": [
    {
     "data": {
      "text/plain": [
       "array([0.2081, 0.105 , 0.0715, 0.0632, 0.0475, 0.0399, 0.0356, 0.0347,\n",
       "       0.0312, 0.0297, 0.0254, 0.0226, 0.0216, 0.0194, 0.018 , 0.0173,\n",
       "       0.0168, 0.0156, 0.0151, 0.0143, 0.0128, 0.012 , 0.011 , 0.0109,\n",
       "       0.0105, 0.0084, 0.0083, 0.0072, 0.0068, 0.0061, 0.0057, 0.0053,\n",
       "       0.0051, 0.0045, 0.0042, 0.004 , 0.0037, 0.0036, 0.0034, 0.0032,\n",
       "       0.0028, 0.0025, 0.0025, 0.0021, 0.0006, 0.    , 0.    , 0.    ,\n",
       "       0.    , 0.    , 0.    , 0.    , 0.    , 0.    , 0.    , 0.    ,\n",
       "       0.    , 0.    , 0.    ])"
      ]
     },
     "execution_count": 93,
     "metadata": {},
     "output_type": "execute_result"
    }
   ],
   "source": [
    "np.round(pca.explained_variance_ratio_ ,4)"
   ]
  },
  {
   "cell_type": "code",
   "execution_count": 94,
   "id": "3baecdd1-a6be-422a-9c8a-47ccec42bc44",
   "metadata": {},
   "outputs": [
    {
     "data": {
      "text/plain": [
       "<AxesSubplot:>"
      ]
     },
     "execution_count": 94,
     "metadata": {},
     "output_type": "execute_result"
    },
    {
     "data": {
      "image/png": "[encoded data removed]",
      "text/plain": [
       "<Figure size 432x288 with 1 Axes>"
      ]
     },
     "metadata": {
      "needs_background": "light"
     },
     "output_type": "display_data"
    }
   ],
   "source": [
    "sns.lineplot(x=[i for i in range(1,60)],y=pca.explained_variance_ratio_)\n"
   ]
  },
  {
   "cell_type": "code",
   "execution_count": 95,
   "id": "a474fe5e-1a9b-474b-b958-11031fdcc864",
   "metadata": {},
   "outputs": [],
   "source": [
    "# PCA can handle multi colinearity so we will transform the entire data with multicolinearity\n",
    "pca=PCA(0.95)"
   ]
  },
  {
   "cell_type": "code",
   "execution_count": 96,
   "id": "df219c07-c56d-49e0-a075-a728e463b9c6",
   "metadata": {},
   "outputs": [
    {
     "data": {
      "text/html": [
       "<style>#sk-container-id-2 {color: black;background-color: white;}#sk-container-id-2 pre{padding: 0;}#sk-container-id-2 div.sk-toggleable {background-color: white;}#sk-container-id-2 label.sk-toggleable__label {cursor: pointer;display: block;width: 100%;margin-bottom: 0;padding: 0.3em;box-sizing: border-box;text-align: center;}#sk-container-id-2 label.sk-toggleable__label-arrow:before {content: \"▸\";float: left;margin-right: 0.25em;color: #696969;}#sk-container-id-2 label.sk-toggleable__label-arrow:hover:before {color: black;}#sk-container-id-2 div.sk-estimator:hover label.sk-toggleable__label-arrow:before {color: black;}#sk-container-id-2 div.sk-toggleable__content {max-height: 0;max-width: 0;overflow: hidden;text-align: left;background-color: #f0f8ff;}#sk-container-id-2 div.sk-toggleable__content pre {margin: 0.2em;color: black;border-radius: 0.25em;background-color: #f0f8ff;}#sk-container-id-2 input.sk-toggleable__control:checked~div.sk-toggleable__content {max-height: 200px;max-width: 100%;overflow: auto;}#sk-container-id-2 input.sk-toggleable__control:checked~label.sk-toggleable__label-arrow:before {content: \"▾\";}#sk-container-id-2 div.sk-estimator input.sk-toggleable__control:checked~label.sk-toggleable__label {background-color: #d4ebff;}#sk-container-id-2 div.sk-label input.sk-toggleable__control:checked~label.sk-toggleable__label {background-color: #d4ebff;}#sk-container-id-2 input.sk-hidden--visually {border: 0;clip: rect(1px 1px 1px 1px);clip: rect(1px, 1px, 1px, 1px);height: 1px;margin: -1px;overflow: hidden;padding: 0;position: absolute;width: 1px;}#sk-container-id-2 div.sk-estimator {font-family: monospace;background-color: #f0f8ff;border: 1px dotted black;border-radius: 0.25em;box-sizing: border-box;margin-bottom: 0.5em;}#sk-container-id-2 div.sk-estimator:hover {background-color: #d4ebff;}#sk-container-id-2 div.sk-parallel-item::after {content: \"\";width: 100%;border-bottom: 1px solid gray;flex-grow: 1;}#sk-container-id-2 div.sk-label:hover label.sk-toggleable__label {background-color: #d4ebff;}#sk-container-id-2 div.sk-serial::before {content: \"\";position: absolute;border-left: 1px solid gray;box-sizing: border-box;top: 0;bottom: 0;left: 50%;z-index: 0;}#sk-container-id-2 div.sk-serial {display: flex;flex-direction: column;align-items: center;background-color: white;padding-right: 0.2em;padding-left: 0.2em;position: relative;}#sk-container-id-2 div.sk-item {position: relative;z-index: 1;}#sk-container-id-2 div.sk-parallel {display: flex;align-items: stretch;justify-content: center;background-color: white;position: relative;}#sk-container-id-2 div.sk-item::before, #sk-container-id-2 div.sk-parallel-item::before {content: \"\";position: absolute;border-left: 1px solid gray;box-sizing: border-box;top: 0;bottom: 0;left: 50%;z-index: -1;}#sk-container-id-2 div.sk-parallel-item {display: flex;flex-direction: column;z-index: 1;position: relative;background-color: white;}#sk-container-id-2 div.sk-parallel-item:first-child::after {align-self: flex-end;width: 50%;}#sk-container-id-2 div.sk-parallel-item:last-child::after {align-self: flex-start;width: 50%;}#sk-container-id-2 div.sk-parallel-item:only-child::after {width: 0;}#sk-container-id-2 div.sk-dashed-wrapped {border: 1px dashed gray;margin: 0 0.4em 0.5em 0.4em;box-sizing: border-box;padding-bottom: 0.4em;background-color: white;}#sk-container-id-2 div.sk-label label {font-family: monospace;font-weight: bold;display: inline-block;line-height: 1.2em;}#sk-container-id-2 div.sk-label-container {text-align: center;}#sk-container-id-2 div.sk-container {/* jupyter's `normalize.less` sets `[hidden] { display: none; }` but bootstrap.min.css set `[hidden] { display: none !important; }` so we also need the `!important` here to be able to override the default hidden behavior on the sphinx rendered scikit-learn.org. See: https://github.com/scikit-learn/scikit-learn/issues/21755 */display: inline-block !important;position: relative;}#sk-container-id-2 div.sk-text-repr-fallback {display: none;}</style><div id=\"sk-container-id-2\" class=\"sk-top-container\"><div class=\"sk-text-repr-fallback\"><pre>PCA(n_components=0.95)</pre><b>In a Jupyter environment, please rerun this cell to show the HTML representation or trust the notebook. <br />On GitHub, the HTML representation is unable to render, please try loading this page with nbviewer.org.</b></div><div class=\"sk-container\" hidden><div class=\"sk-item\"><div class=\"sk-estimator sk-toggleable\"><input class=\"sk-toggleable__control sk-hidden--visually\" id=\"sk-estimator-id-2\" type=\"checkbox\" checked><label for=\"sk-estimator-id-2\" class=\"sk-toggleable__label sk-toggleable__label-arrow\">PCA</label><div class=\"sk-toggleable__content\"><pre>PCA(n_components=0.95)</pre></div></div></div></div></div>"
      ],
      "text/plain": [
       "PCA(n_components=0.95)"
      ]
     },
     "execution_count": 96,
     "metadata": {},
     "output_type": "execute_result"
    }
   ],
   "source": [
    "pca.fit(x)"
   ]
  },
  {
   "cell_type": "code",
   "execution_count": 97,
   "id": "49da48a0-ebf3-4ece-a2fd-44a6ee1da614",
   "metadata": {},
   "outputs": [
    {
     "data": {
      "text/plain": [
       "31"
      ]
     },
     "execution_count": 97,
     "metadata": {},
     "output_type": "execute_result"
    }
   ],
   "source": [
    "len(pca.explained_variance_ratio_)"
   ]
  },
  {
   "cell_type": "code",
   "execution_count": 98,
   "id": "b3c1457d-594b-4d26-8279-148b2ac1472b",
   "metadata": {},
   "outputs": [
    {
     "data": {
      "text/plain": [
       "array([0.2081, 0.105 , 0.0715, 0.0632, 0.0475, 0.0399, 0.0356, 0.0347,\n",
       "       0.0312, 0.0297, 0.0254, 0.0226, 0.0216, 0.0194, 0.018 , 0.0173,\n",
       "       0.0168, 0.0156, 0.0151, 0.0143, 0.0128, 0.012 , 0.011 , 0.0109,\n",
       "       0.0105, 0.0084, 0.0083, 0.0072, 0.0068, 0.0061, 0.0057])"
      ]
     },
     "execution_count": 98,
     "metadata": {},
     "output_type": "execute_result"
    }
   ],
   "source": [
    "np.round(pca.explained_variance_ratio_ ,4)"
   ]
  },
  {
   "cell_type": "code",
   "execution_count": 99,
   "id": "6014d0b5-4618-49ca-b27e-8c1e63c2bc86",
   "metadata": {},
   "outputs": [],
   "source": [
    "pac_data= pca.transform(x)"
   ]
  },
  {
   "cell_type": "code",
   "execution_count": 100,
   "id": "8a0affd8-430a-4f8e-b12b-10042e7776f8",
   "metadata": {},
   "outputs": [
    {
     "name": "stderr",
     "output_type": "stream",
     "text": [
      "/home/thecybermonster/.local/lib/python3.10/site-packages/pandas/core/arraylike.py:397: RuntimeWarning: divide by zero encountered in log\n",
      "  result = getattr(ufunc, method)(*inputs, **kwargs)\n"
     ]
    },
    {
     "data": {
      "text/plain": [
       "0      -2.272260\n",
       "1      -0.356675\n",
       "2      -5.889302\n",
       "3      -4.521954\n",
       "4      -1.946127\n",
       "          ...   \n",
       "1883   -1.047692\n",
       "1884   -5.354225\n",
       "1885   -4.792780\n",
       "1886   -4.421715\n",
       "1887   -5.614707\n",
       "Name: click_rate, Length: 1888, dtype: float64"
      ]
     },
     "execution_count": 100,
     "metadata": {},
     "output_type": "execute_result"
    }
   ],
   "source": [
    "Y= np.log(y)\n",
    "Y"
   ]
  },
  {
   "cell_type": "code",
   "execution_count": 101,
   "id": "df62f996-62b8-40ec-9fe7-b4d7607dd89e",
   "metadata": {},
   "outputs": [
    {
     "data": {
      "text/plain": [
       "\u001b[0;31mInit signature:\u001b[0m\n",
       "\u001b[0mXGBRegressor\u001b[0m\u001b[0;34m(\u001b[0m\u001b[0;34m\u001b[0m\n",
       "\u001b[0;34m\u001b[0m    \u001b[0;34m*\u001b[0m\u001b[0;34m,\u001b[0m\u001b[0;34m\u001b[0m\n",
       "\u001b[0;34m\u001b[0m    \u001b[0mobjective\u001b[0m\u001b[0;34m:\u001b[0m \u001b[0mUnion\u001b[0m\u001b[0;34m[\u001b[0m\u001b[0mstr\u001b[0m\u001b[0;34m,\u001b[0m \u001b[0mCallable\u001b[0m\u001b[0;34m[\u001b[0m\u001b[0;34m[\u001b[0m\u001b[0mnumpy\u001b[0m\u001b[0;34m.\u001b[0m\u001b[0mndarray\u001b[0m\u001b[0;34m,\u001b[0m \u001b[0mnumpy\u001b[0m\u001b[0;34m.\u001b[0m\u001b[0mndarray\u001b[0m\u001b[0;34m]\u001b[0m\u001b[0;34m,\u001b[0m \u001b[0mTuple\u001b[0m\u001b[0;34m[\u001b[0m\u001b[0mnumpy\u001b[0m\u001b[0;34m.\u001b[0m\u001b[0mndarray\u001b[0m\u001b[0;34m,\u001b[0m \u001b[0mnumpy\u001b[0m\u001b[0;34m.\u001b[0m\u001b[0mndarray\u001b[0m\u001b[0;34m]\u001b[0m\u001b[0;34m]\u001b[0m\u001b[0;34m,\u001b[0m \u001b[0mNoneType\u001b[0m\u001b[0;34m]\u001b[0m \u001b[0;34m=\u001b[0m \u001b[0;34m'reg:squarederror'\u001b[0m\u001b[0;34m,\u001b[0m\u001b[0;34m\u001b[0m\n",
       "\u001b[0;34m\u001b[0m    \u001b[0;34m**\u001b[0m\u001b[0mkwargs\u001b[0m\u001b[0;34m:\u001b[0m \u001b[0mAny\u001b[0m\u001b[0;34m,\u001b[0m\u001b[0;34m\u001b[0m\n",
       "\u001b[0;34m\u001b[0m\u001b[0;34m)\u001b[0m \u001b[0;34m->\u001b[0m \u001b[0;32mNone\u001b[0m\u001b[0;34m\u001b[0m\u001b[0;34m\u001b[0m\u001b[0m\n",
       "\u001b[0;31mDocstring:\u001b[0m     \n",
       "Implementation of the scikit-learn API for XGBoost regression.\n",
       "\n",
       "\n",
       "Parameters\n",
       "----------\n",
       "\n",
       "    n_estimators : int\n",
       "        Number of gradient boosted trees.  Equivalent to number of boosting\n",
       "        rounds.\n",
       "\n",
       "    max_depth :  Optional[int]\n",
       "        Maximum tree depth for base learners.\n",
       "    max_leaves :\n",
       "        Maximum number of leaves; 0 indicates no limit.\n",
       "    max_bin :\n",
       "        If using histogram-based algorithm, maximum number of bins per feature\n",
       "    grow_policy :\n",
       "        Tree growing policy. 0: favor splitting at nodes closest to the node, i.e. grow\n",
       "        depth-wise. 1: favor splitting at nodes with highest loss change.\n",
       "    learning_rate : Optional[float]\n",
       "        Boosting learning rate (xgb's \"eta\")\n",
       "    verbosity : Optional[int]\n",
       "        The degree of verbosity. Valid values are 0 (silent) - 3 (debug).\n",
       "    objective : typing.Union[str, typing.Callable[[numpy.ndarray, numpy.ndarray], typing.Tuple[numpy.ndarray, numpy.ndarray]], NoneType]\n",
       "        Specify the learning task and the corresponding learning objective or\n",
       "        a custom objective function to be used (see note below).\n",
       "    booster: Optional[str]\n",
       "        Specify which booster to use: gbtree, gblinear or dart.\n",
       "    tree_method: Optional[str]\n",
       "        Specify which tree method to use.  Default to auto.  If this parameter is set to\n",
       "        default, XGBoost will choose the most conservative option available.  It's\n",
       "        recommended to study this option from the parameters document :doc:`tree method\n",
       "        </treemethod>`\n",
       "    n_jobs : Optional[int]\n",
       "        Number of parallel threads used to run xgboost.  When used with other Scikit-Learn\n",
       "        algorithms like grid search, you may choose which algorithm to parallelize and\n",
       "        balance the threads.  Creating thread contention will significantly slow down both\n",
       "        algorithms.\n",
       "    gamma : Optional[float]\n",
       "        (min_split_loss) Minimum loss reduction required to make a further partition on a\n",
       "        leaf node of the tree.\n",
       "    min_child_weight : Optional[float]\n",
       "        Minimum sum of instance weight(hessian) needed in a child.\n",
       "    max_delta_step : Optional[float]\n",
       "        Maximum delta step we allow each tree's weight estimation to be.\n",
       "    subsample : Optional[float]\n",
       "        Subsample ratio of the training instance.\n",
       "    sampling_method :\n",
       "        Sampling method. Used only by `gpu_hist` tree method.\n",
       "          - `uniform`: select random training instances uniformly.\n",
       "          - `gradient_based` select random training instances with higher probability when\n",
       "            the gradient and hessian are larger. (cf. CatBoost)\n",
       "    colsample_bytree : Optional[float]\n",
       "        Subsample ratio of columns when constructing each tree.\n",
       "    colsample_bylevel : Optional[float]\n",
       "        Subsample ratio of columns for each level.\n",
       "    colsample_bynode : Optional[float]\n",
       "        Subsample ratio of columns for each split.\n",
       "    reg_alpha : Optional[float]\n",
       "        L1 regularization term on weights (xgb's alpha).\n",
       "    reg_lambda : Optional[float]\n",
       "        L2 regularization term on weights (xgb's lambda).\n",
       "    scale_pos_weight : Optional[float]\n",
       "        Balancing of positive and negative weights.\n",
       "    base_score : Optional[float]\n",
       "        The initial prediction score of all instances, global bias.\n",
       "    random_state : Optional[Union[numpy.random.RandomState, int]]\n",
       "        Random number seed.\n",
       "\n",
       "        .. note::\n",
       "\n",
       "           Using gblinear booster with shotgun updater is nondeterministic as\n",
       "           it uses Hogwild algorithm.\n",
       "\n",
       "    missing : float, default np.nan\n",
       "        Value in the data which needs to be present as a missing value.\n",
       "    num_parallel_tree: Optional[int]\n",
       "        Used for boosting random forest.\n",
       "    monotone_constraints : Optional[Union[Dict[str, int], str]]\n",
       "        Constraint of variable monotonicity.  See :doc:`tutorial </tutorials/monotonic>`\n",
       "        for more information.\n",
       "    interaction_constraints : Optional[Union[str, List[Tuple[str]]]]\n",
       "        Constraints for interaction representing permitted interactions.  The\n",
       "        constraints must be specified in the form of a nested list, e.g. ``[[0, 1], [2,\n",
       "        3, 4]]``, where each inner list is a group of indices of features that are\n",
       "        allowed to interact with each other.  See :doc:`tutorial\n",
       "        </tutorials/feature_interaction_constraint>` for more information\n",
       "    importance_type: Optional[str]\n",
       "        The feature importance type for the feature_importances\\_ property:\n",
       "\n",
       "        * For tree model, it's either \"gain\", \"weight\", \"cover\", \"total_gain\" or\n",
       "          \"total_cover\".\n",
       "        * For linear model, only \"weight\" is defined and it's the normalized coefficients\n",
       "          without bias.\n",
       "\n",
       "    gpu_id : Optional[int]\n",
       "        Device ordinal.\n",
       "    validate_parameters : Optional[bool]\n",
       "        Give warnings for unknown parameter.\n",
       "    predictor : Optional[str]\n",
       "        Force XGBoost to use specific predictor, available choices are [cpu_predictor,\n",
       "        gpu_predictor].\n",
       "    enable_categorical : bool\n",
       "\n",
       "        .. versionadded:: 1.5.0\n",
       "\n",
       "        .. note:: This parameter is experimental\n",
       "\n",
       "        Experimental support for categorical data.  When enabled, cudf/pandas.DataFrame\n",
       "        should be used to specify categorical data type.  Also, JSON/UBJSON\n",
       "        serialization format is required.\n",
       "\n",
       "    max_cat_to_onehot : Optional[int]\n",
       "\n",
       "        .. versionadded:: 1.6.0\n",
       "\n",
       "        .. note:: This parameter is experimental\n",
       "\n",
       "        A threshold for deciding whether XGBoost should use one-hot encoding based split\n",
       "        for categorical data.  When number of categories is lesser than the threshold\n",
       "        then one-hot encoding is chosen, otherwise the categories will be partitioned\n",
       "        into children nodes.  Only relevant for regression and binary classification.\n",
       "        See :doc:`Categorical Data </tutorials/categorical>` for details.\n",
       "\n",
       "    eval_metric : Optional[Union[str, List[str], Callable]]\n",
       "\n",
       "        .. versionadded:: 1.6.0\n",
       "\n",
       "        Metric used for monitoring the training result and early stopping.  It can be a\n",
       "        string or list of strings as names of predefined metric in XGBoost (See\n",
       "        doc/parameter.rst), one of the metrics in :py:mod:`sklearn.metrics`, or any other\n",
       "        user defined metric that looks like `sklearn.metrics`.\n",
       "\n",
       "        If custom objective is also provided, then custom metric should implement the\n",
       "        corresponding reverse link function.\n",
       "\n",
       "        Unlike the `scoring` parameter commonly used in scikit-learn, when a callable\n",
       "        object is provided, it's assumed to be a cost function and by default XGBoost will\n",
       "        minimize the result during early stopping.\n",
       "\n",
       "        For advanced usage on Early stopping like directly choosing to maximize instead of\n",
       "        minimize, see :py:obj:`xgboost.callback.EarlyStopping`.\n",
       "\n",
       "        See :doc:`Custom Objective and Evaluation Metric </tutorials/custom_metric_obj>`\n",
       "        for more.\n",
       "\n",
       "        .. note::\n",
       "\n",
       "             This parameter replaces `eval_metric` in :py:meth:`fit` method.  The old one\n",
       "             receives un-transformed prediction regardless of whether custom objective is\n",
       "             being used.\n",
       "\n",
       "        .. code-block:: python\n",
       "\n",
       "            from sklearn.datasets import load_diabetes\n",
       "            from sklearn.metrics import mean_absolute_error\n",
       "            X, y = load_diabetes(return_X_y=True)\n",
       "            reg = xgb.XGBRegressor(\n",
       "                tree_method=\"hist\",\n",
       "                eval_metric=mean_absolute_error,\n",
       "            )\n",
       "            reg.fit(X, y, eval_set=[(X, y)])\n",
       "\n",
       "    early_stopping_rounds : Optional[int]\n",
       "\n",
       "        .. versionadded:: 1.6.0\n",
       "\n",
       "        Activates early stopping. Validation metric needs to improve at least once in\n",
       "        every **early_stopping_rounds** round(s) to continue training.  Requires at least\n",
       "        one item in **eval_set** in :py:meth:`fit`.\n",
       "\n",
       "        The method returns the model from the last iteration (not the best one).  If\n",
       "        there's more than one item in **eval_set**, the last entry will be used for early\n",
       "        stopping.  If there's more than one metric in **eval_metric**, the last metric\n",
       "        will be used for early stopping.\n",
       "\n",
       "        If early stopping occurs, the model will have three additional fields:\n",
       "        :py:attr:`best_score`, :py:attr:`best_iteration` and\n",
       "        :py:attr:`best_ntree_limit`.\n",
       "\n",
       "        .. note::\n",
       "\n",
       "            This parameter replaces `early_stopping_rounds` in :py:meth:`fit` method.\n",
       "\n",
       "    callbacks : Optional[List[TrainingCallback]]\n",
       "        List of callback functions that are applied at end of each iteration.\n",
       "        It is possible to use predefined callbacks by using\n",
       "        :ref:`Callback API <callback_api>`.\n",
       "\n",
       "        .. note::\n",
       "\n",
       "           States in callback are not preserved during training, which means callback\n",
       "           objects can not be reused for multiple training sessions without\n",
       "           reinitialization or deepcopy.\n",
       "\n",
       "        .. code-block:: python\n",
       "\n",
       "            for params in parameters_grid:\n",
       "                # be sure to (re)initialize the callbacks before each run\n",
       "                callbacks = [xgb.callback.LearningRateScheduler(custom_rates)]\n",
       "                xgboost.train(params, Xy, callbacks=callbacks)\n",
       "\n",
       "    kwargs : dict, optional\n",
       "        Keyword arguments for XGBoost Booster object.  Full documentation of parameters\n",
       "        can be found :doc:`here </parameter>`.\n",
       "        Attempting to set a parameter via the constructor args and \\*\\*kwargs\n",
       "        dict simultaneously will result in a TypeError.\n",
       "\n",
       "        .. note:: \\*\\*kwargs unsupported by scikit-learn\n",
       "\n",
       "            \\*\\*kwargs is unsupported by scikit-learn.  We do not guarantee\n",
       "            that parameters passed via this argument will interact properly\n",
       "            with scikit-learn.\n",
       "\n",
       "        .. note::  Custom objective function\n",
       "\n",
       "            A custom objective function can be provided for the ``objective``\n",
       "            parameter. In this case, it should have the signature\n",
       "            ``objective(y_true, y_pred) -> grad, hess``:\n",
       "\n",
       "            y_true: array_like of shape [n_samples]\n",
       "                The target values\n",
       "            y_pred: array_like of shape [n_samples]\n",
       "                The predicted values\n",
       "\n",
       "            grad: array_like of shape [n_samples]\n",
       "                The value of the gradient for each sample point.\n",
       "            hess: array_like of shape [n_samples]\n",
       "                The value of the second derivative for each sample point\n",
       "\u001b[0;31mFile:\u001b[0m           ~/.local/lib/python3.10/site-packages/xgboost/sklearn.py\n",
       "\u001b[0;31mType:\u001b[0m           type\n",
       "\u001b[0;31mSubclasses:\u001b[0m     XGBRFRegressor\n"
      ]
     },
     "metadata": {},
     "output_type": "display_data"
    }
   ],
   "source": [
    "?XGBRegressor"
   ]
  },
  {
   "cell_type": "code",
   "execution_count": 102,
   "id": "c4c89ba0-b349-4da1-a3bd-6128de435170",
   "metadata": {},
   "outputs": [],
   "source": [
    "def objective(trial):\n",
    "    train_x, test_x, train_y, test_y = train_test_split(x,y,test_size=0.2,random_state=42)\n",
    "    \n",
    "    # To select which parameters to optimize, please look at the XGBoost documentation:\n",
    "    # https://xgboost.readthedocs.io/en/latest/parameter.html\n",
    "    param = {\n",
    "        'lambda': trial.suggest_loguniform(\n",
    "            'lambda', 1e-3, 10.0\n",
    "        ),\n",
    "        'alpha': trial.suggest_loguniform(\n",
    "            'alpha', 1e-3, 10.0\n",
    "        ),\n",
    "        'colsample_bytree': trial.suggest_categorical(\n",
    "            'colsample_bytree', [0.5,0.6,0.7,0.8,0.9,1.0]\n",
    "        ),\n",
    "        'subsample': trial.suggest_categorical(\n",
    "            'subsample', [0.6,0.7,0.8,1.0]\n",
    "        ),\n",
    "        'learning_rate': trial.suggest_float(\n",
    "            'learning_rate', 0.001,0.4\n",
    "        ),\n",
    "        'n_estimators': trial.suggest_int(\n",
    "            \"n_estimators\", 150,4000\n",
    "        ),\n",
    "        'max_depth': trial.suggest_categorical(\n",
    "            'max_depth', [4,5,7,9,11,13,15,17]\n",
    "        ),\n",
    "        'random_state': 42,\n",
    "        'min_child_weight': trial.suggest_int(\n",
    "            'min_child_weight', 1, 300\n",
    "        ),\n",
    "    }\n",
    "    model = XGBRegressor(**param)  \n",
    "    model.set_params(early_stopping_rounds=100)\n",
    "    model.fit(train_x,train_y,eval_set=[(test_x,test_y)],verbose=False)\n",
    "    \n",
    "    preds = model.predict(test_x)\n",
    "    \n",
    "    mae = mean_absolute_error(test_y, preds)\n",
    "    #print(r2)\n",
    "    return mae"
   ]
  },
  {
   "cell_type": "code",
   "execution_count": 103,
   "id": "a3340d1a-95b0-4726-8cfa-236f4af00c6a",
   "metadata": {
    "tags": []
   },
   "outputs": [
    {
     "name": "stderr",
     "output_type": "stream",
     "text": [
      "\u001b[32m[I 2022-08-07 12:59:29,455]\u001b[0m A new study created in memory with name: no-name-d5f7ddea-bbd6-4b02-b62e-a984d873c601\u001b[0m\n",
      "/home/thecybermonster/.local/lib/python3.10/site-packages/optuna/progress_bar.py:47: ExperimentalWarning: Progress bar is experimental (supported from v1.2.0). The interface can change in the future.\n",
      "  self._init_valid()\n"
     ]
    },
    {
     "data": {
      "application/vnd.jupyter.widget-view+json": {
       "model_id": "b0794a9db4e341e580a1428c4ef0972d",
       "version_major": 2,
       "version_minor": 0
      },
      "text/plain": [
       "  0%|          | 0/250 [00:00<?, ?it/s]"
      ]
     },
     "metadata": {},
     "output_type": "display_data"
    },
    {
     "name": "stdout",
     "output_type": "stream",
     "text": [
      "\u001b[32m[I 2022-08-07 12:59:30,500]\u001b[0m Trial 0 finished with value: 0.03543241245030321 and parameters: {'lambda': 0.0036855617164624965, 'alpha': 0.387737023338889, 'colsample_bytree': 0.9, 'subsample': 1.0, 'learning_rate': 0.2833507763403312, 'n_estimators': 3537, 'max_depth': 4, 'min_child_weight': 152}. Best is trial 0 with value: 0.03543241245030321.\u001b[0m\n",
      "\u001b[32m[I 2022-08-07 12:59:31,029]\u001b[0m Trial 1 finished with value: 0.03841568259346679 and parameters: {'lambda': 0.003571220852629516, 'alpha': 0.06552871954879794, 'colsample_bytree': 0.8, 'subsample': 0.8, 'learning_rate': 0.3615362319714157, 'n_estimators': 3097, 'max_depth': 11, 'min_child_weight': 213}. Best is trial 0 with value: 0.03543241245030321.\u001b[0m\n",
      "\u001b[32m[I 2022-08-07 12:59:33,997]\u001b[0m Trial 2 finished with value: 0.03776900573537702 and parameters: {'lambda': 0.014186875188798477, 'alpha': 0.11689401777863355, 'colsample_bytree': 0.8, 'subsample': 0.8, 'learning_rate': 0.03555268938723621, 'n_estimators': 3094, 'max_depth': 7, 'min_child_weight': 219}. Best is trial 0 with value: 0.03543241245030321.\u001b[0m\n",
      "\u001b[32m[I 2022-08-07 12:59:34,823]\u001b[0m Trial 3 finished with value: 0.03473283742478331 and parameters: {'lambda': 0.0162297179292915, 'alpha': 0.496367337647207, 'colsample_bytree': 1.0, 'subsample': 0.8, 'learning_rate': 0.3182562082137515, 'n_estimators': 2401, 'max_depth': 7, 'min_child_weight': 92}. Best is trial 3 with value: 0.03473283742478331.\u001b[0m\n",
      "\u001b[32m[I 2022-08-07 12:59:36,463]\u001b[0m Trial 4 finished with value: 0.03866963824998851 and parameters: {'lambda': 0.020484407053176137, 'alpha': 0.02123921837868684, 'colsample_bytree': 0.8, 'subsample': 0.7, 'learning_rate': 0.15685446159342722, 'n_estimators': 455, 'max_depth': 9, 'min_child_weight': 289}. Best is trial 3 with value: 0.03473283742478331.\u001b[0m\n",
      "\u001b[32m[I 2022-08-07 12:59:37,597]\u001b[0m Trial 5 finished with value: 0.03926152142924223 and parameters: {'lambda': 0.4392854418889794, 'alpha': 0.027853925650395236, 'colsample_bytree': 0.9, 'subsample': 0.6, 'learning_rate': 0.20228329149628532, 'n_estimators': 696, 'max_depth': 13, 'min_child_weight': 225}. Best is trial 3 with value: 0.03473283742478331.\u001b[0m\n",
      "\u001b[32m[I 2022-08-07 12:59:41,047]\u001b[0m Trial 6 finished with value: 0.034134247115289305 and parameters: {'lambda': 3.4260861551373023, 'alpha': 0.852768645645029, 'colsample_bytree': 0.9, 'subsample': 1.0, 'learning_rate': 0.03619223771218393, 'n_estimators': 1089, 'max_depth': 9, 'min_child_weight': 119}. Best is trial 6 with value: 0.034134247115289305.\u001b[0m\n",
      "\u001b[32m[I 2022-08-07 12:59:41,643]\u001b[0m Trial 7 finished with value: 0.03966941380155382 and parameters: {'lambda': 0.18568638723749506, 'alpha': 1.6594456142251068, 'colsample_bytree': 0.8, 'subsample': 0.7, 'learning_rate': 0.23265347751658844, 'n_estimators': 597, 'max_depth': 4, 'min_child_weight': 264}. Best is trial 6 with value: 0.034134247115289305.\u001b[0m\n",
      "\u001b[32m[I 2022-08-07 12:59:43,332]\u001b[0m Trial 8 finished with value: 0.03476256989869231 and parameters: {'lambda': 1.4436023174488533, 'alpha': 0.9455950131655333, 'colsample_bytree': 1.0, 'subsample': 1.0, 'learning_rate': 0.1410462183316103, 'n_estimators': 3858, 'max_depth': 7, 'min_child_weight': 144}. Best is trial 6 with value: 0.034134247115289305.\u001b[0m\n",
      "\u001b[32m[I 2022-08-07 12:59:48,071]\u001b[0m Trial 9 finished with value: 0.029698034606337367 and parameters: {'lambda': 4.996928401425842, 'alpha': 0.05169727546194534, 'colsample_bytree': 0.7, 'subsample': 0.8, 'learning_rate': 0.019332445924721223, 'n_estimators': 2668, 'max_depth': 9, 'min_child_weight': 39}. Best is trial 9 with value: 0.029698034606337367.\u001b[0m\n",
      "\u001b[32m[I 2022-08-07 12:59:49,607]\u001b[0m Trial 10 finished with value: 0.02882989458491707 and parameters: {'lambda': 8.613422326277389, 'alpha': 0.0021293176323664786, 'colsample_bytree': 0.7, 'subsample': 0.6, 'learning_rate': 0.09037699610264284, 'n_estimators': 1793, 'max_depth': 15, 'min_child_weight': 10}. Best is trial 10 with value: 0.02882989458491707.\u001b[0m\n",
      "\u001b[32m[I 2022-08-07 12:59:51,092]\u001b[0m Trial 11 finished with value: 0.028996819507850068 and parameters: {'lambda': 8.87766684621451, 'alpha': 0.0016515756314377217, 'colsample_bytree': 0.7, 'subsample': 0.6, 'learning_rate': 0.086117393508594, 'n_estimators': 1703, 'max_depth': 15, 'min_child_weight': 11}. Best is trial 10 with value: 0.02882989458491707.\u001b[0m\n",
      "\u001b[32m[I 2022-08-07 12:59:54,034]\u001b[0m Trial 12 finished with value: 0.028546345566133592 and parameters: {'lambda': 9.290556794717773, 'alpha': 0.001142839305696343, 'colsample_bytree': 0.7, 'subsample': 0.6, 'learning_rate': 0.10235560289730397, 'n_estimators': 1636, 'max_depth': 15, 'min_child_weight': 16}. Best is trial 12 with value: 0.028546345566133592.\u001b[0m\n",
      "\u001b[32m[I 2022-08-07 12:59:56,966]\u001b[0m Trial 13 finished with value: 0.03376658548686936 and parameters: {'lambda': 0.8481325669708742, 'alpha': 0.0012330006881642443, 'colsample_bytree': 0.5, 'subsample': 0.6, 'learning_rate': 0.11356162357040064, 'n_estimators': 1563, 'max_depth': 15, 'min_child_weight': 63}. Best is trial 12 with value: 0.028546345566133592.\u001b[0m\n",
      "\u001b[32m[I 2022-08-07 12:59:59,606]\u001b[0m Trial 14 finished with value: 0.028680391251966697 and parameters: {'lambda': 2.0941932418880764, 'alpha': 0.005453151844103649, 'colsample_bytree': 0.7, 'subsample': 0.6, 'learning_rate': 0.07191661649699799, 'n_estimators': 1872, 'max_depth': 17, 'min_child_weight': 5}. Best is trial 12 with value: 0.028546345566133592.\u001b[0m\n",
      "\u001b[32m[I 2022-08-07 13:00:02,041]\u001b[0m Trial 15 finished with value: 0.033657552203861574 and parameters: {'lambda': 1.82669860337362, 'alpha': 0.005903520822568208, 'colsample_bytree': 0.6, 'subsample': 0.6, 'learning_rate': 0.17265237585475948, 'n_estimators': 1268, 'max_depth': 17, 'min_child_weight': 56}. Best is trial 12 with value: 0.028546345566133592.\u001b[0m\n",
      "\u001b[32m[I 2022-08-07 13:00:05,309]\u001b[0m Trial 16 finished with value: 0.027845273455263723 and parameters: {'lambda': 0.10512230303683698, 'alpha': 0.005717019563812553, 'colsample_bytree': 0.7, 'subsample': 0.6, 'learning_rate': 0.07864021703993454, 'n_estimators': 2169, 'max_depth': 17, 'min_child_weight': 1}. Best is trial 16 with value: 0.027845273455263723.\u001b[0m\n",
      "\u001b[32m[I 2022-08-07 13:00:07,565]\u001b[0m Trial 17 finished with value: 0.03998680956644932 and parameters: {'lambda': 0.07049264465514367, 'alpha': 8.368024880393715, 'colsample_bytree': 0.7, 'subsample': 0.6, 'learning_rate': 0.23179872237821952, 'n_estimators': 2425, 'max_depth': 5, 'min_child_weight': 90}. Best is trial 16 with value: 0.027845273455263723.\u001b[0m\n",
      "\u001b[32m[I 2022-08-07 13:00:10,344]\u001b[0m Trial 18 finished with value: 0.030857132479885252 and parameters: {'lambda': 0.0013612389002299594, 'alpha': 0.006797985413462437, 'colsample_bytree': 0.5, 'subsample': 0.6, 'learning_rate': 0.11768735676893903, 'n_estimators': 2155, 'max_depth': 17, 'min_child_weight': 36}. Best is trial 16 with value: 0.027845273455263723.\u001b[0m\n",
      "\u001b[32m[I 2022-08-07 13:00:19,316]\u001b[0m Trial 19 finished with value: 0.038208732351130044 and parameters: {'lambda': 0.0792592118918437, 'alpha': 0.014202576918735523, 'colsample_bytree': 0.6, 'subsample': 0.7, 'learning_rate': 0.008934650431871083, 'n_estimators': 1170, 'max_depth': 13, 'min_child_weight': 175}. Best is trial 16 with value: 0.027845273455263723.\u001b[0m\n",
      "\u001b[32m[I 2022-08-07 13:00:22,175]\u001b[0m Trial 20 finished with value: 0.033952262236602755 and parameters: {'lambda': 0.2823858957962291, 'alpha': 0.0031547797417465903, 'colsample_bytree': 0.7, 'subsample': 0.6, 'learning_rate': 0.0630027196092216, 'n_estimators': 2858, 'max_depth': 11, 'min_child_weight': 82}. Best is trial 16 with value: 0.027845273455263723.\u001b[0m\n",
      "\u001b[32m[I 2022-08-07 13:00:24,630]\u001b[0m Trial 21 finished with value: 0.028347409027793816 and parameters: {'lambda': 2.5421301140211057, 'alpha': 0.005759282259053194, 'colsample_bytree': 0.7, 'subsample': 0.6, 'learning_rate': 0.06617420336826713, 'n_estimators': 2075, 'max_depth': 17, 'min_child_weight': 2}. Best is trial 16 with value: 0.027845273455263723.\u001b[0m\n",
      "\u001b[32m[I 2022-08-07 13:00:26,476]\u001b[0m Trial 22 finished with value: 0.030503318457593884 and parameters: {'lambda': 0.48382774021670183, 'alpha': 0.0010777072615565768, 'colsample_bytree': 0.7, 'subsample': 0.6, 'learning_rate': 0.11974798237822123, 'n_estimators': 2197, 'max_depth': 17, 'min_child_weight': 33}. Best is trial 16 with value: 0.027845273455263723.\u001b[0m\n",
      "\u001b[32m[I 2022-08-07 13:00:28,596]\u001b[0m Trial 23 finished with value: 0.027759889704516844 and parameters: {'lambda': 4.671336327978252, 'alpha': 0.010274391678724413, 'colsample_bytree': 0.7, 'subsample': 0.6, 'learning_rate': 0.05543868431354566, 'n_estimators': 1454, 'max_depth': 17, 'min_child_weight': 1}. Best is trial 23 with value: 0.027759889704516844.\u001b[0m\n",
      "\u001b[32m[I 2022-08-07 13:00:31,817]\u001b[0m Trial 24 finished with value: 0.032844265334919846 and parameters: {'lambda': 0.035649713747497515, 'alpha': 0.008104467163403366, 'colsample_bytree': 0.7, 'subsample': 0.6, 'learning_rate': 0.051105307741748235, 'n_estimators': 1411, 'max_depth': 17, 'min_child_weight': 60}. Best is trial 23 with value: 0.027759889704516844.\u001b[0m\n",
      "\u001b[32m[I 2022-08-07 13:00:33,992]\u001b[0m Trial 25 finished with value: 0.027328734590547993 and parameters: {'lambda': 0.8897784579318576, 'alpha': 0.01142861866832763, 'colsample_bytree': 0.7, 'subsample': 0.6, 'learning_rate': 0.06436731576459631, 'n_estimators': 955, 'max_depth': 17, 'min_child_weight': 2}. Best is trial 25 with value: 0.027328734590547993.\u001b[0m\n",
      "\u001b[32m[I 2022-08-07 13:00:39,456]\u001b[0m Trial 26 finished with value: 0.03362310391493908 and parameters: {'lambda': 0.8990569022045467, 'alpha': 0.12305394428206955, 'colsample_bytree': 0.7, 'subsample': 0.6, 'learning_rate': 0.005633682129558407, 'n_estimators': 870, 'max_depth': 17, 'min_child_weight': 32}. Best is trial 25 with value: 0.027328734590547993.\u001b[0m\n",
      "\u001b[32m[I 2022-08-07 13:00:40,868]\u001b[0m Trial 27 finished with value: 0.03257486354289091 and parameters: {'lambda': 0.1569235985587372, 'alpha': 0.033126934500567695, 'colsample_bytree': 0.5, 'subsample': 1.0, 'learning_rate': 0.19586469691400127, 'n_estimators': 238, 'max_depth': 5, 'min_child_weight': 73}. Best is trial 25 with value: 0.027328734590547993.\u001b[0m\n",
      "\u001b[32m[I 2022-08-07 13:00:43,517]\u001b[0m Trial 28 finished with value: 0.03585206751366821 and parameters: {'lambda': 0.9452635279329961, 'alpha': 0.015066216813270078, 'colsample_bytree': 1.0, 'subsample': 0.7, 'learning_rate': 0.1428821828658878, 'n_estimators': 892, 'max_depth': 17, 'min_child_weight': 118}. Best is trial 25 with value: 0.027328734590547993.\u001b[0m\n",
      "\u001b[32m[I 2022-08-07 13:00:44,721]\u001b[0m Trial 29 finished with value: 0.033179967580415234 and parameters: {'lambda': 0.4188846499209533, 'alpha': 0.22784460109655, 'colsample_bytree': 0.6, 'subsample': 1.0, 'learning_rate': 0.29609837496773916, 'n_estimators': 1400, 'max_depth': 17, 'min_child_weight': 47}. Best is trial 25 with value: 0.027328734590547993.\u001b[0m\n",
      "\u001b[32m[I 2022-08-07 13:00:46,510]\u001b[0m Trial 30 finished with value: 0.03560518362420447 and parameters: {'lambda': 0.044879383769852024, 'alpha': 0.003515601109800552, 'colsample_bytree': 0.9, 'subsample': 0.6, 'learning_rate': 0.040260926626389686, 'n_estimators': 947, 'max_depth': 4, 'min_child_weight': 112}. Best is trial 25 with value: 0.027328734590547993.\u001b[0m\n",
      "\u001b[32m[I 2022-08-07 13:00:48,455]\u001b[0m Trial 31 finished with value: 0.02948320511002085 and parameters: {'lambda': 3.5359938150750723, 'alpha': 0.012132830418445035, 'colsample_bytree': 0.7, 'subsample': 0.6, 'learning_rate': 0.07007682399150478, 'n_estimators': 2073, 'max_depth': 17, 'min_child_weight': 4}. Best is trial 25 with value: 0.027328734590547993.\u001b[0m\n",
      "\u001b[32m[I 2022-08-07 13:00:49,681]\u001b[0m Trial 32 finished with value: 0.03303405396395324 and parameters: {'lambda': 3.661821039025986, 'alpha': 0.00438442158381409, 'colsample_bytree': 0.7, 'subsample': 0.6, 'learning_rate': 0.3998397332849681, 'n_estimators': 2542, 'max_depth': 17, 'min_child_weight': 30}. Best is trial 25 with value: 0.027328734590547993.\u001b[0m\n",
      "\u001b[32m[I 2022-08-07 13:00:51,434]\u001b[0m Trial 33 finished with value: 0.029347255943417548 and parameters: {'lambda': 2.085731269676666, 'alpha': 0.051616772076395215, 'colsample_bytree': 0.7, 'subsample': 0.6, 'learning_rate': 0.07955441278654131, 'n_estimators': 1998, 'max_depth': 11, 'min_child_weight': 22}. Best is trial 25 with value: 0.027328734590547993.\u001b[0m\n",
      "\u001b[32m[I 2022-08-07 13:00:54,871]\u001b[0m Trial 34 finished with value: 0.02708354950667869 and parameters: {'lambda': 4.981220475682885, 'alpha': 0.009008443981334994, 'colsample_bytree': 0.7, 'subsample': 0.8, 'learning_rate': 0.03813485243978875, 'n_estimators': 3133, 'max_depth': 17, 'min_child_weight': 1}. Best is trial 34 with value: 0.02708354950667869.\u001b[0m\n",
      "\u001b[32m[I 2022-08-07 13:01:02,380]\u001b[0m Trial 35 finished with value: 0.03755331248879274 and parameters: {'lambda': 0.0076102698355515665, 'alpha': 0.011174620190188323, 'colsample_bytree': 0.7, 'subsample': 0.8, 'learning_rate': 0.024267741654100214, 'n_estimators': 3429, 'max_depth': 17, 'min_child_weight': 184}. Best is trial 34 with value: 0.02708354950667869.\u001b[0m\n",
      "\u001b[32m[I 2022-08-07 13:01:06,131]\u001b[0m Trial 36 finished with value: 0.029827415014130942 and parameters: {'lambda': 1.265753300472048, 'alpha': 0.027032110303690626, 'colsample_bytree': 0.8, 'subsample': 0.8, 'learning_rate': 0.046455769339182315, 'n_estimators': 3558, 'max_depth': 17, 'min_child_weight': 51}. Best is trial 34 with value: 0.02708354950667869.\u001b[0m\n",
      "\u001b[32m[I 2022-08-07 13:01:07,745]\u001b[0m Trial 37 finished with value: 0.027229775715251973 and parameters: {'lambda': 4.250007030644, 'alpha': 0.002727920878293419, 'colsample_bytree': 1.0, 'subsample': 0.8, 'learning_rate': 0.09635897194673074, 'n_estimators': 3168, 'max_depth': 13, 'min_child_weight': 21}. Best is trial 34 with value: 0.02708354950667869.\u001b[0m\n",
      "\u001b[32m[I 2022-08-07 13:01:11,751]\u001b[0m Trial 38 finished with value: 0.026957503998567656 and parameters: {'lambda': 4.4925680141375945, 'alpha': 0.00304811221860785, 'colsample_bytree': 1.0, 'subsample': 0.8, 'learning_rate': 0.03647203520976548, 'n_estimators': 3299, 'max_depth': 13, 'min_child_weight': 18}. Best is trial 38 with value: 0.026957503998567656.\u001b[0m\n",
      "\u001b[32m[I 2022-08-07 13:01:19,280]\u001b[0m Trial 39 finished with value: 0.033322003004044344 and parameters: {'lambda': 5.694638037956467, 'alpha': 0.0024647959804013353, 'colsample_bytree': 1.0, 'subsample': 0.8, 'learning_rate': 0.021964529499370347, 'n_estimators': 3138, 'max_depth': 13, 'min_child_weight': 100}. Best is trial 38 with value: 0.026957503998567656.\u001b[0m\n",
      "\u001b[32m[I 2022-08-07 13:01:20,589]\u001b[0m Trial 40 finished with value: 0.03873837370943682 and parameters: {'lambda': 6.027555756517063, 'alpha': 0.0019620167452421844, 'colsample_bytree': 1.0, 'subsample': 0.8, 'learning_rate': 0.13185461019330658, 'n_estimators': 3945, 'max_depth': 13, 'min_child_weight': 245}. Best is trial 38 with value: 0.026957503998567656.\u001b[0m\n",
      "\u001b[32m[I 2022-08-07 13:01:22,812]\u001b[0m Trial 41 finished with value: 0.027288946144932286 and parameters: {'lambda': 3.99330325242522, 'alpha': 0.01992147546440072, 'colsample_bytree': 1.0, 'subsample': 0.8, 'learning_rate': 0.04848664570203192, 'n_estimators': 2910, 'max_depth': 13, 'min_child_weight': 21}. Best is trial 38 with value: 0.026957503998567656.\u001b[0m\n",
      "\u001b[32m[I 2022-08-07 13:01:47,667]\u001b[0m Trial 42 finished with value: 0.032818610972704824 and parameters: {'lambda': 3.34437163671539, 'alpha': 0.021061112692628264, 'colsample_bytree': 1.0, 'subsample': 0.8, 'learning_rate': 0.0013742793089646516, 'n_estimators': 3277, 'max_depth': 13, 'min_child_weight': 24}. Best is trial 38 with value: 0.026957503998567656.\u001b[0m\n",
      "\u001b[32m[I 2022-08-07 13:01:49,609]\u001b[0m Trial 43 finished with value: 0.028209784422356554 and parameters: {'lambda': 6.806238951696942, 'alpha': 0.0034427789138523767, 'colsample_bytree': 1.0, 'subsample': 0.8, 'learning_rate': 0.09785734598135226, 'n_estimators': 2880, 'max_depth': 13, 'min_child_weight': 20}. Best is trial 38 with value: 0.026957503998567656.\u001b[0m\n",
      "\u001b[32m[I 2022-08-07 13:01:54,047]\u001b[0m Trial 44 finished with value: 0.02908885048672861 and parameters: {'lambda': 1.3645123153400383, 'alpha': 0.01913115998439765, 'colsample_bytree': 1.0, 'subsample': 0.8, 'learning_rate': 0.03593348173574579, 'n_estimators': 3738, 'max_depth': 13, 'min_child_weight': 47}. Best is trial 38 with value: 0.026957503998567656.\u001b[0m\n",
      "\u001b[32m[I 2022-08-07 13:02:01,695]\u001b[0m Trial 45 finished with value: 0.03189497449970344 and parameters: {'lambda': 0.6362597784211962, 'alpha': 0.08458077704683684, 'colsample_bytree': 1.0, 'subsample': 0.8, 'learning_rate': 0.028806108557261012, 'n_estimators': 2889, 'max_depth': 13, 'min_child_weight': 73}. Best is trial 38 with value: 0.026957503998567656.\u001b[0m\n",
      "\u001b[32m[I 2022-08-07 13:02:04,246]\u001b[0m Trial 46 finished with value: 0.035470272133933334 and parameters: {'lambda': 2.9747546302529497, 'alpha': 0.040473782966609424, 'colsample_bytree': 1.0, 'subsample': 0.8, 'learning_rate': 0.09949342602364254, 'n_estimators': 3311, 'max_depth': 7, 'min_child_weight': 148}. Best is trial 38 with value: 0.026957503998567656.\u001b[0m\n",
      "\u001b[32m[I 2022-08-07 13:02:05,747]\u001b[0m Trial 47 finished with value: 0.028941836044085827 and parameters: {'lambda': 8.959961290566351, 'alpha': 0.00809193769803945, 'colsample_bytree': 1.0, 'subsample': 0.8, 'learning_rate': 0.16478978572162412, 'n_estimators': 3083, 'max_depth': 9, 'min_child_weight': 19}. Best is trial 38 with value: 0.026957503998567656.\u001b[0m\n",
      "\u001b[32m[I 2022-08-07 13:02:09,565]\u001b[0m Trial 48 finished with value: 0.029395822606707218 and parameters: {'lambda': 4.583664966195364, 'alpha': 0.0018607854403364615, 'colsample_bytree': 0.9, 'subsample': 0.8, 'learning_rate': 0.049561985055253215, 'n_estimators': 3721, 'max_depth': 13, 'min_child_weight': 45}. Best is trial 38 with value: 0.026957503998567656.\u001b[0m\n",
      "\u001b[32m[I 2022-08-07 13:02:12,969]\u001b[0m Trial 49 finished with value: 0.0314001273909516 and parameters: {'lambda': 1.6016598939531883, 'alpha': 0.003170534781103233, 'colsample_bytree': 1.0, 'subsample': 0.8, 'learning_rate': 0.08783787218768907, 'n_estimators': 2662, 'max_depth': 4, 'min_child_weight': 66}. Best is trial 38 with value: 0.026957503998567656.\u001b[0m\n",
      "\u001b[32m[I 2022-08-07 13:02:13,990]\u001b[0m Trial 50 finished with value: 0.029640291106927487 and parameters: {'lambda': 2.1793244863651675, 'alpha': 0.19551141902154268, 'colsample_bytree': 0.8, 'subsample': 0.8, 'learning_rate': 0.3481128133662784, 'n_estimators': 3456, 'max_depth': 13, 'min_child_weight': 17}. Best is trial 38 with value: 0.026957503998567656.\u001b[0m\n",
      "\u001b[32m[I 2022-08-07 13:02:15,744]\u001b[0m Trial 51 finished with value: 0.02943152617560845 and parameters: {'lambda': 4.852650426074537, 'alpha': 0.007479056122517775, 'colsample_bytree': 1.0, 'subsample': 0.8, 'learning_rate': 0.04415722270150125, 'n_estimators': 3040, 'max_depth': 7, 'min_child_weight': 12}. Best is trial 38 with value: 0.026957503998567656.\u001b[0m\n",
      "\u001b[32m[I 2022-08-07 13:02:17,969]\u001b[0m Trial 52 finished with value: 0.030410428563745342 and parameters: {'lambda': 7.106462909137364, 'alpha': 0.009870660292315194, 'colsample_bytree': 1.0, 'subsample': 0.7, 'learning_rate': 0.0668371135100035, 'n_estimators': 564, 'max_depth': 5, 'min_child_weight': 36}. Best is trial 38 with value: 0.026957503998567656.\u001b[0m\n",
      "\u001b[32m[I 2022-08-07 13:02:19,735]\u001b[0m Trial 53 finished with value: 0.028644742468348045 and parameters: {'lambda': 4.757757952782554, 'alpha': 0.004732893471100086, 'colsample_bytree': 0.5, 'subsample': 1.0, 'learning_rate': 0.05845534405215007, 'n_estimators': 3251, 'max_depth': 13, 'min_child_weight': 7}. Best is trial 38 with value: 0.026957503998567656.\u001b[0m\n",
      "\u001b[32m[I 2022-08-07 13:02:24,540]\u001b[0m Trial 54 finished with value: 0.02698903273937099 and parameters: {'lambda': 2.4992106800301523, 'alpha': 0.017999870630868123, 'colsample_bytree': 0.9, 'subsample': 0.8, 'learning_rate': 0.018160522021349743, 'n_estimators': 3651, 'max_depth': 9, 'min_child_weight': 2}. Best is trial 38 with value: 0.026957503998567656.\u001b[0m\n",
      "\u001b[32m[I 2022-08-07 13:02:28,511]\u001b[0m Trial 55 finished with value: 0.028459345906329297 and parameters: {'lambda': 2.5958127197876215, 'alpha': 0.015623077011163344, 'colsample_bytree': 0.9, 'subsample': 0.8, 'learning_rate': 0.01934019461214324, 'n_estimators': 3594, 'max_depth': 9, 'min_child_weight': 26}. Best is trial 38 with value: 0.026957503998567656.\u001b[0m\n",
      "\u001b[32m[I 2022-08-07 13:02:36,903]\u001b[0m Trial 56 finished with value: 0.029346241763911443 and parameters: {'lambda': 1.267661124022071, 'alpha': 0.0015309141932026923, 'colsample_bytree': 0.9, 'subsample': 0.8, 'learning_rate': 0.010664598866545631, 'n_estimators': 3743, 'max_depth': 9, 'min_child_weight': 43}. Best is trial 38 with value: 0.026957503998567656.\u001b[0m\n",
      "\u001b[32m[I 2022-08-07 13:02:39,808]\u001b[0m Trial 57 finished with value: 0.038546913904336545 and parameters: {'lambda': 0.7085959696591865, 'alpha': 0.025641060267141694, 'colsample_bytree': 0.9, 'subsample': 0.8, 'learning_rate': 0.25487774987194267, 'n_estimators': 2788, 'max_depth': 9, 'min_child_weight': 201}. Best is trial 38 with value: 0.026957503998567656.\u001b[0m\n",
      "\u001b[32m[I 2022-08-07 13:02:42,680]\u001b[0m Trial 58 finished with value: 0.03875335355545411 and parameters: {'lambda': 2.0101767603378002, 'alpha': 0.0026013242550779725, 'colsample_bytree': 0.9, 'subsample': 0.8, 'learning_rate': 0.03320975302099295, 'n_estimators': 3425, 'max_depth': 15, 'min_child_weight': 278}. Best is trial 38 with value: 0.026957503998567656.\u001b[0m\n",
      "\u001b[32m[I 2022-08-07 13:02:44,631]\u001b[0m Trial 59 finished with value: 0.035334209159923524 and parameters: {'lambda': 0.3166555772847292, 'alpha': 0.0666774668760998, 'colsample_bytree': 0.6, 'subsample': 0.8, 'learning_rate': 0.11262580080440751, 'n_estimators': 2322, 'max_depth': 11, 'min_child_weight': 133}. Best is trial 38 with value: 0.026957503998567656.\u001b[0m\n",
      "\u001b[32m[I 2022-08-07 13:02:46,704]\u001b[0m Trial 60 finished with value: 0.027729967375685574 and parameters: {'lambda': 9.954229274622191, 'alpha': 0.03923269354771633, 'colsample_bytree': 0.8, 'subsample': 0.7, 'learning_rate': 0.08250659055427918, 'n_estimators': 3969, 'max_depth': 13, 'min_child_weight': 13}. Best is trial 38 with value: 0.026957503998567656.\u001b[0m\n",
      "\u001b[32m[I 2022-08-07 13:02:48,893]\u001b[0m Trial 61 finished with value: 0.027761056170914355 and parameters: {'lambda': 9.913504775907159, 'alpha': 0.03520474606010968, 'colsample_bytree': 0.8, 'subsample': 0.7, 'learning_rate': 0.07517115453617258, 'n_estimators': 3981, 'max_depth': 13, 'min_child_weight': 14}. Best is trial 38 with value: 0.026957503998567656.\u001b[0m\n",
      "\u001b[32m[I 2022-08-07 13:02:51,264]\u001b[0m Trial 62 finished with value: 0.02792448376008003 and parameters: {'lambda': 6.757594542076585, 'alpha': 0.020275697556833984, 'colsample_bytree': 0.8, 'subsample': 0.7, 'learning_rate': 0.059355230218575444, 'n_estimators': 3626, 'max_depth': 13, 'min_child_weight': 12}. Best is trial 38 with value: 0.026957503998567656.\u001b[0m\n",
      "\u001b[32m[I 2022-08-07 13:02:54,645]\u001b[0m Trial 63 finished with value: 0.03856873417251177 and parameters: {'lambda': 3.4538416270930443, 'alpha': 8.914314831803141, 'colsample_bytree': 0.8, 'subsample': 0.7, 'learning_rate': 0.0863270620126333, 'n_estimators': 3833, 'max_depth': 13, 'min_child_weight': 30}. Best is trial 38 with value: 0.026957503998567656.\u001b[0m\n",
      "\u001b[32m[I 2022-08-07 13:03:02,305]\u001b[0m Trial 64 finished with value: 0.027107991338310062 and parameters: {'lambda': 4.039711508172101, 'alpha': 0.046499819960742365, 'colsample_bytree': 0.8, 'subsample': 0.7, 'learning_rate': 0.012621537655934104, 'n_estimators': 3005, 'max_depth': 9, 'min_child_weight': 2}. Best is trial 38 with value: 0.026957503998567656.\u001b[0m\n",
      "\u001b[32m[I 2022-08-07 13:03:11,050]\u001b[0m Trial 65 finished with value: 0.03401465075967642 and parameters: {'lambda': 2.6284509364517876, 'alpha': 3.9537296514360554, 'colsample_bytree': 1.0, 'subsample': 0.8, 'learning_rate': 0.01707659199260749, 'n_estimators': 3036, 'max_depth': 9, 'min_child_weight': 1}. Best is trial 38 with value: 0.026957503998567656.\u001b[0m\n",
      "\u001b[32m[I 2022-08-07 13:03:14,428]\u001b[0m Trial 66 finished with value: 0.029539342307891157 and parameters: {'lambda': 3.6365731891559214, 'alpha': 0.015012888607620473, 'colsample_bytree': 0.5, 'subsample': 1.0, 'learning_rate': 0.03360839934988977, 'n_estimators': 3182, 'max_depth': 9, 'min_child_weight': 37}. Best is trial 38 with value: 0.026957503998567656.\u001b[0m\n",
      "\u001b[32m[I 2022-08-07 13:03:28,834]\u001b[0m Trial 67 finished with value: 0.032130626672487915 and parameters: {'lambda': 1.118334779869951, 'alpha': 0.05453726768649425, 'colsample_bytree': 0.6, 'subsample': 0.7, 'learning_rate': 0.007833544114533277, 'n_estimators': 2967, 'max_depth': 9, 'min_child_weight': 58}. Best is trial 38 with value: 0.026957503998567656.\u001b[0m\n",
      "\u001b[32m[I 2022-08-07 13:03:31,925]\u001b[0m Trial 68 finished with value: 0.02924560508863236 and parameters: {'lambda': 1.8369931602850706, 'alpha': 0.11246612724404823, 'colsample_bytree': 0.9, 'subsample': 0.8, 'learning_rate': 0.03700699412298453, 'n_estimators': 2723, 'max_depth': 4, 'min_child_weight': 22}. Best is trial 38 with value: 0.026957503998567656.\u001b[0m\n",
      "\u001b[32m[I 2022-08-07 13:03:34,081]\u001b[0m Trial 69 finished with value: 0.02869747872555021 and parameters: {'lambda': 3.999360129721188, 'alpha': 0.004168114421349173, 'colsample_bytree': 1.0, 'subsample': 0.8, 'learning_rate': 0.05826608010825758, 'n_estimators': 2567, 'max_depth': 9, 'min_child_weight': 29}. Best is trial 38 with value: 0.026957503998567656.\u001b[0m\n",
      "\u001b[32m[I 2022-08-07 13:03:37,744]\u001b[0m Trial 70 finished with value: 0.027327765655284626 and parameters: {'lambda': 6.720416550074881, 'alpha': 0.009404934023161594, 'colsample_bytree': 0.7, 'subsample': 0.8, 'learning_rate': 0.0241872294371674, 'n_estimators': 3389, 'max_depth': 15, 'min_child_weight': 9}. Best is trial 38 with value: 0.026957503998567656.\u001b[0m\n",
      "\u001b[32m[I 2022-08-07 13:03:42,488]\u001b[0m Trial 71 finished with value: 0.02708544491928527 and parameters: {'lambda': 6.054684531056883, 'alpha': 0.009385240279088174, 'colsample_bytree': 0.7, 'subsample': 0.8, 'learning_rate': 0.02178413444193981, 'n_estimators': 3415, 'max_depth': 15, 'min_child_weight': 2}. Best is trial 38 with value: 0.026957503998567656.\u001b[0m\n",
      "\u001b[32m[I 2022-08-07 13:03:47,371]\u001b[0m Trial 72 finished with value: 0.027812334369322157 and parameters: {'lambda': 6.2072296066978305, 'alpha': 0.006125591285186533, 'colsample_bytree': 0.7, 'subsample': 0.8, 'learning_rate': 0.013966157772749269, 'n_estimators': 3394, 'max_depth': 15, 'min_child_weight': 10}. Best is trial 38 with value: 0.026957503998567656.\u001b[0m\n",
      "\u001b[32m[I 2022-08-07 13:03:51,503]\u001b[0m Trial 73 finished with value: 0.027263299199252425 and parameters: {'lambda': 7.428316131095594, 'alpha': 0.008948233976339896, 'colsample_bytree': 0.7, 'subsample': 0.8, 'learning_rate': 0.02344287882802411, 'n_estimators': 3226, 'max_depth': 15, 'min_child_weight': 9}. Best is trial 38 with value: 0.026957503998567656.\u001b[0m\n",
      "\u001b[32m[I 2022-08-07 13:04:15,750]\u001b[0m Trial 74 finished with value: 0.03448095033388905 and parameters: {'lambda': 7.7379899337227185, 'alpha': 0.001439864567009667, 'colsample_bytree': 0.7, 'subsample': 0.8, 'learning_rate': 0.0014589654231792482, 'n_estimators': 3189, 'max_depth': 15, 'min_child_weight': 41}. Best is trial 38 with value: 0.026957503998567656.\u001b[0m\n",
      "\u001b[32m[I 2022-08-07 13:04:18,516]\u001b[0m Trial 75 finished with value: 0.027358466865773003 and parameters: {'lambda': 5.181817185486725, 'alpha': 0.026467037670438807, 'colsample_bytree': 0.7, 'subsample': 0.8, 'learning_rate': 0.04155044080856639, 'n_estimators': 3342, 'max_depth': 15, 'min_child_weight': 1}. Best is trial 38 with value: 0.026957503998567656.\u001b[0m\n",
      "\u001b[32m[I 2022-08-07 13:04:22,678]\u001b[0m Trial 76 finished with value: 0.028160874456960448 and parameters: {'lambda': 2.9879938909831396, 'alpha': 0.017232092544724513, 'colsample_bytree': 0.8, 'subsample': 0.8, 'learning_rate': 0.02513209515829059, 'n_estimators': 3479, 'max_depth': 15, 'min_child_weight': 26}. Best is trial 38 with value: 0.026957503998567656.\u001b[0m\n",
      "\u001b[32m[I 2022-08-07 13:04:23,612]\u001b[0m Trial 77 finished with value: 0.03007324419885374 and parameters: {'lambda': 4.186764076590407, 'alpha': 0.012861958063431026, 'colsample_bytree': 0.7, 'subsample': 0.8, 'learning_rate': 0.18505349241784383, 'n_estimators': 2975, 'max_depth': 5, 'min_child_weight': 19}. Best is trial 38 with value: 0.026957503998567656.\u001b[0m\n",
      "\u001b[32m[I 2022-08-07 13:04:26,724]\u001b[0m Trial 78 finished with value: 0.02992089393163895 and parameters: {'lambda': 0.0031470826557804385, 'alpha': 0.0024599896092947896, 'colsample_bytree': 1.0, 'subsample': 0.8, 'learning_rate': 0.049189719648385415, 'n_estimators': 3637, 'max_depth': 15, 'min_child_weight': 53}. Best is trial 38 with value: 0.026957503998567656.\u001b[0m\n",
      "\u001b[32m[I 2022-08-07 13:04:44,449]\u001b[0m Trial 79 finished with value: 0.03689546114406576 and parameters: {'lambda': 2.3367841831651206, 'alpha': 0.004530340747840111, 'colsample_bytree': 0.7, 'subsample': 0.8, 'learning_rate': 0.0012461662308759815, 'n_estimators': 3183, 'max_depth': 7, 'min_child_weight': 36}. Best is trial 38 with value: 0.026957503998567656.\u001b[0m\n",
      "\u001b[32m[I 2022-08-07 13:04:51,064]\u001b[0m Trial 80 finished with value: 0.0359348467087797 and parameters: {'lambda': 1.642050391970127, 'alpha': 0.0071804443578423255, 'colsample_bytree': 1.0, 'subsample': 0.8, 'learning_rate': 0.030051985829660552, 'n_estimators': 3551, 'max_depth': 11, 'min_child_weight': 169}. Best is trial 38 with value: 0.026957503998567656.\u001b[0m\n",
      "\u001b[32m[I 2022-08-07 13:04:55,157]\u001b[0m Trial 81 finished with value: 0.027615961685410854 and parameters: {'lambda': 5.8349480218332825, 'alpha': 0.008481351848843225, 'colsample_bytree': 0.7, 'subsample': 0.8, 'learning_rate': 0.019212854041174537, 'n_estimators': 3288, 'max_depth': 15, 'min_child_weight': 10}. Best is trial 38 with value: 0.026957503998567656.\u001b[0m\n",
      "\u001b[32m[I 2022-08-07 13:04:58,483]\u001b[0m Trial 82 finished with value: 0.02707941096956786 and parameters: {'lambda': 7.310992172246821, 'alpha': 0.009779333267571362, 'colsample_bytree': 0.7, 'subsample': 0.8, 'learning_rate': 0.02515490009742498, 'n_estimators': 3115, 'max_depth': 15, 'min_child_weight': 8}. Best is trial 38 with value: 0.026957503998567656.\u001b[0m\n",
      "\u001b[32m[I 2022-08-07 13:05:01,371]\u001b[0m Trial 83 finished with value: 0.028055075170646624 and parameters: {'lambda': 7.842420958718999, 'alpha': 0.01248628109425887, 'colsample_bytree': 0.7, 'subsample': 0.8, 'learning_rate': 0.050479185393477836, 'n_estimators': 2965, 'max_depth': 15, 'min_child_weight': 19}. Best is trial 38 with value: 0.026957503998567656.\u001b[0m\n",
      "\u001b[32m[I 2022-08-07 13:05:10,476]\u001b[0m Trial 84 finished with value: 0.028563322732961343 and parameters: {'lambda': 4.385016333316164, 'alpha': 0.005917532846894281, 'colsample_bytree': 0.7, 'subsample': 0.8, 'learning_rate': 0.011093081036685885, 'n_estimators': 2827, 'max_depth': 15, 'min_child_weight': 27}. Best is trial 38 with value: 0.026957503998567656.\u001b[0m\n",
      "\u001b[32m[I 2022-08-07 13:05:12,613]\u001b[0m Trial 85 finished with value: 0.027873118321845816 and parameters: {'lambda': 2.8415962421314025, 'alpha': 0.023129310955376372, 'colsample_bytree': 0.7, 'subsample': 1.0, 'learning_rate': 0.04180474895025106, 'n_estimators': 3107, 'max_depth': 15, 'min_child_weight': 8}. Best is trial 38 with value: 0.026957503998567656.\u001b[0m\n",
      "\u001b[32m[I 2022-08-07 13:05:15,007]\u001b[0m Trial 86 finished with value: 0.028718573041059316 and parameters: {'lambda': 5.345309765686124, 'alpha': 0.003838459296643599, 'colsample_bytree': 0.5, 'subsample': 0.8, 'learning_rate': 0.027537050551888115, 'n_estimators': 3492, 'max_depth': 9, 'min_child_weight': 5}. Best is trial 38 with value: 0.026957503998567656.\u001b[0m\n",
      "\u001b[32m[I 2022-08-07 13:05:16,803]\u001b[0m Trial 87 finished with value: 0.02862893522167856 and parameters: {'lambda': 8.21273734366325, 'alpha': 0.029625395745039446, 'colsample_bytree': 0.9, 'subsample': 0.7, 'learning_rate': 0.06827555944734942, 'n_estimators': 3269, 'max_depth': 13, 'min_child_weight': 17}. Best is trial 38 with value: 0.026957503998567656.\u001b[0m\n",
      "\u001b[32m[I 2022-08-07 13:05:22,866]\u001b[0m Trial 88 finished with value: 0.028035980838018 and parameters: {'lambda': 3.466399528467624, 'alpha': 0.04343303609427111, 'colsample_bytree': 1.0, 'subsample': 0.8, 'learning_rate': 0.012752456989163814, 'n_estimators': 3861, 'max_depth': 4, 'min_child_weight': 1}. Best is trial 38 with value: 0.026957503998567656.\u001b[0m\n",
      "\u001b[32m[I 2022-08-07 13:05:23,830]\u001b[0m Trial 89 finished with value: 0.032087291571536405 and parameters: {'lambda': 0.0251114251160198, 'alpha': 0.009486313356320657, 'colsample_bytree': 0.6, 'subsample': 0.8, 'learning_rate': 0.21427558458671436, 'n_estimators': 2693, 'max_depth': 15, 'min_child_weight': 31}. Best is trial 38 with value: 0.026957503998567656.\u001b[0m\n",
      "\u001b[32m[I 2022-08-07 13:05:27,412]\u001b[0m Trial 90 finished with value: 0.030890019893729328 and parameters: {'lambda': 5.6456041664703305, 'alpha': 0.01831913648976368, 'colsample_bytree': 0.7, 'subsample': 0.8, 'learning_rate': 0.03654854940034333, 'n_estimators': 2914, 'max_depth': 5, 'min_child_weight': 49}. Best is trial 38 with value: 0.026957503998567656.\u001b[0m\n",
      "\u001b[32m[I 2022-08-07 13:05:30,460]\u001b[0m Trial 91 finished with value: 0.027989798730438203 and parameters: {'lambda': 7.283114097657282, 'alpha': 0.009680271662584887, 'colsample_bytree': 0.7, 'subsample': 0.8, 'learning_rate': 0.02366494947713705, 'n_estimators': 3355, 'max_depth': 15, 'min_child_weight': 10}. Best is trial 38 with value: 0.026957503998567656.\u001b[0m\n",
      "\u001b[32m[I 2022-08-07 13:05:33,198]\u001b[0m Trial 92 finished with value: 0.028421573913008164 and parameters: {'lambda': 4.505573510021929, 'alpha': 0.005181232640081566, 'colsample_bytree': 0.7, 'subsample': 0.8, 'learning_rate': 0.05105473024730017, 'n_estimators': 3087, 'max_depth': 15, 'min_child_weight': 23}. Best is trial 38 with value: 0.026957503998567656.\u001b[0m\n",
      "\u001b[32m[I 2022-08-07 13:05:38,614]\u001b[0m Trial 93 finished with value: 0.02711637656384365 and parameters: {'lambda': 6.552576255171111, 'alpha': 0.002928697460141001, 'colsample_bytree': 0.7, 'subsample': 0.8, 'learning_rate': 0.018171497148839352, 'n_estimators': 3209, 'max_depth': 15, 'min_child_weight': 15}. Best is trial 38 with value: 0.026957503998567656.\u001b[0m\n",
      "\u001b[32m[I 2022-08-07 13:05:44,644]\u001b[0m Trial 94 finished with value: 0.027203417576708983 and parameters: {'lambda': 2.992976374304342, 'alpha': 0.0031751004434417214, 'colsample_bytree': 0.7, 'subsample': 0.8, 'learning_rate': 0.014742352953598228, 'n_estimators': 3231, 'max_depth': 15, 'min_child_weight': 16}. Best is trial 38 with value: 0.026957503998567656.\u001b[0m\n",
      "\u001b[32m[I 2022-08-07 13:05:49,386]\u001b[0m Trial 95 finished with value: 0.03021077488539572 and parameters: {'lambda': 8.542063922839269, 'alpha': 0.0033228684908980424, 'colsample_bytree': 0.7, 'subsample': 0.8, 'learning_rate': 0.0165827534641209, 'n_estimators': 3223, 'max_depth': 15, 'min_child_weight': 41}. Best is trial 38 with value: 0.026957503998567656.\u001b[0m\n",
      "\u001b[32m[I 2022-08-07 13:05:56,919]\u001b[0m Trial 96 finished with value: 0.039425663475336 and parameters: {'lambda': 2.396677812206771, 'alpha': 0.0027396198571089706, 'colsample_bytree': 0.7, 'subsample': 0.8, 'learning_rate': 0.007972131390641643, 'n_estimators': 3694, 'max_depth': 15, 'min_child_weight': 299}. Best is trial 38 with value: 0.026957503998567656.\u001b[0m\n",
      "\u001b[32m[I 2022-08-07 13:06:01,492]\u001b[0m Trial 97 finished with value: 0.02730598287331431 and parameters: {'lambda': 3.0961327562609764, 'alpha': 0.0020433102633366893, 'colsample_bytree': 0.7, 'subsample': 0.7, 'learning_rate': 0.03364974377383742, 'n_estimators': 3037, 'max_depth': 15, 'min_child_weight': 14}. Best is trial 38 with value: 0.026957503998567656.\u001b[0m\n",
      "\u001b[32m[I 2022-08-07 13:06:06,396]\u001b[0m Trial 98 finished with value: 0.02843284392100367 and parameters: {'lambda': 9.934467061501136, 'alpha': 0.0012046827448808472, 'colsample_bytree': 0.7, 'subsample': 0.8, 'learning_rate': 0.016181006185179505, 'n_estimators': 3119, 'max_depth': 9, 'min_child_weight': 5}. Best is trial 38 with value: 0.026957503998567656.\u001b[0m\n",
      "\u001b[32m[I 2022-08-07 13:06:40,858]\u001b[0m Trial 99 finished with value: 0.03241985197773563 and parameters: {'lambda': 0.14931887007351144, 'alpha': 0.0017302083228469412, 'colsample_bytree': 0.8, 'subsample': 0.8, 'learning_rate': 0.0012924295864595974, 'n_estimators': 3466, 'max_depth': 15, 'min_child_weight': 33}. Best is trial 38 with value: 0.026957503998567656.\u001b[0m\n",
      "\u001b[32m[I 2022-08-07 13:06:44,060]\u001b[0m Trial 100 finished with value: 0.029186982527342347 and parameters: {'lambda': 5.46641359041511, 'alpha': 0.5809662265600757, 'colsample_bytree': 0.7, 'subsample': 1.0, 'learning_rate': 0.0421962736417652, 'n_estimators': 3548, 'max_depth': 7, 'min_child_weight': 17}. Best is trial 38 with value: 0.026957503998567656.\u001b[0m\n",
      "\u001b[32m[I 2022-08-07 13:06:48,480]\u001b[0m Trial 101 finished with value: 0.028312478298699872 and parameters: {'lambda': 4.104827319868018, 'alpha': 0.007142342068028135, 'colsample_bytree': 1.0, 'subsample': 0.8, 'learning_rate': 0.026716745756902298, 'n_estimators': 2799, 'max_depth': 13, 'min_child_weight': 24}. Best is trial 38 with value: 0.026957503998567656.\u001b[0m\n",
      "\u001b[32m[I 2022-08-07 13:06:50,473]\u001b[0m Trial 102 finished with value: 0.03809206462440009 and parameters: {'lambda': 6.718279430383798, 'alpha': 0.005089566292969934, 'colsample_bytree': 0.9, 'subsample': 0.8, 'learning_rate': 0.055946710341971656, 'n_estimators': 3329, 'max_depth': 13, 'min_child_weight': 235}. Best is trial 38 with value: 0.026957503998567656.\u001b[0m\n",
      "\u001b[32m[I 2022-08-07 13:06:52,156]\u001b[0m Trial 103 finished with value: 0.028437334012161124 and parameters: {'lambda': 3.6374020620788117, 'alpha': 0.002900703608572155, 'colsample_bytree': 1.0, 'subsample': 0.8, 'learning_rate': 0.15040736706737404, 'n_estimators': 3172, 'max_depth': 11, 'min_child_weight': 15}. Best is trial 38 with value: 0.026957503998567656.\u001b[0m\n",
      "\u001b[32m[I 2022-08-07 13:06:53,671]\u001b[0m Trial 104 finished with value: 0.028636104035515687 and parameters: {'lambda': 5.04208025061027, 'alpha': 0.011553684049071249, 'colsample_bytree': 0.7, 'subsample': 0.8, 'learning_rate': 0.06314537575447982, 'n_estimators': 2972, 'max_depth': 9, 'min_child_weight': 7}. Best is trial 38 with value: 0.026957503998567656.\u001b[0m\n",
      "\u001b[32m[I 2022-08-07 13:06:56,285]\u001b[0m Trial 105 finished with value: 0.027840496617017575 and parameters: {'lambda': 1.975654832709938, 'alpha': 0.001006545551703566, 'colsample_bytree': 0.8, 'subsample': 0.8, 'learning_rate': 0.042815406735421654, 'n_estimators': 3263, 'max_depth': 15, 'min_child_weight': 22}. Best is trial 38 with value: 0.026957503998567656.\u001b[0m\n",
      "\u001b[32m[I 2022-08-07 13:06:59,220]\u001b[0m Trial 106 finished with value: 0.029881586576178884 and parameters: {'lambda': 2.742844933610638, 'alpha': 0.003876850825712752, 'colsample_bytree': 0.7, 'subsample': 0.8, 'learning_rate': 0.07478214428176781, 'n_estimators': 3029, 'max_depth': 13, 'min_child_weight': 37}. Best is trial 38 with value: 0.026957503998567656.\u001b[0m\n",
      "\u001b[32m[I 2022-08-07 13:07:02,873]\u001b[0m Trial 107 finished with value: 0.027891425956042645 and parameters: {'lambda': 1.494837426085556, 'alpha': 0.002213170720977242, 'colsample_bytree': 1.0, 'subsample': 0.7, 'learning_rate': 0.03327467146313992, 'n_estimators': 3800, 'max_depth': 17, 'min_child_weight': 1}. Best is trial 38 with value: 0.026957503998567656.\u001b[0m\n",
      "\u001b[32m[I 2022-08-07 13:07:13,752]\u001b[0m Trial 108 finished with value: 0.02874147042385667 and parameters: {'lambda': 4.032764972954155, 'alpha': 0.01403726303595943, 'colsample_bytree': 0.9, 'subsample': 0.8, 'learning_rate': 0.009440530183626915, 'n_estimators': 2911, 'max_depth': 15, 'min_child_weight': 28}. Best is trial 38 with value: 0.026957503998567656.\u001b[0m\n",
      "\u001b[32m[I 2022-08-07 13:07:17,681]\u001b[0m Trial 109 finished with value: 0.028160143332615396 and parameters: {'lambda': 6.210690963773949, 'alpha': 0.07068245588887338, 'colsample_bytree': 0.5, 'subsample': 0.8, 'learning_rate': 0.02037129103372415, 'n_estimators': 2593, 'max_depth': 9, 'min_child_weight': 14}. Best is trial 38 with value: 0.026957503998567656.\u001b[0m\n",
      "\u001b[32m[I 2022-08-07 13:07:23,152]\u001b[0m Trial 110 finished with value: 0.03141919019567147 and parameters: {'lambda': 8.019817726161506, 'alpha': 0.006213465048205347, 'colsample_bytree': 0.7, 'subsample': 0.8, 'learning_rate': 0.04790266860470405, 'n_estimators': 3638, 'max_depth': 13, 'min_child_weight': 65}. Best is trial 38 with value: 0.026957503998567656.\u001b[0m\n",
      "\u001b[32m[I 2022-08-07 13:07:27,369]\u001b[0m Trial 111 finished with value: 0.02789949922202436 and parameters: {'lambda': 3.1603228245332926, 'alpha': 0.002100610835527072, 'colsample_bytree': 0.7, 'subsample': 0.7, 'learning_rate': 0.037262101130849885, 'n_estimators': 3036, 'max_depth': 15, 'min_child_weight': 14}. Best is trial 38 with value: 0.026957503998567656.\u001b[0m\n",
      "\u001b[32m[I 2022-08-07 13:07:31,326]\u001b[0m Trial 112 finished with value: 0.027680307149316876 and parameters: {'lambda': 2.9716892008828784, 'alpha': 0.0018568821120444358, 'colsample_bytree': 0.7, 'subsample': 0.7, 'learning_rate': 0.02832637035153293, 'n_estimators': 3162, 'max_depth': 15, 'min_child_weight': 6}. Best is trial 38 with value: 0.026957503998567656.\u001b[0m\n",
      "\u001b[32m[I 2022-08-07 13:07:35,326]\u001b[0m Trial 113 finished with value: 0.02809251002113509 and parameters: {'lambda': 2.312434930216227, 'alpha': 0.001433911983873809, 'colsample_bytree': 0.7, 'subsample': 0.7, 'learning_rate': 0.03062387621072137, 'n_estimators': 2751, 'max_depth': 15, 'min_child_weight': 20}. Best is trial 38 with value: 0.026957503998567656.\u001b[0m\n",
      "\u001b[32m[I 2022-08-07 13:07:41,639]\u001b[0m Trial 114 finished with value: 0.02722931399218959 and parameters: {'lambda': 5.09537946291227, 'alpha': 0.003085531355802692, 'colsample_bytree': 0.7, 'subsample': 0.7, 'learning_rate': 0.015844305109870314, 'n_estimators': 3392, 'max_depth': 15, 'min_child_weight': 11}. Best is trial 38 with value: 0.026957503998567656.\u001b[0m\n",
      "\u001b[32m[I 2022-08-07 13:07:47,825]\u001b[0m Trial 115 finished with value: 0.02872640450492675 and parameters: {'lambda': 4.88262480947313, 'alpha': 0.003281768298216684, 'colsample_bytree': 1.0, 'subsample': 0.7, 'learning_rate': 0.013050220868450722, 'n_estimators': 3375, 'max_depth': 15, 'min_child_weight': 9}. Best is trial 38 with value: 0.026957503998567656.\u001b[0m\n",
      "\u001b[32m[I 2022-08-07 13:07:56,091]\u001b[0m Trial 116 finished with value: 0.030026301125574115 and parameters: {'lambda': 6.280437692490785, 'alpha': 0.0044544098705637265, 'colsample_bytree': 0.6, 'subsample': 0.8, 'learning_rate': 0.019343717570783875, 'n_estimators': 3509, 'max_depth': 4, 'min_child_weight': 26}. Best is trial 38 with value: 0.026957503998567656.\u001b[0m\n",
      "\u001b[32m[I 2022-08-07 13:08:11,162]\u001b[0m Trial 117 finished with value: 0.029002818972936523 and parameters: {'lambda': 3.9241313206425317, 'alpha': 0.007988832182304772, 'colsample_bytree': 0.7, 'subsample': 0.8, 'learning_rate': 0.007148736631041578, 'n_estimators': 3433, 'max_depth': 17, 'min_child_weight': 31}. Best is trial 38 with value: 0.026957503998567656.\u001b[0m\n",
      "\u001b[32m[I 2022-08-07 13:08:13,527]\u001b[0m Trial 118 finished with value: 0.03620937157482408 and parameters: {'lambda': 0.010106344825663907, 'alpha': 0.022442361064252698, 'colsample_bytree': 0.8, 'subsample': 0.7, 'learning_rate': 0.12805132944978662, 'n_estimators': 3267, 'max_depth': 13, 'min_child_weight': 133}. Best is trial 38 with value: 0.026957503998567656.\u001b[0m\n",
      "\u001b[32m[I 2022-08-07 13:08:15,789]\u001b[0m Trial 119 finished with value: 0.02737248426972585 and parameters: {'lambda': 8.0397225544295, 'alpha': 0.011072888064411738, 'colsample_bytree': 0.7, 'subsample': 0.8, 'learning_rate': 0.09391103868013621, 'n_estimators': 3220, 'max_depth': 15, 'min_child_weight': 1}. Best is trial 38 with value: 0.026957503998567656.\u001b[0m\n",
      "\u001b[32m[I 2022-08-07 13:08:18,846]\u001b[0m Trial 120 finished with value: 0.029526547537979078 and parameters: {'lambda': 4.815181744350359, 'alpha': 0.015678925558871626, 'colsample_bytree': 1.0, 'subsample': 1.0, 'learning_rate': 0.10830159224230683, 'n_estimators': 3336, 'max_depth': 9, 'min_child_weight': 42}. Best is trial 38 with value: 0.026957503998567656.\u001b[0m\n",
      "\u001b[32m[I 2022-08-07 13:08:21,887]\u001b[0m Trial 121 finished with value: 0.028334405285260874 and parameters: {'lambda': 3.2290790847137782, 'alpha': 0.0023034743967609555, 'colsample_bytree': 0.7, 'subsample': 0.7, 'learning_rate': 0.038751506567685876, 'n_estimators': 3117, 'max_depth': 15, 'min_child_weight': 15}. Best is trial 38 with value: 0.026957503998567656.\u001b[0m\n",
      "\u001b[32m[I 2022-08-07 13:08:24,912]\u001b[0m Trial 122 finished with value: 0.027290390324519426 and parameters: {'lambda': 5.773575839028778, 'alpha': 0.002686141596154483, 'colsample_bytree': 0.7, 'subsample': 0.7, 'learning_rate': 0.054778573527933944, 'n_estimators': 3070, 'max_depth': 15, 'min_child_weight': 8}. Best is trial 38 with value: 0.026957503998567656.\u001b[0m\n",
      "\u001b[32m[I 2022-08-07 13:08:27,037]\u001b[0m Trial 123 finished with value: 0.027575960166493198 and parameters: {'lambda': 6.872811677227085, 'alpha': 0.0029181346057316204, 'colsample_bytree': 0.7, 'subsample': 0.7, 'learning_rate': 0.05873982405977524, 'n_estimators': 2852, 'max_depth': 15, 'min_child_weight': 6}. Best is trial 38 with value: 0.026957503998567656.\u001b[0m\n",
      "\u001b[32m[I 2022-08-07 13:08:30,645]\u001b[0m Trial 124 finished with value: 0.028148594750266494 and parameters: {'lambda': 5.636535331710326, 'alpha': 0.18797337857941382, 'colsample_bytree': 0.7, 'subsample': 0.7, 'learning_rate': 0.04807431630853104, 'n_estimators': 3407, 'max_depth': 15, 'min_child_weight': 20}. Best is trial 38 with value: 0.026957503998567656.\u001b[0m\n",
      "\u001b[32m[I 2022-08-07 13:08:35,223]\u001b[0m Trial 125 finished with value: 0.027620744738280897 and parameters: {'lambda': 9.755187217113383, 'alpha': 0.006535661414982714, 'colsample_bytree': 0.7, 'subsample': 0.7, 'learning_rate': 0.023686972176594087, 'n_estimators': 3201, 'max_depth': 15, 'min_child_weight': 10}. Best is trial 38 with value: 0.026957503998567656.\u001b[0m\n",
      "\u001b[32m[I 2022-08-07 13:09:00,713]\u001b[0m Trial 126 finished with value: 0.04034305581847033 and parameters: {'lambda': 4.289257350240995, 'alpha': 0.003591201354075666, 'colsample_bytree': 0.9, 'subsample': 0.8, 'learning_rate': 0.0011441847752707325, 'n_estimators': 3093, 'max_depth': 7, 'min_child_weight': 24}. Best is trial 38 with value: 0.026957503998567656.\u001b[0m\n",
      "\u001b[32m[I 2022-08-07 13:09:07,956]\u001b[0m Trial 127 finished with value: 0.03390331937923245 and parameters: {'lambda': 7.246481642375761, 'alpha': 0.005451176747594029, 'colsample_bytree': 0.7, 'subsample': 0.8, 'learning_rate': 0.0171022426557862, 'n_estimators': 3319, 'max_depth': 5, 'min_child_weight': 97}. Best is trial 38 with value: 0.026957503998567656.\u001b[0m\n",
      "\u001b[32m[I 2022-08-07 13:09:09,105]\u001b[0m Trial 128 finished with value: 0.03225845859596405 and parameters: {'lambda': 5.595426038906116, 'alpha': 0.0013448352942980663, 'colsample_bytree': 1.0, 'subsample': 0.8, 'learning_rate': 0.30130706075684344, 'n_estimators': 2942, 'max_depth': 13, 'min_child_weight': 6}. Best is trial 38 with value: 0.026957503998567656.\u001b[0m\n",
      "\u001b[32m[I 2022-08-07 13:09:12,900]\u001b[0m Trial 129 finished with value: 0.02961253224417788 and parameters: {'lambda': 3.6233458635534785, 'alpha': 0.03231473401099355, 'colsample_bytree': 0.7, 'subsample': 0.7, 'learning_rate': 0.02961665875189264, 'n_estimators': 3631, 'max_depth': 15, 'min_child_weight': 34}. Best is trial 38 with value: 0.026957503998567656.\u001b[0m\n",
      "\u001b[32m[I 2022-08-07 13:09:15,157]\u001b[0m Trial 130 finished with value: 0.02854661403080965 and parameters: {'lambda': 1.808563112667597, 'alpha': 0.004939529013529561, 'colsample_bytree': 0.8, 'subsample': 0.8, 'learning_rate': 0.07081118071777556, 'n_estimators': 3554, 'max_depth': 17, 'min_child_weight': 1}. Best is trial 38 with value: 0.026957503998567656.\u001b[0m\n",
      "\u001b[32m[I 2022-08-07 13:09:18,569]\u001b[0m Trial 131 finished with value: 0.027351087964308744 and parameters: {'lambda': 2.542678997485992, 'alpha': 0.0016838831546423711, 'colsample_bytree': 0.7, 'subsample': 0.7, 'learning_rate': 0.034748715036629116, 'n_estimators': 3026, 'max_depth': 15, 'min_child_weight': 16}. Best is trial 38 with value: 0.026957503998567656.\u001b[0m\n",
      "\u001b[32m[I 2022-08-07 13:09:20,342]\u001b[0m Trial 132 finished with value: 0.027288420550040805 and parameters: {'lambda': 0.0011306612365927279, 'alpha': 0.002644316851981344, 'colsample_bytree': 0.7, 'subsample': 0.7, 'learning_rate': 0.04253357114644882, 'n_estimators': 3015, 'max_depth': 15, 'min_child_weight': 12}. Best is trial 38 with value: 0.026957503998567656.\u001b[0m\n",
      "\u001b[32m[I 2022-08-07 13:09:21,450]\u001b[0m Trial 133 finished with value: 0.03197049823164039 and parameters: {'lambda': 0.0010117659535860291, 'alpha': 0.0025919798613610327, 'colsample_bytree': 0.7, 'subsample': 0.7, 'learning_rate': 0.2649422928376023, 'n_estimators': 3142, 'max_depth': 15, 'min_child_weight': 11}. Best is trial 38 with value: 0.026957503998567656.\u001b[0m\n",
      "\u001b[32m[I 2022-08-07 13:09:24,109]\u001b[0m Trial 134 finished with value: 0.028338809591334536 and parameters: {'lambda': 4.628925310563028, 'alpha': 0.004006139873617732, 'colsample_bytree': 0.7, 'subsample': 0.7, 'learning_rate': 0.053505988347353234, 'n_estimators': 3222, 'max_depth': 15, 'min_child_weight': 20}. Best is trial 38 with value: 0.026957503998567656.\u001b[0m\n",
      "\u001b[32m[I 2022-08-07 13:09:25,594]\u001b[0m Trial 135 finished with value: 0.027720696930239597 and parameters: {'lambda': 0.0436466370783703, 'alpha': 0.008741894977397184, 'colsample_bytree': 0.7, 'subsample': 0.7, 'learning_rate': 0.0455024701413282, 'n_estimators': 2853, 'max_depth': 9, 'min_child_weight': 8}. Best is trial 38 with value: 0.026957503998567656.\u001b[0m\n",
      "\u001b[32m[I 2022-08-07 13:09:29,049]\u001b[0m Trial 136 finished with value: 0.028271217691955747 and parameters: {'lambda': 0.06627104159088228, 'alpha': 0.002984500516581478, 'colsample_bytree': 0.7, 'subsample': 0.8, 'learning_rate': 0.022275502641764547, 'n_estimators': 1832, 'max_depth': 11, 'min_child_weight': 26}. Best is trial 38 with value: 0.026957503998567656.\u001b[0m\n",
      "\u001b[32m[I 2022-08-07 13:09:34,542]\u001b[0m Trial 137 finished with value: 0.02733341779759656 and parameters: {'lambda': 0.004183625380946296, 'alpha': 0.018881030857982258, 'colsample_bytree': 1.0, 'subsample': 0.8, 'learning_rate': 0.010298980915284348, 'n_estimators': 3066, 'max_depth': 15, 'min_child_weight': 15}. Best is trial 38 with value: 0.026957503998567656.\u001b[0m\n",
      "\u001b[32m[I 2022-08-07 13:09:36,312]\u001b[0m Trial 138 finished with value: 0.028003964498186183 and parameters: {'lambda': 0.0021396874292054398, 'alpha': 0.05084033388254037, 'colsample_bytree': 0.5, 'subsample': 0.8, 'learning_rate': 0.06563773217886806, 'n_estimators': 3259, 'max_depth': 13, 'min_child_weight': 1}. Best is trial 38 with value: 0.026957503998567656.\u001b[0m\n",
      "\u001b[32m[I 2022-08-07 13:09:39,465]\u001b[0m Trial 139 finished with value: 0.02774054896245711 and parameters: {'lambda': 0.2540124236210768, 'alpha': 0.0024555203998261445, 'colsample_bytree': 0.7, 'subsample': 0.7, 'learning_rate': 0.04219969709147692, 'n_estimators': 2986, 'max_depth': 15, 'min_child_weight': 21}. Best is trial 38 with value: 0.026957503998567656.\u001b[0m\n",
      "\u001b[32m[I 2022-08-07 13:09:43,244]\u001b[0m Trial 140 finished with value: 0.02750982750758348 and parameters: {'lambda': 8.567884466293107, 'alpha': 0.0040413962758292146, 'colsample_bytree': 0.9, 'subsample': 0.8, 'learning_rate': 0.025215291460786184, 'n_estimators': 3453, 'max_depth': 15, 'min_child_weight': 11}. Best is trial 38 with value: 0.026957503998567656.\u001b[0m\n",
      "\u001b[32m[I 2022-08-07 13:09:46,316]\u001b[0m Trial 141 finished with value: 0.027903282577587278 and parameters: {'lambda': 3.2096910301124266, 'alpha': 0.001819695531623035, 'colsample_bytree': 0.7, 'subsample': 0.7, 'learning_rate': 0.03317014576847036, 'n_estimators': 3114, 'max_depth': 15, 'min_child_weight': 15}. Best is trial 38 with value: 0.026957503998567656.\u001b[0m\n",
      "\u001b[32m[I 2022-08-07 13:09:50,292]\u001b[0m Trial 142 finished with value: 0.02787654534687303 and parameters: {'lambda': 6.363069278834316, 'alpha': 0.0023310546488910185, 'colsample_bytree': 0.7, 'subsample': 0.7, 'learning_rate': 0.015624133970360167, 'n_estimators': 2921, 'max_depth': 15, 'min_child_weight': 6}. Best is trial 38 with value: 0.026957503998567656.\u001b[0m\n",
      "\u001b[32m[I 2022-08-07 13:09:53,574]\u001b[0m Trial 143 finished with value: 0.029115465590647316 and parameters: {'lambda': 3.9426631334200177, 'alpha': 0.002873267511686124, 'colsample_bytree': 0.7, 'subsample': 0.7, 'learning_rate': 0.0356917098955742, 'n_estimators': 3033, 'max_depth': 15, 'min_child_weight': 30}. Best is trial 38 with value: 0.026957503998567656.\u001b[0m\n",
      "\u001b[32m[I 2022-08-07 13:09:55,525]\u001b[0m Trial 144 finished with value: 0.02816255480046455 and parameters: {'lambda': 5.156634932066065, 'alpha': 0.0018931275617652765, 'colsample_bytree': 0.7, 'subsample': 0.7, 'learning_rate': 0.055668065115789006, 'n_estimators': 3349, 'max_depth': 15, 'min_child_weight': 13}. Best is trial 38 with value: 0.026957503998567656.\u001b[0m\n",
      "\u001b[32m[I 2022-08-07 13:10:03,837]\u001b[0m Trial 145 finished with value: 0.027874699472971838 and parameters: {'lambda': 0.016419136697548974, 'alpha': 0.003300569274831568, 'colsample_bytree': 0.7, 'subsample': 0.6, 'learning_rate': 0.009052551446260142, 'n_estimators': 3169, 'max_depth': 9, 'min_child_weight': 18}. Best is trial 38 with value: 0.026957503998567656.\u001b[0m\n",
      "\u001b[32m[I 2022-08-07 13:10:15,722]\u001b[0m Trial 146 finished with value: 0.033038508732224296 and parameters: {'lambda': 2.7669014851890807, 'alpha': 1.844512948015412, 'colsample_bytree': 0.6, 'subsample': 0.7, 'learning_rate': 0.028128641486320924, 'n_estimators': 3068, 'max_depth': 13, 'min_child_weight': 25}. Best is trial 38 with value: 0.026957503998567656.\u001b[0m\n",
      "\u001b[32m[I 2022-08-07 13:10:18,383]\u001b[0m Trial 147 finished with value: 0.028575571534460217 and parameters: {'lambda': 4.346047474698264, 'alpha': 0.002094611961279446, 'colsample_bytree': 1.0, 'subsample': 0.8, 'learning_rate': 0.04257659218733457, 'n_estimators': 2423, 'max_depth': 4, 'min_child_weight': 7}. Best is trial 38 with value: 0.026957503998567656.\u001b[0m\n",
      "\u001b[32m[I 2022-08-07 13:10:22,176]\u001b[0m Trial 148 finished with value: 0.03787734942630357 and parameters: {'lambda': 2.1693811768572258, 'alpha': 0.013173873602351309, 'colsample_bytree': 0.7, 'subsample': 0.8, 'learning_rate': 0.01937821192896182, 'n_estimators': 3254, 'max_depth': 15, 'min_child_weight': 214}. Best is trial 38 with value: 0.026957503998567656.\u001b[0m\n",
      "\u001b[32m[I 2022-08-07 13:10:25,739]\u001b[0m Trial 149 finished with value: 0.02929580524194285 and parameters: {'lambda': 7.2957525725289925, 'alpha': 0.0067571955625442244, 'colsample_bytree': 0.8, 'subsample': 1.0, 'learning_rate': 0.04881622639056722, 'n_estimators': 2806, 'max_depth': 17, 'min_child_weight': 34}. Best is trial 38 with value: 0.026957503998567656.\u001b[0m\n",
      "\u001b[32m[I 2022-08-07 13:10:35,882]\u001b[0m Trial 150 finished with value: 0.027038557837136618 and parameters: {'lambda': 5.925084104231382, 'alpha': 0.0104887304433539, 'colsample_bytree': 0.7, 'subsample': 0.8, 'learning_rate': 0.008616717541904524, 'n_estimators': 3304, 'max_depth': 15, 'min_child_weight': 1}. Best is trial 38 with value: 0.026957503998567656.\u001b[0m\n",
      "\u001b[32m[I 2022-08-07 13:10:46,055]\u001b[0m Trial 151 finished with value: 0.027938074433022857 and parameters: {'lambda': 5.678665301599318, 'alpha': 0.009526625974719304, 'colsample_bytree': 0.7, 'subsample': 0.8, 'learning_rate': 0.0066317463191106815, 'n_estimators': 3294, 'max_depth': 15, 'min_child_weight': 5}. Best is trial 38 with value: 0.026957503998567656.\u001b[0m\n",
      "\u001b[32m[I 2022-08-07 13:10:52,575]\u001b[0m Trial 152 finished with value: 0.027116451770903546 and parameters: {'lambda': 3.4199998779388823, 'alpha': 0.01490065156645451, 'colsample_bytree': 0.7, 'subsample': 0.8, 'learning_rate': 0.017343078349145453, 'n_estimators': 3178, 'max_depth': 15, 'min_child_weight': 1}. Best is trial 38 with value: 0.026957503998567656.\u001b[0m\n",
      "\u001b[32m[I 2022-08-07 13:10:59,084]\u001b[0m Trial 153 finished with value: 0.026866882231508616 and parameters: {'lambda': 3.702203646436421, 'alpha': 0.015647690043707002, 'colsample_bytree': 0.7, 'subsample': 0.8, 'learning_rate': 0.013511703362957376, 'n_estimators': 3376, 'max_depth': 15, 'min_child_weight': 1}. Best is trial 153 with value: 0.026866882231508616.\u001b[0m\n",
      "\u001b[32m[I 2022-08-07 13:11:04,219]\u001b[0m Trial 154 finished with value: 0.027523689610394694 and parameters: {'lambda': 3.657627114752557, 'alpha': 0.01425542092273183, 'colsample_bytree': 0.7, 'subsample': 0.8, 'learning_rate': 0.014921032623188134, 'n_estimators': 3426, 'max_depth': 15, 'min_child_weight': 3}. Best is trial 153 with value: 0.026866882231508616.\u001b[0m\n",
      "\u001b[32m[I 2022-08-07 13:11:08,663]\u001b[0m Trial 155 finished with value: 0.02705863981298432 and parameters: {'lambda': 4.809403925392819, 'alpha': 0.01757709442339105, 'colsample_bytree': 0.7, 'subsample': 0.8, 'learning_rate': 0.024619347998237874, 'n_estimators': 3406, 'max_depth': 15, 'min_child_weight': 1}. Best is trial 153 with value: 0.026866882231508616.\u001b[0m\n",
      "\u001b[32m[I 2022-08-07 13:11:31,277]\u001b[0m Trial 156 finished with value: 0.026876779206420058 and parameters: {'lambda': 4.7794469091204475, 'alpha': 0.011414964631724601, 'colsample_bytree': 0.7, 'subsample': 0.8, 'learning_rate': 0.004227947229047006, 'n_estimators': 3559, 'max_depth': 15, 'min_child_weight': 1}. Best is trial 153 with value: 0.026866882231508616.\u001b[0m\n",
      "\u001b[32m[I 2022-08-07 13:12:02,927]\u001b[0m Trial 157 finished with value: 0.0332201410539858 and parameters: {'lambda': 4.727503640010831, 'alpha': 0.017578891445173855, 'colsample_bytree': 0.7, 'subsample': 0.8, 'learning_rate': 0.001164149381902473, 'n_estimators': 3512, 'max_depth': 15, 'min_child_weight': 1}. Best is trial 153 with value: 0.026866882231508616.\u001b[0m\n",
      "\u001b[32m[I 2022-08-07 13:12:12,788]\u001b[0m Trial 158 finished with value: 0.02673282019398106 and parameters: {'lambda': 8.516779696828985, 'alpha': 0.011357874907878814, 'colsample_bytree': 0.7, 'subsample': 0.8, 'learning_rate': 0.01190752355027336, 'n_estimators': 3374, 'max_depth': 15, 'min_child_weight': 1}. Best is trial 158 with value: 0.02673282019398106.\u001b[0m\n",
      "\u001b[32m[I 2022-08-07 13:12:24,686]\u001b[0m Trial 159 finished with value: 0.026824527913474158 and parameters: {'lambda': 8.68080082974915, 'alpha': 0.010786081137012984, 'colsample_bytree': 0.7, 'subsample': 0.8, 'learning_rate': 0.008891343733236284, 'n_estimators': 3744, 'max_depth': 15, 'min_child_weight': 1}. Best is trial 158 with value: 0.02673282019398106.\u001b[0m\n",
      "\u001b[32m[I 2022-08-07 13:12:38,569]\u001b[0m Trial 160 finished with value: 0.026794147885671873 and parameters: {'lambda': 9.065046778930897, 'alpha': 0.011218861661066053, 'colsample_bytree': 0.7, 'subsample': 0.8, 'learning_rate': 0.007886076028008346, 'n_estimators': 3663, 'max_depth': 15, 'min_child_weight': 1}. Best is trial 158 with value: 0.02673282019398106.\u001b[0m\n",
      "\u001b[32m[I 2022-08-07 13:12:50,660]\u001b[0m Trial 161 finished with value: 0.026868339317758415 and parameters: {'lambda': 9.034390544187831, 'alpha': 0.011361317042198853, 'colsample_bytree': 0.7, 'subsample': 0.8, 'learning_rate': 0.00923408828585669, 'n_estimators': 3712, 'max_depth': 15, 'min_child_weight': 1}. Best is trial 158 with value: 0.02673282019398106.\u001b[0m\n",
      "\u001b[32m[I 2022-08-07 13:13:10,017]\u001b[0m Trial 162 finished with value: 0.026696190521260085 and parameters: {'lambda': 8.869152546846319, 'alpha': 0.011286619820039472, 'colsample_bytree': 0.7, 'subsample': 0.8, 'learning_rate': 0.005268579821436965, 'n_estimators': 3768, 'max_depth': 15, 'min_child_weight': 1}. Best is trial 162 with value: 0.026696190521260085.\u001b[0m\n",
      "\u001b[32m[I 2022-08-07 13:13:33,572]\u001b[0m Trial 163 finished with value: 0.03272119934881123 and parameters: {'lambda': 7.903483568990966, 'alpha': 0.011136616821534773, 'colsample_bytree': 0.7, 'subsample': 0.8, 'learning_rate': 0.0010977278289878833, 'n_estimators': 3864, 'max_depth': 15, 'min_child_weight': 2}. Best is trial 162 with value: 0.026696190521260085.\u001b[0m\n",
      "\u001b[32m[I 2022-08-07 13:13:41,814]\u001b[0m Trial 164 finished with value: 0.0268168443528714 and parameters: {'lambda': 9.940242652172909, 'alpha': 0.012397369408096787, 'colsample_bytree': 0.7, 'subsample': 0.8, 'learning_rate': 0.008106643814804172, 'n_estimators': 3717, 'max_depth': 15, 'min_child_weight': 2}. Best is trial 162 with value: 0.026696190521260085.\u001b[0m\n",
      "\u001b[32m[I 2022-08-07 13:13:50,667]\u001b[0m Trial 165 finished with value: 0.026724675600089235 and parameters: {'lambda': 9.101016341965847, 'alpha': 0.011791229829533905, 'colsample_bytree': 0.7, 'subsample': 0.8, 'learning_rate': 0.008348382897522873, 'n_estimators': 3760, 'max_depth': 15, 'min_child_weight': 1}. Best is trial 162 with value: 0.026696190521260085.\u001b[0m\n",
      "\u001b[32m[I 2022-08-07 13:13:59,867]\u001b[0m Trial 166 finished with value: 0.026745200452133515 and parameters: {'lambda': 8.738938859856727, 'alpha': 0.01168559032167841, 'colsample_bytree': 0.7, 'subsample': 0.8, 'learning_rate': 0.007941183374463291, 'n_estimators': 3764, 'max_depth': 15, 'min_child_weight': 1}. Best is trial 162 with value: 0.026696190521260085.\u001b[0m\n",
      "\u001b[32m[I 2022-08-07 13:14:09,461]\u001b[0m Trial 167 finished with value: 0.02674589772964965 and parameters: {'lambda': 9.855305525832321, 'alpha': 0.011072818228108723, 'colsample_bytree': 0.7, 'subsample': 0.8, 'learning_rate': 0.00708311790729484, 'n_estimators': 3766, 'max_depth': 15, 'min_child_weight': 1}. Best is trial 162 with value: 0.026696190521260085.\u001b[0m\n",
      "\u001b[32m[I 2022-08-07 13:14:17,910]\u001b[0m Trial 168 finished with value: 0.026630967026466175 and parameters: {'lambda': 9.191058445896935, 'alpha': 0.012508923367422754, 'colsample_bytree': 0.7, 'subsample': 0.8, 'learning_rate': 0.008459892196989874, 'n_estimators': 3758, 'max_depth': 15, 'min_child_weight': 1}. Best is trial 168 with value: 0.026630967026466175.\u001b[0m\n",
      "\u001b[32m[I 2022-08-07 13:14:24,091]\u001b[0m Trial 169 finished with value: 0.02750882272595661 and parameters: {'lambda': 9.364539211069973, 'alpha': 0.012032420230312901, 'colsample_bytree': 0.7, 'subsample': 0.8, 'learning_rate': 0.008658671815806577, 'n_estimators': 3754, 'max_depth': 15, 'min_child_weight': 7}. Best is trial 168 with value: 0.026630967026466175.\u001b[0m\n",
      "\u001b[32m[I 2022-08-07 13:14:33,782]\u001b[0m Trial 170 finished with value: 0.026752899543819937 and parameters: {'lambda': 9.716439472001172, 'alpha': 0.02294444443054254, 'colsample_bytree': 0.7, 'subsample': 0.8, 'learning_rate': 0.0069822789748503955, 'n_estimators': 3913, 'max_depth': 15, 'min_child_weight': 1}. Best is trial 168 with value: 0.026630967026466175.\u001b[0m\n",
      "\u001b[32m[I 2022-08-07 13:14:43,493]\u001b[0m Trial 171 finished with value: 0.026716865526035766 and parameters: {'lambda': 9.58201298999853, 'alpha': 0.02314955468278059, 'colsample_bytree': 0.7, 'subsample': 0.8, 'learning_rate': 0.0073481914447448525, 'n_estimators': 3909, 'max_depth': 15, 'min_child_weight': 1}. Best is trial 168 with value: 0.026630967026466175.\u001b[0m\n",
      "\u001b[32m[I 2022-08-07 13:14:55,722]\u001b[0m Trial 172 finished with value: 0.026446392019721706 and parameters: {'lambda': 9.993483170541582, 'alpha': 0.02234754741590284, 'colsample_bytree': 0.7, 'subsample': 0.8, 'learning_rate': 0.00614994012757663, 'n_estimators': 3883, 'max_depth': 15, 'min_child_weight': 1}. Best is trial 172 with value: 0.026446392019721706.\u001b[0m\n",
      "\u001b[32m[I 2022-08-07 13:15:03,106]\u001b[0m Trial 173 finished with value: 0.027430092496774052 and parameters: {'lambda': 9.61737636931131, 'alpha': 0.02337417941669355, 'colsample_bytree': 0.7, 'subsample': 0.8, 'learning_rate': 0.007124440750882378, 'n_estimators': 3934, 'max_depth': 15, 'min_child_weight': 7}. Best is trial 172 with value: 0.026446392019721706.\u001b[0m\n",
      "\u001b[32m[I 2022-08-07 13:15:26,307]\u001b[0m Trial 174 finished with value: 0.0334102849909124 and parameters: {'lambda': 9.485645663647908, 'alpha': 0.012885005128677145, 'colsample_bytree': 0.7, 'subsample': 0.8, 'learning_rate': 0.0010614249106751829, 'n_estimators': 3905, 'max_depth': 15, 'min_child_weight': 1}. Best is trial 172 with value: 0.026446392019721706.\u001b[0m\n",
      "\u001b[32m[I 2022-08-07 13:15:33,034]\u001b[0m Trial 175 finished with value: 0.027739623139556368 and parameters: {'lambda': 8.833536256655309, 'alpha': 0.02179680897275399, 'colsample_bytree': 0.7, 'subsample': 0.8, 'learning_rate': 0.007919978858372614, 'n_estimators': 3809, 'max_depth': 15, 'min_child_weight': 9}. Best is trial 172 with value: 0.026446392019721706.\u001b[0m\n",
      "\u001b[32m[I 2022-08-07 13:15:40,772]\u001b[0m Trial 176 finished with value: 0.02695135522165184 and parameters: {'lambda': 8.18998978330043, 'alpha': 0.027533833460533345, 'colsample_bytree': 0.7, 'subsample': 0.8, 'learning_rate': 0.008763284486151489, 'n_estimators': 3686, 'max_depth': 15, 'min_child_weight': 1}. Best is trial 172 with value: 0.026446392019721706.\u001b[0m\n",
      "\u001b[32m[I 2022-08-07 13:16:00,948]\u001b[0m Trial 177 finished with value: 0.030382408324788435 and parameters: {'lambda': 9.99019761102526, 'alpha': 0.027316974084545892, 'colsample_bytree': 0.7, 'subsample': 0.8, 'learning_rate': 0.0014580676531812742, 'n_estimators': 3688, 'max_depth': 15, 'min_child_weight': 11}. Best is trial 172 with value: 0.026446392019721706.\u001b[0m\n",
      "\u001b[32m[I 2022-08-07 13:16:05,365]\u001b[0m Trial 178 finished with value: 0.02767314398816348 and parameters: {'lambda': 8.233583313639347, 'alpha': 0.01939454744658555, 'colsample_bytree': 0.7, 'subsample': 0.8, 'learning_rate': 0.011440192420366273, 'n_estimators': 3998, 'max_depth': 15, 'min_child_weight': 6}. Best is trial 172 with value: 0.026446392019721706.\u001b[0m\n",
      "\u001b[32m[I 2022-08-07 13:16:09,899]\u001b[0m Trial 179 finished with value: 0.02793217612093018 and parameters: {'lambda': 7.96667163209682, 'alpha': 0.015279979401522177, 'colsample_bytree': 0.7, 'subsample': 0.8, 'learning_rate': 0.011522368362728477, 'n_estimators': 3762, 'max_depth': 15, 'min_child_weight': 12}. Best is trial 172 with value: 0.026446392019721706.\u001b[0m\n",
      "\u001b[32m[I 2022-08-07 13:16:13,782]\u001b[0m Trial 180 finished with value: 0.026638652407063992 and parameters: {'lambda': 9.689394131152193, 'alpha': 0.012487279524035024, 'colsample_bytree': 0.7, 'subsample': 0.8, 'learning_rate': 0.01784797525324938, 'n_estimators': 3687, 'max_depth': 15, 'min_child_weight': 1}. Best is trial 172 with value: 0.026446392019721706.\u001b[0m\n",
      "\u001b[32m[I 2022-08-07 13:16:20,220]\u001b[0m Trial 181 finished with value: 0.027418669881697517 and parameters: {'lambda': 8.202693143258648, 'alpha': 0.012598577721170243, 'colsample_bytree': 0.7, 'subsample': 0.8, 'learning_rate': 0.008684947411323439, 'n_estimators': 3846, 'max_depth': 15, 'min_child_weight': 7}. Best is trial 172 with value: 0.026446392019721706.\u001b[0m\n",
      "\u001b[32m[I 2022-08-07 13:16:23,147]\u001b[0m Trial 182 finished with value: 0.03857547212994872 and parameters: {'lambda': 9.485935426416326, 'alpha': 0.01670367646402094, 'colsample_bytree': 0.7, 'subsample': 0.8, 'learning_rate': 0.017817627177982194, 'n_estimators': 3668, 'max_depth': 15, 'min_child_weight': 261}. Best is trial 172 with value: 0.026446392019721706.\u001b[0m\n",
      "\u001b[32m[I 2022-08-07 13:16:44,502]\u001b[0m Trial 183 finished with value: 0.027398409538421948 and parameters: {'lambda': 9.961774079113734, 'alpha': 0.02921027235994679, 'colsample_bytree': 0.7, 'subsample': 0.8, 'learning_rate': 0.002226129209116079, 'n_estimators': 3754, 'max_depth': 15, 'min_child_weight': 6}. Best is trial 172 with value: 0.026446392019721706.\u001b[0m\n",
      "\u001b[32m[I 2022-08-07 13:16:51,038]\u001b[0m Trial 184 finished with value: 0.026495683120542277 and parameters: {'lambda': 7.177854006236212, 'alpha': 0.03557015131906948, 'colsample_bytree': 0.7, 'subsample': 0.8, 'learning_rate': 0.013705752359577265, 'n_estimators': 3902, 'max_depth': 15, 'min_child_weight': 1}. Best is trial 172 with value: 0.026446392019721706.\u001b[0m\n",
      "\u001b[32m[I 2022-08-07 13:16:57,714]\u001b[0m Trial 185 finished with value: 0.02687280913252453 and parameters: {'lambda': 7.140259161630328, 'alpha': 0.03680584205722396, 'colsample_bytree': 0.7, 'subsample': 0.8, 'learning_rate': 0.012610997020760965, 'n_estimators': 3900, 'max_depth': 15, 'min_child_weight': 1}. Best is trial 172 with value: 0.026446392019721706.\u001b[0m\n",
      "\u001b[32m[I 2022-08-07 13:17:04,337]\u001b[0m Trial 186 finished with value: 0.0267391431173899 and parameters: {'lambda': 7.174926495462513, 'alpha': 0.02192737426841469, 'colsample_bytree': 0.7, 'subsample': 0.8, 'learning_rate': 0.0131017297157316, 'n_estimators': 3917, 'max_depth': 15, 'min_child_weight': 1}. Best is trial 172 with value: 0.026446392019721706.\u001b[0m\n",
      "\u001b[32m[I 2022-08-07 13:17:05,300]\u001b[0m Trial 187 finished with value: 0.03199358964229674 and parameters: {'lambda': 6.974055482617621, 'alpha': 0.03946342661607333, 'colsample_bytree': 0.7, 'subsample': 0.8, 'learning_rate': 0.3992068020411593, 'n_estimators': 3907, 'max_depth': 15, 'min_child_weight': 13}. Best is trial 172 with value: 0.026446392019721706.\u001b[0m\n",
      "\u001b[32m[I 2022-08-07 13:17:09,294]\u001b[0m Trial 188 finished with value: 0.02657070058345139 and parameters: {'lambda': 7.098361542199881, 'alpha': 0.011007636600785116, 'colsample_bytree': 0.7, 'subsample': 0.8, 'learning_rate': 0.020683073711180944, 'n_estimators': 3866, 'max_depth': 15, 'min_child_weight': 1}. Best is trial 172 with value: 0.026446392019721706.\u001b[0m\n",
      "\u001b[32m[I 2022-08-07 13:17:13,971]\u001b[0m Trial 189 finished with value: 0.03737423655003022 and parameters: {'lambda': 7.122677929930412, 'alpha': 0.008068136999370623, 'colsample_bytree': 0.7, 'subsample': 0.8, 'learning_rate': 0.022321151248199226, 'n_estimators': 3829, 'max_depth': 15, 'min_child_weight': 198}. Best is trial 172 with value: 0.026446392019721706.\u001b[0m\n",
      "\u001b[32m[I 2022-08-07 13:17:20,240]\u001b[0m Trial 190 finished with value: 0.03579794223794785 and parameters: {'lambda': 9.940953556443668, 'alpha': 0.0333788465934649, 'colsample_bytree': 0.7, 'subsample': 0.8, 'learning_rate': 0.015307512835189357, 'n_estimators': 3921, 'max_depth': 15, 'min_child_weight': 163}. Best is trial 172 with value: 0.026446392019721706.\u001b[0m\n",
      "\u001b[32m[I 2022-08-07 13:17:46,144]\u001b[0m Trial 191 finished with value: 0.029059015622458374 and parameters: {'lambda': 6.906996210577864, 'alpha': 0.010814737904424762, 'colsample_bytree': 0.7, 'subsample': 0.8, 'learning_rate': 0.0014688484568596985, 'n_estimators': 3785, 'max_depth': 15, 'min_child_weight': 7}. Best is trial 172 with value: 0.026446392019721706.\u001b[0m\n",
      "\u001b[32m[I 2022-08-07 13:17:54,738]\u001b[0m Trial 192 finished with value: 0.02653691025287262 and parameters: {'lambda': 8.061998576048994, 'alpha': 0.021541152687672052, 'colsample_bytree': 0.7, 'subsample': 0.8, 'learning_rate': 0.011647527569259629, 'n_estimators': 3865, 'max_depth': 15, 'min_child_weight': 1}. Best is trial 172 with value: 0.026446392019721706.\u001b[0m\n",
      "\u001b[32m[I 2022-08-07 13:17:59,627]\u001b[0m Trial 193 finished with value: 0.027471632740126553 and parameters: {'lambda': 8.236728759558329, 'alpha': 0.023056009993657447, 'colsample_bytree': 0.7, 'subsample': 0.8, 'learning_rate': 0.013998150434348282, 'n_estimators': 3970, 'max_depth': 15, 'min_child_weight': 11}. Best is trial 172 with value: 0.026446392019721706.\u001b[0m\n",
      "\u001b[32m[I 2022-08-07 13:18:03,180]\u001b[0m Trial 194 finished with value: 0.027115770477810375 and parameters: {'lambda': 7.168512608599715, 'alpha': 0.014093728599574295, 'colsample_bytree': 0.7, 'subsample': 0.8, 'learning_rate': 0.02490521360720484, 'n_estimators': 3857, 'max_depth': 15, 'min_child_weight': 1}. Best is trial 172 with value: 0.026446392019721706.\u001b[0m\n",
      "\u001b[32m[I 2022-08-07 13:18:07,673]\u001b[0m Trial 195 finished with value: 0.026957459090172695 and parameters: {'lambda': 9.952153990325481, 'alpha': 0.020725512365008678, 'colsample_bytree': 0.7, 'subsample': 0.8, 'learning_rate': 0.013631778455767381, 'n_estimators': 3719, 'max_depth': 15, 'min_child_weight': 7}. Best is trial 172 with value: 0.026446392019721706.\u001b[0m\n",
      "\u001b[32m[I 2022-08-07 13:18:10,938]\u001b[0m Trial 196 finished with value: 0.027513426150605643 and parameters: {'lambda': 8.067378626522226, 'alpha': 0.015899053121067337, 'colsample_bytree': 0.7, 'subsample': 0.8, 'learning_rate': 0.02331900265376496, 'n_estimators': 3884, 'max_depth': 15, 'min_child_weight': 16}. Best is trial 172 with value: 0.026446392019721706.\u001b[0m\n",
      "\u001b[32m[I 2022-08-07 13:18:15,383]\u001b[0m Trial 197 finished with value: 0.027412732872003312 and parameters: {'lambda': 6.372896758007549, 'alpha': 0.007910649403464509, 'colsample_bytree': 0.7, 'subsample': 0.8, 'learning_rate': 0.01189221223956078, 'n_estimators': 3805, 'max_depth': 15, 'min_child_weight': 8}. Best is trial 172 with value: 0.026446392019721706.\u001b[0m\n",
      "\u001b[32m[I 2022-08-07 13:18:19,095]\u001b[0m Trial 198 finished with value: 0.027953643157314724 and parameters: {'lambda': 8.235278347672674, 'alpha': 0.013521831867996893, 'colsample_bytree': 0.7, 'subsample': 0.8, 'learning_rate': 0.019674533583549196, 'n_estimators': 3996, 'max_depth': 5, 'min_child_weight': 1}. Best is trial 172 with value: 0.026446392019721706.\u001b[0m\n",
      "\u001b[32m[I 2022-08-07 13:18:22,373]\u001b[0m Trial 199 finished with value: 0.02702060164395859 and parameters: {'lambda': 6.613759817247859, 'alpha': 0.01929437793819329, 'colsample_bytree': 0.7, 'subsample': 0.8, 'learning_rate': 0.027217740871452466, 'n_estimators': 3615, 'max_depth': 15, 'min_child_weight': 16}. Best is trial 172 with value: 0.026446392019721706.\u001b[0m\n",
      "\u001b[32m[I 2022-08-07 13:18:33,707]\u001b[0m Trial 200 finished with value: 0.027766487260740484 and parameters: {'lambda': 8.252701635149746, 'alpha': 0.024507499393027515, 'colsample_bytree': 0.7, 'subsample': 0.8, 'learning_rate': 0.007277553149582539, 'n_estimators': 3743, 'max_depth': 15, 'min_child_weight': 12}. Best is trial 172 with value: 0.026446392019721706.\u001b[0m\n",
      "\u001b[32m[I 2022-08-07 13:18:45,935]\u001b[0m Trial 201 finished with value: 0.026628584521737626 and parameters: {'lambda': 9.888654442389837, 'alpha': 0.011134081234450042, 'colsample_bytree': 0.7, 'subsample': 0.8, 'learning_rate': 0.008332266094206264, 'n_estimators': 3587, 'max_depth': 15, 'min_child_weight': 1}. Best is trial 172 with value: 0.026446392019721706.\u001b[0m\n",
      "\u001b[32m[I 2022-08-07 13:19:07,195]\u001b[0m Trial 202 finished with value: 0.035183032332759594 and parameters: {'lambda': 9.764162914206608, 'alpha': 0.011152161299134329, 'colsample_bytree': 0.7, 'subsample': 0.8, 'learning_rate': 0.0010611540482243793, 'n_estimators': 3816, 'max_depth': 15, 'min_child_weight': 6}. Best is trial 172 with value: 0.026446392019721706.\u001b[0m\n",
      "\u001b[32m[I 2022-08-07 13:19:11,454]\u001b[0m Trial 203 finished with value: 0.02691203461619117 and parameters: {'lambda': 7.044554492200681, 'alpha': 0.00896384549232899, 'colsample_bytree': 0.7, 'subsample': 0.8, 'learning_rate': 0.0176257708920178, 'n_estimators': 3909, 'max_depth': 15, 'min_child_weight': 1}. Best is trial 172 with value: 0.026446392019721706.\u001b[0m\n",
      "\u001b[32m[I 2022-08-07 13:19:18,265]\u001b[0m Trial 204 finished with value: 0.02718081433532255 and parameters: {'lambda': 9.893769100230655, 'alpha': 0.016111870576961014, 'colsample_bytree': 0.7, 'subsample': 0.8, 'learning_rate': 0.008798477476060163, 'n_estimators': 3701, 'max_depth': 15, 'min_child_weight': 7}. Best is trial 172 with value: 0.026446392019721706.\u001b[0m\n",
      "\u001b[32m[I 2022-08-07 13:19:22,964]\u001b[0m Trial 205 finished with value: 0.027391709273270986 and parameters: {'lambda': 7.805299125103385, 'alpha': 0.012945206194881485, 'colsample_bytree': 0.7, 'subsample': 0.8, 'learning_rate': 0.015085624105372768, 'n_estimators': 3634, 'max_depth': 7, 'min_child_weight': 1}. Best is trial 172 with value: 0.026446392019721706.\u001b[0m\n",
      "\u001b[32m[I 2022-08-07 13:19:25,470]\u001b[0m Trial 206 finished with value: 0.02824939020132764 and parameters: {'lambda': 6.311399709101917, 'alpha': 0.010303659747263173, 'colsample_bytree': 0.7, 'subsample': 0.8, 'learning_rate': 0.029396834811363515, 'n_estimators': 3787, 'max_depth': 15, 'min_child_weight': 11}. Best is trial 172 with value: 0.026446392019721706.\u001b[0m\n",
      "\u001b[32m[I 2022-08-07 13:19:28,610]\u001b[0m Trial 207 finished with value: 0.028132588544912945 and parameters: {'lambda': 8.299751074498225, 'alpha': 0.03636613588008595, 'colsample_bytree': 0.7, 'subsample': 0.8, 'learning_rate': 0.020137164193183087, 'n_estimators': 3871, 'max_depth': 11, 'min_child_weight': 18}. Best is trial 172 with value: 0.026446392019721706.\u001b[0m\n",
      "\u001b[32m[I 2022-08-07 13:19:33,390]\u001b[0m Trial 208 finished with value: 0.027395334469436424 and parameters: {'lambda': 9.961498942464594, 'alpha': 0.01691368971330163, 'colsample_bytree': 0.7, 'subsample': 0.8, 'learning_rate': 0.011294344717491217, 'n_estimators': 3935, 'max_depth': 15, 'min_child_weight': 6}. Best is trial 172 with value: 0.026446392019721706.\u001b[0m\n",
      "\u001b[32m[I 2022-08-07 13:19:52,817]\u001b[0m Trial 209 finished with value: 0.03162666466540145 and parameters: {'lambda': 6.164257766406565, 'alpha': 0.013039103441724452, 'colsample_bytree': 0.5, 'subsample': 0.8, 'learning_rate': 0.0013394808407714556, 'n_estimators': 3724, 'max_depth': 15, 'min_child_weight': 12}. Best is trial 172 with value: 0.026446392019721706.\u001b[0m\n",
      "\u001b[32m[I 2022-08-07 13:20:00,469]\u001b[0m Trial 210 finished with value: 0.026813048699185826 and parameters: {'lambda': 7.389278550392922, 'alpha': 0.009732781611742765, 'colsample_bytree': 0.7, 'subsample': 0.8, 'learning_rate': 0.009397234801270351, 'n_estimators': 3603, 'max_depth': 15, 'min_child_weight': 1}. Best is trial 172 with value: 0.026446392019721706.\u001b[0m\n",
      "\u001b[32m[I 2022-08-07 13:20:09,482]\u001b[0m Trial 211 finished with value: 0.03369300934519334 and parameters: {'lambda': 7.889968240330576, 'alpha': 0.009889713589126806, 'colsample_bytree': 0.7, 'subsample': 0.8, 'learning_rate': 0.011167817630833422, 'n_estimators': 3587, 'max_depth': 15, 'min_child_weight': 85}. Best is trial 172 with value: 0.026446392019721706.\u001b[0m\n",
      "\u001b[32m[I 2022-08-07 13:20:12,786]\u001b[0m Trial 212 finished with value: 0.027915258694414587 and parameters: {'lambda': 7.10788529074038, 'alpha': 0.007500549413346998, 'colsample_bytree': 0.7, 'subsample': 0.8, 'learning_rate': 0.02035457131643418, 'n_estimators': 3810, 'max_depth': 15, 'min_child_weight': 7}. Best is trial 172 with value: 0.026446392019721706.\u001b[0m\n",
      "\u001b[32m[I 2022-08-07 13:20:21,752]\u001b[0m Trial 213 finished with value: 0.026752274511126536 and parameters: {'lambda': 8.249204602628264, 'alpha': 0.01181526001859018, 'colsample_bytree': 0.7, 'subsample': 0.8, 'learning_rate': 0.0074436119876992255, 'n_estimators': 3645, 'max_depth': 15, 'min_child_weight': 1}. Best is trial 172 with value: 0.026446392019721706.\u001b[0m\n",
      "\u001b[32m[I 2022-08-07 13:20:30,977]\u001b[0m Trial 214 finished with value: 0.02675116595668043 and parameters: {'lambda': 9.993436692265028, 'alpha': 0.01137184779607128, 'colsample_bytree': 0.7, 'subsample': 0.8, 'learning_rate': 0.00725557829582723, 'n_estimators': 3672, 'max_depth': 15, 'min_child_weight': 1}. Best is trial 172 with value: 0.026446392019721706.\u001b[0m\n",
      "\u001b[32m[I 2022-08-07 13:20:33,743]\u001b[0m Trial 215 finished with value: 0.027092061536228243 and parameters: {'lambda': 9.951125828170127, 'alpha': 0.014564359318340762, 'colsample_bytree': 0.7, 'subsample': 0.8, 'learning_rate': 0.02828419296812652, 'n_estimators': 3654, 'max_depth': 15, 'min_child_weight': 7}. Best is trial 172 with value: 0.026446392019721706.\u001b[0m\n",
      "\u001b[32m[I 2022-08-07 13:20:42,484]\u001b[0m Trial 216 finished with value: 0.02800199596840734 and parameters: {'lambda': 8.560546075263662, 'alpha': 0.008828331117209497, 'colsample_bytree': 0.7, 'subsample': 0.6, 'learning_rate': 0.007675574291630802, 'n_estimators': 3563, 'max_depth': 15, 'min_child_weight': 12}. Best is trial 172 with value: 0.026446392019721706.\u001b[0m\n",
      "\u001b[32m[I 2022-08-07 13:20:45,262]\u001b[0m Trial 217 finished with value: 0.028455579670691573 and parameters: {'lambda': 5.739487499821487, 'alpha': 0.012251768996946176, 'colsample_bytree': 0.7, 'subsample': 0.8, 'learning_rate': 0.01927750954133249, 'n_estimators': 3765, 'max_depth': 15, 'min_child_weight': 8}. Best is trial 172 with value: 0.026446392019721706.\u001b[0m\n",
      "\u001b[32m[I 2022-08-07 13:20:52,347]\u001b[0m Trial 218 finished with value: 0.027980254021036925 and parameters: {'lambda': 8.352477116706414, 'alpha': 0.01990638039830237, 'colsample_bytree': 0.6, 'subsample': 0.8, 'learning_rate': 0.007654108794045882, 'n_estimators': 3614, 'max_depth': 15, 'min_child_weight': 16}. Best is trial 172 with value: 0.026446392019721706.\u001b[0m\n",
      "\u001b[32m[I 2022-08-07 13:21:04,357]\u001b[0m Trial 219 finished with value: 0.0281444933834515 and parameters: {'lambda': 6.4268261578304715, 'alpha': 0.010153955633655818, 'colsample_bytree': 0.7, 'subsample': 0.8, 'learning_rate': 0.0033765262043033983, 'n_estimators': 3829, 'max_depth': 15, 'min_child_weight': 5}. Best is trial 172 with value: 0.026446392019721706.\u001b[0m\n",
      "\u001b[32m[I 2022-08-07 13:21:08,529]\u001b[0m Trial 220 finished with value: 0.02679817963436566 and parameters: {'lambda': 7.770598134954395, 'alpha': 0.01566436693717834, 'colsample_bytree': 0.7, 'subsample': 0.8, 'learning_rate': 0.01805383369781566, 'n_estimators': 3689, 'max_depth': 15, 'min_child_weight': 1}. Best is trial 172 with value: 0.026446392019721706.\u001b[0m\n",
      "\u001b[32m[I 2022-08-07 13:21:28,440]\u001b[0m Trial 221 finished with value: 0.037109332710925765 and parameters: {'lambda': 7.669027243997374, 'alpha': 0.015228114151456822, 'colsample_bytree': 0.7, 'subsample': 0.8, 'learning_rate': 0.0010251587503217665, 'n_estimators': 3682, 'max_depth': 15, 'min_child_weight': 6}. Best is trial 172 with value: 0.026446392019721706.\u001b[0m\n",
      "\u001b[32m[I 2022-08-07 13:21:32,464]\u001b[0m Trial 222 finished with value: 0.026682303950986242 and parameters: {'lambda': 8.395761122589455, 'alpha': 0.012153772339654874, 'colsample_bytree': 0.7, 'subsample': 0.8, 'learning_rate': 0.01682338488835364, 'n_estimators': 3752, 'max_depth': 15, 'min_child_weight': 1}. Best is trial 172 with value: 0.026446392019721706.\u001b[0m\n",
      "\u001b[32m[I 2022-08-07 13:21:35,776]\u001b[0m Trial 223 finished with value: 0.027577773568549336 and parameters: {'lambda': 8.486022702707421, 'alpha': 0.008149573461520785, 'colsample_bytree': 0.7, 'subsample': 0.8, 'learning_rate': 0.02127900420038731, 'n_estimators': 3779, 'max_depth': 15, 'min_child_weight': 10}. Best is trial 172 with value: 0.026446392019721706.\u001b[0m\n",
      "\u001b[32m[I 2022-08-07 13:21:39,738]\u001b[0m Trial 224 finished with value: 0.026953922354921417 and parameters: {'lambda': 7.133947724659437, 'alpha': 0.011832818488521702, 'colsample_bytree': 0.7, 'subsample': 0.8, 'learning_rate': 0.016306022860209907, 'n_estimators': 3708, 'max_depth': 15, 'min_child_weight': 1}. Best is trial 172 with value: 0.026446392019721706.\u001b[0m\n",
      "\u001b[32m[I 2022-08-07 13:21:43,226]\u001b[0m Trial 225 finished with value: 0.02839242935237204 and parameters: {'lambda': 8.455204564389609, 'alpha': 0.00966531129444917, 'colsample_bytree': 0.7, 'subsample': 0.8, 'learning_rate': 0.02991016485843681, 'n_estimators': 3855, 'max_depth': 4, 'min_child_weight': 1}. Best is trial 172 with value: 0.026446392019721706.\u001b[0m\n",
      "\u001b[32m[I 2022-08-07 13:21:51,436]\u001b[0m Trial 226 finished with value: 0.03391973737047132 and parameters: {'lambda': 9.795343620007273, 'alpha': 0.01333995277096708, 'colsample_bytree': 0.7, 'subsample': 0.8, 'learning_rate': 0.009235569160810888, 'n_estimators': 3604, 'max_depth': 15, 'min_child_weight': 112}. Best is trial 172 with value: 0.026446392019721706.\u001b[0m\n",
      "\u001b[32m[I 2022-08-07 13:21:54,369]\u001b[0m Trial 227 finished with value: 0.0285938967694913 and parameters: {'lambda': 6.667951509976162, 'alpha': 0.018630857618994856, 'colsample_bytree': 0.7, 'subsample': 1.0, 'learning_rate': 0.020570563418460624, 'n_estimators': 3996, 'max_depth': 15, 'min_child_weight': 12}. Best is trial 172 with value: 0.026446392019721706.\u001b[0m\n",
      "\u001b[32m[I 2022-08-07 13:21:58,291]\u001b[0m Trial 228 finished with value: 0.027273532941301967 and parameters: {'lambda': 9.957182147231848, 'alpha': 0.023873888374125775, 'colsample_bytree': 0.7, 'subsample': 0.8, 'learning_rate': 0.014600620621047184, 'n_estimators': 3758, 'max_depth': 15, 'min_child_weight': 7}. Best is trial 172 with value: 0.026446392019721706.\u001b[0m\n",
      "\u001b[32m[I 2022-08-07 13:22:19,820]\u001b[0m Trial 229 finished with value: 0.0317212308770498 and parameters: {'lambda': 5.771521856528689, 'alpha': 0.006936831617117344, 'colsample_bytree': 0.7, 'subsample': 0.8, 'learning_rate': 0.001266897625684652, 'n_estimators': 3890, 'max_depth': 15, 'min_child_weight': 19}. Best is trial 172 with value: 0.026446392019721706.\u001b[0m\n",
      "\u001b[32m[I 2022-08-07 13:22:23,131]\u001b[0m Trial 230 finished with value: 0.027042501757737772 and parameters: {'lambda': 7.726170400283659, 'alpha': 0.011320681277228484, 'colsample_bytree': 0.7, 'subsample': 0.8, 'learning_rate': 0.026669836660245562, 'n_estimators': 3700, 'max_depth': 15, 'min_child_weight': 1}. Best is trial 172 with value: 0.026446392019721706.\u001b[0m\n",
      "\u001b[32m[I 2022-08-07 13:22:28,607]\u001b[0m Trial 231 finished with value: 0.02694779493302438 and parameters: {'lambda': 8.146269180438951, 'alpha': 0.01573973797739551, 'colsample_bytree': 0.7, 'subsample': 0.8, 'learning_rate': 0.01263696946460282, 'n_estimators': 3537, 'max_depth': 15, 'min_child_weight': 1}. Best is trial 172 with value: 0.026446392019721706.\u001b[0m\n",
      "\u001b[32m[I 2022-08-07 13:22:35,407]\u001b[0m Trial 232 finished with value: 0.02755776281602928 and parameters: {'lambda': 9.977259022164816, 'alpha': 0.013459143200263285, 'colsample_bytree': 0.7, 'subsample': 0.8, 'learning_rate': 0.00785652187635517, 'n_estimators': 3655, 'max_depth': 15, 'min_child_weight': 6}. Best is trial 172 with value: 0.026446392019721706.\u001b[0m\n",
      "\u001b[32m[I 2022-08-07 13:22:39,776]\u001b[0m Trial 233 finished with value: 0.026974018660291598 and parameters: {'lambda': 6.634356745227951, 'alpha': 0.009540207106250696, 'colsample_bytree': 0.7, 'subsample': 0.8, 'learning_rate': 0.015143455336461019, 'n_estimators': 3841, 'max_depth': 15, 'min_child_weight': 1}. Best is trial 172 with value: 0.026446392019721706.\u001b[0m\n",
      "\u001b[32m[I 2022-08-07 13:22:43,125]\u001b[0m Trial 234 finished with value: 0.02743339492783313 and parameters: {'lambda': 8.206570365436068, 'alpha': 0.019098321740067935, 'colsample_bytree': 0.7, 'subsample': 0.8, 'learning_rate': 0.0208983386464218, 'n_estimators': 3775, 'max_depth': 15, 'min_child_weight': 11}. Best is trial 172 with value: 0.026446392019721706.\u001b[0m\n",
      "\u001b[32m[I 2022-08-07 13:22:49,409]\u001b[0m Trial 235 finished with value: 0.027688366305433122 and parameters: {'lambda': 5.997733245974535, 'alpha': 0.016284261612533518, 'colsample_bytree': 0.7, 'subsample': 0.8, 'learning_rate': 0.007804853146457219, 'n_estimators': 3927, 'max_depth': 15, 'min_child_weight': 7}. Best is trial 172 with value: 0.026446392019721706.\u001b[0m\n",
      "\u001b[32m[I 2022-08-07 13:22:53,266]\u001b[0m Trial 236 finished with value: 0.027067114151041096 and parameters: {'lambda': 7.120734251240171, 'alpha': 0.011239083022507168, 'colsample_bytree': 0.7, 'subsample': 0.8, 'learning_rate': 0.01672506121675578, 'n_estimators': 3604, 'max_depth': 15, 'min_child_weight': 1}. Best is trial 172 with value: 0.026446392019721706.\u001b[0m\n",
      "\u001b[32m[I 2022-08-07 13:23:14,533]\u001b[0m Trial 237 finished with value: 0.03061018902165918 and parameters: {'lambda': 8.524025997251076, 'alpha': 0.01363227835486526, 'colsample_bytree': 0.7, 'subsample': 0.8, 'learning_rate': 0.0014161615217730926, 'n_estimators': 3737, 'max_depth': 15, 'min_child_weight': 12}. Best is trial 172 with value: 0.026446392019721706.\u001b[0m\n",
      "\u001b[32m[I 2022-08-07 13:23:17,370]\u001b[0m Trial 238 finished with value: 0.027117804712573048 and parameters: {'lambda': 8.692306754890524, 'alpha': 0.022184049891739766, 'colsample_bytree': 0.7, 'subsample': 0.8, 'learning_rate': 0.028269134581074194, 'n_estimators': 3819, 'max_depth': 15, 'min_child_weight': 6}. Best is trial 172 with value: 0.026446392019721706.\u001b[0m\n",
      "\u001b[32m[I 2022-08-07 13:23:24,447]\u001b[0m Trial 239 finished with value: 0.027676384532871637 and parameters: {'lambda': 7.100443249547859, 'alpha': 0.008714757889095473, 'colsample_bytree': 0.7, 'subsample': 0.8, 'learning_rate': 0.009743790303538731, 'n_estimators': 1688, 'max_depth': 5, 'min_child_weight': 1}. Best is trial 172 with value: 0.026446392019721706.\u001b[0m\n",
      "\u001b[32m[I 2022-08-07 13:23:25,581]\u001b[0m Trial 240 finished with value: 0.027823716419343857 and parameters: {'lambda': 5.525656134589668, 'alpha': 0.011401963345350256, 'colsample_bytree': 0.7, 'subsample': 0.8, 'learning_rate': 0.17473687110660063, 'n_estimators': 3661, 'max_depth': 15, 'min_child_weight': 15}. Best is trial 172 with value: 0.026446392019721706.\u001b[0m\n",
      "\u001b[32m[I 2022-08-07 13:23:32,178]\u001b[0m Trial 241 finished with value: 0.026653761967044515 and parameters: {'lambda': 9.926384136572656, 'alpha': 0.011263455439275734, 'colsample_bytree': 0.7, 'subsample': 0.8, 'learning_rate': 0.011073726156156708, 'n_estimators': 3707, 'max_depth': 15, 'min_child_weight': 1}. Best is trial 172 with value: 0.026446392019721706.\u001b[0m\n",
      "\u001b[32m[I 2022-08-07 13:23:33,457]\u001b[0m Trial 242 finished with value: 0.02956585939061804 and parameters: {'lambda': 8.632147892022862, 'alpha': 0.014539394106713064, 'colsample_bytree': 0.7, 'subsample': 0.8, 'learning_rate': 0.2139697593691331, 'n_estimators': 3520, 'max_depth': 15, 'min_child_weight': 7}. Best is trial 172 with value: 0.026446392019721706.\u001b[0m\n",
      "\u001b[32m[I 2022-08-07 13:23:38,597]\u001b[0m Trial 243 finished with value: 0.026539267484185915 and parameters: {'lambda': 9.947414227162808, 'alpha': 0.009957280222057193, 'colsample_bytree': 0.7, 'subsample': 0.8, 'learning_rate': 0.014527372285092571, 'n_estimators': 3876, 'max_depth': 15, 'min_child_weight': 1}. Best is trial 172 with value: 0.026446392019721706.\u001b[0m\n",
      "\u001b[32m[I 2022-08-07 13:23:42,108]\u001b[0m Trial 244 finished with value: 0.027505995342514508 and parameters: {'lambda': 9.81536833225618, 'alpha': 0.009765845967096499, 'colsample_bytree': 0.7, 'subsample': 0.8, 'learning_rate': 0.02099300820763771, 'n_estimators': 3940, 'max_depth': 15, 'min_child_weight': 9}. Best is trial 172 with value: 0.026446392019721706.\u001b[0m\n",
      "\u001b[32m[I 2022-08-07 13:23:43,171]\u001b[0m Trial 245 finished with value: 0.028520654856135853 and parameters: {'lambda': 9.957679490955742, 'alpha': 0.007483459702861192, 'colsample_bytree': 0.7, 'subsample': 0.8, 'learning_rate': 0.33304310639642287, 'n_estimators': 3864, 'max_depth': 15, 'min_child_weight': 6}. Best is trial 172 with value: 0.026446392019721706.\u001b[0m\n",
      "\u001b[32m[I 2022-08-07 13:23:51,631]\u001b[0m Trial 246 finished with value: 0.026921787630885863 and parameters: {'lambda': 7.33126511695505, 'alpha': 0.011106263763075606, 'colsample_bytree': 0.7, 'subsample': 0.8, 'learning_rate': 0.008638406715980812, 'n_estimators': 3758, 'max_depth': 15, 'min_child_weight': 1}. Best is trial 172 with value: 0.026446392019721706.\u001b[0m\n",
      "\u001b[32m[I 2022-08-07 13:24:11,518]\u001b[0m Trial 247 finished with value: 0.03708694589402898 and parameters: {'lambda': 8.442025418772554, 'alpha': 0.00857090256641729, 'colsample_bytree': 0.7, 'subsample': 0.8, 'learning_rate': 0.0010062450981588433, 'n_estimators': 3831, 'max_depth': 7, 'min_child_weight': 7}. Best is trial 172 with value: 0.026446392019721706.\u001b[0m\n",
      "\u001b[32m[I 2022-08-07 13:24:15,559]\u001b[0m Trial 248 finished with value: 0.02803730938250985 and parameters: {'lambda': 7.34736743838777, 'alpha': 0.012371037547894025, 'colsample_bytree': 0.5, 'subsample': 0.8, 'learning_rate': 0.015240997864691783, 'n_estimators': 3698, 'max_depth': 15, 'min_child_weight': 13}. Best is trial 172 with value: 0.026446392019721706.\u001b[0m\n",
      "\u001b[32m[I 2022-08-07 13:24:23,416]\u001b[0m Trial 249 finished with value: 0.026815583453866247 and parameters: {'lambda': 9.952630509104637, 'alpha': 0.009658656514820658, 'colsample_bytree': 0.7, 'subsample': 0.8, 'learning_rate': 0.009179390191392441, 'n_estimators': 3951, 'max_depth': 15, 'min_child_weight': 1}. Best is trial 172 with value: 0.026446392019721706.\u001b[0m\n",
      "Number of finished trials: 250\n",
      "Best trial: {'lambda': 9.993483170541582, 'alpha': 0.02234754741590284, 'colsample_bytree': 0.7, 'subsample': 0.8, 'learning_rate': 0.00614994012757663, 'n_estimators': 3883, 'max_depth': 15, 'min_child_weight': 1}\n"
     ]
    }
   ],
   "source": [
    "study = optuna.create_study(direction='minimize')\n",
    "study.optimize(objective,show_progress_bar=True,n_trials=250)\n",
    "print('Number of finished trials:', len(study.trials))\n",
    "print('Best trial:', study.best_trial.params)"
   ]
  },
  {
   "cell_type": "code",
   "execution_count": null,
   "id": "44513767-5bc2-43a6-81bb-ae31efee44a9",
   "metadata": {},
   "outputs": [],
   "source": [
    "# 0.5633683859736183\n",
    "#params={'lambda': 0.015311581534899784, 'alpha': 0.001184792602113157, 'colsample_bytree': 1.0, 'subsample': 1.0, 'learning_rate': 0.16734864054814122, 'n_estimators': 2000, 'max_depth': 19, 'min_child_weight': 53}"
   ]
  },
  {
   "cell_type": "code",
   "execution_count": 104,
   "id": "e3a04665-624c-43dc-a166-27aa1de9f44f",
   "metadata": {},
   "outputs": [],
   "source": [
    "# rms  0.04546945700255865.\n",
    "#params={'lambda': 2.516667908895054, 'alpha': 0.005662479324960345, 'colsample_bytree': 0.9, 'subsample': 1.0, 'learning_rate': 0.2466907779941183, 'n_estimators': 200, 'max_depth': 20, 'min_child_weight': 59}"
   ]
  },
  {
   "cell_type": "code",
   "execution_count": null,
   "id": "796c59c2-9a92-4fe5-92d6-3dd5daf20f91",
   "metadata": {},
   "outputs": [],
   "source": [
    "#mse\n",
    "#params= {'lambda': 2.5482467578467127, 'alpha': 0.010543549331554023, 'colsample_bytree': 0.9, 'subsample': 1.0, 'learning_rate': 0.02423586659801208, 'n_estimators': 3000, 'max_depth': 14, 'min_child_weight': 1}"
   ]
  },
  {
   "cell_type": "code",
   "execution_count": 107,
   "id": "9011230d-d995-4ad7-8bdd-223d8b063d0a",
   "metadata": {},
   "outputs": [],
   "source": [
    "# mse\n",
    "#params={'lambda': 8.245290407832472, 'alpha': 0.02005842343151029, 'colsample_bytree': 0.9, 'subsample': 0.6, 'learning_rate': 0.18284853465775586, 'n_estimators': 3000, 'max_depth': 13, 'min_child_weight': 1}"
   ]
  },
  {
   "cell_type": "code",
   "execution_count": 104,
   "id": "4e9feab8-0078-46ed-a969-4bf55a076ae7",
   "metadata": {},
   "outputs": [],
   "source": [
    "# mse 0.026446392019721706.\n",
    "params={'lambda': 9.993483170541582, 'alpha': 0.02234754741590284, 'colsample_bytree': 0.7, 'subsample': 0.8, 'learning_rate': 0.00614994012757663, 'n_estimators': 3883, 'max_depth': 15, 'min_child_weight': 1}"
   ]
  },
  {
   "cell_type": "code",
   "execution_count": 105,
   "id": "2fa4fbab-15ef-4ead-9871-5ac5a0dfab02",
   "metadata": {},
   "outputs": [],
   "source": [
    "model= XGBRegressor(**params)"
   ]
  },
  {
   "cell_type": "code",
   "execution_count": 106,
   "id": "4cfd4e8e-ac69-4e9b-96fa-315f864b87d5",
   "metadata": {},
   "outputs": [
    {
     "data": {
      "text/html": [
       "<style>#sk-container-id-3 {color: black;background-color: white;}#sk-container-id-3 pre{padding: 0;}#sk-container-id-3 div.sk-toggleable {background-color: white;}#sk-container-id-3 label.sk-toggleable__label {cursor: pointer;display: block;width: 100%;margin-bottom: 0;padding: 0.3em;box-sizing: border-box;text-align: center;}#sk-container-id-3 label.sk-toggleable__label-arrow:before {content: \"▸\";float: left;margin-right: 0.25em;color: #696969;}#sk-container-id-3 label.sk-toggleable__label-arrow:hover:before {color: black;}#sk-container-id-3 div.sk-estimator:hover label.sk-toggleable__label-arrow:before {color: black;}#sk-container-id-3 div.sk-toggleable__content {max-height: 0;max-width: 0;overflow: hidden;text-align: left;background-color: #f0f8ff;}#sk-container-id-3 div.sk-toggleable__content pre {margin: 0.2em;color: black;border-radius: 0.25em;background-color: #f0f8ff;}#sk-container-id-3 input.sk-toggleable__control:checked~div.sk-toggleable__content {max-height: 200px;max-width: 100%;overflow: auto;}#sk-container-id-3 input.sk-toggleable__control:checked~label.sk-toggleable__label-arrow:before {content: \"▾\";}#sk-container-id-3 div.sk-estimator input.sk-toggleable__control:checked~label.sk-toggleable__label {background-color: #d4ebff;}#sk-container-id-3 div.sk-label input.sk-toggleable__control:checked~label.sk-toggleable__label {background-color: #d4ebff;}#sk-container-id-3 input.sk-hidden--visually {border: 0;clip: rect(1px 1px 1px 1px);clip: rect(1px, 1px, 1px, 1px);height: 1px;margin: -1px;overflow: hidden;padding: 0;position: absolute;width: 1px;}#sk-container-id-3 div.sk-estimator {font-family: monospace;background-color: #f0f8ff;border: 1px dotted black;border-radius: 0.25em;box-sizing: border-box;margin-bottom: 0.5em;}#sk-container-id-3 div.sk-estimator:hover {background-color: #d4ebff;}#sk-container-id-3 div.sk-parallel-item::after {content: \"\";width: 100%;border-bottom: 1px solid gray;flex-grow: 1;}#sk-container-id-3 div.sk-label:hover label.sk-toggleable__label {background-color: #d4ebff;}#sk-container-id-3 div.sk-serial::before {content: \"\";position: absolute;border-left: 1px solid gray;box-sizing: border-box;top: 0;bottom: 0;left: 50%;z-index: 0;}#sk-container-id-3 div.sk-serial {display: flex;flex-direction: column;align-items: center;background-color: white;padding-right: 0.2em;padding-left: 0.2em;position: relative;}#sk-container-id-3 div.sk-item {position: relative;z-index: 1;}#sk-container-id-3 div.sk-parallel {display: flex;align-items: stretch;justify-content: center;background-color: white;position: relative;}#sk-container-id-3 div.sk-item::before, #sk-container-id-3 div.sk-parallel-item::before {content: \"\";position: absolute;border-left: 1px solid gray;box-sizing: border-box;top: 0;bottom: 0;left: 50%;z-index: -1;}#sk-container-id-3 div.sk-parallel-item {display: flex;flex-direction: column;z-index: 1;position: relative;background-color: white;}#sk-container-id-3 div.sk-parallel-item:first-child::after {align-self: flex-end;width: 50%;}#sk-container-id-3 div.sk-parallel-item:last-child::after {align-self: flex-start;width: 50%;}#sk-container-id-3 div.sk-parallel-item:only-child::after {width: 0;}#sk-container-id-3 div.sk-dashed-wrapped {border: 1px dashed gray;margin: 0 0.4em 0.5em 0.4em;box-sizing: border-box;padding-bottom: 0.4em;background-color: white;}#sk-container-id-3 div.sk-label label {font-family: monospace;font-weight: bold;display: inline-block;line-height: 1.2em;}#sk-container-id-3 div.sk-label-container {text-align: center;}#sk-container-id-3 div.sk-container {/* jupyter's `normalize.less` sets `[hidden] { display: none; }` but bootstrap.min.css set `[hidden] { display: none !important; }` so we also need the `!important` here to be able to override the default hidden behavior on the sphinx rendered scikit-learn.org. See: https://github.com/scikit-learn/scikit-learn/issues/21755 */display: inline-block !important;position: relative;}#sk-container-id-3 div.sk-text-repr-fallback {display: none;}</style><div id=\"sk-container-id-3\" class=\"sk-top-container\"><div class=\"sk-text-repr-fallback\"><pre>XGBRegressor(alpha=0.02234754741590284, base_score=0.5, booster=&#x27;gbtree&#x27;,\n",
       "             callbacks=None, colsample_bylevel=1, colsample_bynode=1,\n",
       "             colsample_bytree=0.7, early_stopping_rounds=None,\n",
       "             enable_categorical=False, eval_metric=None, gamma=0, gpu_id=-1,\n",
       "             grow_policy=&#x27;depthwise&#x27;, importance_type=None,\n",
       "             interaction_constraints=&#x27;&#x27;, lambda=9.993483170541582,\n",
       "             learning_rate=0.00614994012757663, max_bin=256,\n",
       "             max_cat_to_onehot=4, max_delta_step=0, max_depth=15, max_leaves=0,\n",
       "             min_child_weight=1, missing=nan, monotone_constraints=&#x27;()&#x27;,\n",
       "             n_estimators=3883, n_jobs=0, num_parallel_tree=1, predictor=&#x27;auto&#x27;,\n",
       "             random_state=0, ...)</pre><b>In a Jupyter environment, please rerun this cell to show the HTML representation or trust the notebook. <br />On GitHub, the HTML representation is unable to render, please try loading this page with nbviewer.org.</b></div><div class=\"sk-container\" hidden><div class=\"sk-item\"><div class=\"sk-estimator sk-toggleable\"><input class=\"sk-toggleable__control sk-hidden--visually\" id=\"sk-estimator-id-3\" type=\"checkbox\" checked><label for=\"sk-estimator-id-3\" class=\"sk-toggleable__label sk-toggleable__label-arrow\">XGBRegressor</label><div class=\"sk-toggleable__content\"><pre>XGBRegressor(alpha=0.02234754741590284, base_score=0.5, booster=&#x27;gbtree&#x27;,\n",
       "             callbacks=None, colsample_bylevel=1, colsample_bynode=1,\n",
       "             colsample_bytree=0.7, early_stopping_rounds=None,\n",
       "             enable_categorical=False, eval_metric=None, gamma=0, gpu_id=-1,\n",
       "             grow_policy=&#x27;depthwise&#x27;, importance_type=None,\n",
       "             interaction_constraints=&#x27;&#x27;, lambda=9.993483170541582,\n",
       "             learning_rate=0.00614994012757663, max_bin=256,\n",
       "             max_cat_to_onehot=4, max_delta_step=0, max_depth=15, max_leaves=0,\n",
       "             min_child_weight=1, missing=nan, monotone_constraints=&#x27;()&#x27;,\n",
       "             n_estimators=3883, n_jobs=0, num_parallel_tree=1, predictor=&#x27;auto&#x27;,\n",
       "             random_state=0, ...)</pre></div></div></div></div></div>"
      ],
      "text/plain": [
       "XGBRegressor(alpha=0.02234754741590284, base_score=0.5, booster='gbtree',\n",
       "             callbacks=None, colsample_bylevel=1, colsample_bynode=1,\n",
       "             colsample_bytree=0.7, early_stopping_rounds=None,\n",
       "             enable_categorical=False, eval_metric=None, gamma=0, gpu_id=-1,\n",
       "             grow_policy='depthwise', importance_type=None,\n",
       "             interaction_constraints='', lambda=9.993483170541582,\n",
       "             learning_rate=0.00614994012757663, max_bin=256,\n",
       "             max_cat_to_onehot=4, max_delta_step=0, max_depth=15, max_leaves=0,\n",
       "             min_child_weight=1, missing=nan, monotone_constraints='()',\n",
       "             n_estimators=3883, n_jobs=0, num_parallel_tree=1, predictor='auto',\n",
       "             random_state=0, ...)"
      ]
     },
     "execution_count": 106,
     "metadata": {},
     "output_type": "execute_result"
    }
   ],
   "source": [
    "model.fit(x,y)"
   ]
  },
  {
   "cell_type": "code",
   "execution_count": 107,
   "id": "d37a8598-b974-43ec-a807-32e0ac64cae3",
   "metadata": {},
   "outputs": [],
   "source": [
    "y_pred=model.predict(df_test.drop('campaign_id',axis=1))"
   ]
  },
  {
   "cell_type": "code",
   "execution_count": 108,
   "id": "bd494b6b-c7df-4143-913a-758c319bb99b",
   "metadata": {},
   "outputs": [
    {
     "data": {
      "text/plain": [
       "array([ 8.70230e-02,  6.75443e-01,  1.47835e-01,  1.75559e-01,\n",
       "        1.56900e-01,  2.04000e-02,  2.35600e-03,  1.50830e-02,\n",
       "       -2.50000e-04,  1.89020e-02,  2.60710e-02,  1.33350e-02,\n",
       "        1.28130e-02,  1.17270e-02,  9.96300e-03,  1.05150e-02,\n",
       "        9.16000e-03,  4.09400e-03,  1.62560e-02,  3.66860e-02,\n",
       "        2.08730e-02,  5.45000e-03,  3.55200e-03,  1.19410e-02,\n",
       "       -7.43000e-04, -1.97200e-03,  6.75310e-02,  9.23500e-03,\n",
       "        9.28350e-02,  4.58300e-03,  2.18200e-03,  2.44060e-02,\n",
       "        2.14000e-03,  8.71660e-02,  2.86880e-02,  1.01210e-02,\n",
       "        2.58400e-03,  2.38700e-03,  3.73700e-03,  3.09800e-02,\n",
       "        1.25530e-02,  1.73270e-02,  2.61200e-03,  6.37310e-02,\n",
       "        5.99690e-02,  1.45400e-03,  1.81160e-02,  2.65520e-02,\n",
       "        4.22920e-02,  1.13970e-02,  1.32200e-02,  1.45820e-02,\n",
       "        4.25300e-03,  1.20970e-02,  5.70000e-03,  6.71900e-03,\n",
       "        3.46490e-02,  4.02600e-03,  3.66300e-03,  3.38200e-03,\n",
       "        7.47750e-02,  6.13500e-03,  2.14530e-02,  4.92500e-03,\n",
       "        4.41500e-03,  7.85800e-03,  5.06500e-03,  8.41890e-02,\n",
       "        1.85420e-02,  6.33620e-02,  1.20020e-02,  1.43987e-01,\n",
       "        1.15090e-02,  9.52000e-03,  1.48185e-01,  1.33980e-01,\n",
       "        6.00200e-03,  4.87080e-02,  1.48900e-03,  1.26381e-01,\n",
       "        1.39720e-02, -2.30900e-03,  4.38850e-02,  7.51100e-03,\n",
       "        1.59440e-02,  2.05524e-01,  5.73100e-03,  5.07700e-03,\n",
       "        5.96780e-02,  1.30000e-04,  2.68920e-02,  1.49780e-02,\n",
       "        6.66220e-02, -2.35200e-03,  6.55900e-03,  1.13270e-02,\n",
       "        1.74600e-02,  6.46160e-02,  8.83300e-03, -2.59100e-03,\n",
       "        1.22249e-01,  1.22015e-01,  1.22015e-01,  3.51600e-03,\n",
       "       -3.68900e-03,  8.71400e-03, -8.40000e-04,  1.29970e-02,\n",
       "        1.12940e-02,  5.76430e-02,  1.40463e-01,  1.00280e-02,\n",
       "        1.36262e-01,  1.43810e-02,  8.83300e-03,  8.11500e-03,\n",
       "        2.35362e-01,  1.06883e-01,  4.30390e-02,  3.56360e-02,\n",
       "        2.17670e-02,  1.45550e-02,  7.26690e-02,  5.26000e-03,\n",
       "       -1.00400e-03,  1.60890e-02,  1.87670e-02,  1.04600e-02,\n",
       "        1.56000e-04,  2.17140e-02,  5.72390e-02,  3.08360e-02,\n",
       "       -4.73500e-03,  5.49300e-03,  3.06180e-02,  3.65110e-02,\n",
       "        1.22190e-02,  3.48900e-03,  5.36100e-03,  1.11330e-02,\n",
       "        4.94400e-03,  8.19000e-02,  1.83890e-02,  8.61470e-02,\n",
       "        1.64076e-01,  6.60000e-03,  4.29700e-03,  8.87890e-02,\n",
       "        2.71000e-02,  2.01400e-03,  6.66480e-02,  1.56979e-01,\n",
       "        2.96043e-01,  1.41050e-02,  5.89700e-03,  2.05770e-02,\n",
       "        7.45230e-02,  2.73210e-02,  5.23500e-03,  7.86300e-03,\n",
       "        7.85400e-03,  1.11542e-01,  6.07400e-03,  1.48450e-02,\n",
       "        9.07200e-03,  1.02700e-02,  9.36500e-03,  7.17820e-02,\n",
       "        6.53400e-03,  2.95900e-03,  3.43560e-02,  1.58430e-02,\n",
       "        9.89500e-02,  1.38837e-01,  6.95400e-03,  2.07780e-02,\n",
       "        7.80800e-03,  6.20500e-03,  6.28620e-02,  5.39600e-03,\n",
       "        3.37250e-02,  4.25690e-02,  3.66260e-02,  4.10800e-03,\n",
       "        8.99400e-03,  2.45900e-03,  4.11400e-03,  4.91210e-02,\n",
       "        1.27726e-01,  9.93820e-02,  2.88910e-02,  8.46880e-02,\n",
       "        6.60130e-02,  9.35960e-02,  5.36810e-02,  8.83870e-02,\n",
       "        6.25100e-03,  8.65200e-03,  4.82780e-02,  1.50890e-02,\n",
       "        4.95830e-02,  1.60890e-02,  2.47130e-02,  1.89580e-02,\n",
       "        6.10660e-02,  4.16470e-02,  4.41020e-02,  3.81520e-02,\n",
       "        6.95240e-02,  4.45400e-03,  2.47500e-02,  1.10360e-02,\n",
       "        3.56960e-02,  1.81681e-01,  1.46120e-02,  4.56500e-02,\n",
       "        1.71662e-01,  3.00160e-02,  7.27100e-03,  1.34320e-02,\n",
       "        3.51880e-02,  1.16283e-01,  2.22160e-02,  4.92050e-02,\n",
       "        1.14900e-02,  7.34200e-03,  4.85300e-02,  6.89740e-02,\n",
       "        4.07600e-03,  1.75300e-02,  6.48000e-03,  7.87600e-03,\n",
       "        2.30860e-02,  1.14760e-02,  9.79100e-03,  2.02890e-02,\n",
       "        4.64500e-03,  6.94970e-02,  1.19630e-02,  1.39610e-02,\n",
       "        9.28400e-03,  4.00570e-02,  1.13410e-02,  7.14700e-03,\n",
       "        9.33800e-03,  6.07500e-03,  5.76200e-03,  6.11400e-03,\n",
       "        1.25660e-02,  3.20400e-03,  1.70720e-02,  1.37160e-02,\n",
       "        2.14460e-02,  1.67919e-01,  1.35760e-02,  1.48280e-02,\n",
       "        6.63000e-03,  1.35730e-02,  9.44300e-03,  8.96100e-03,\n",
       "        3.49600e-03,  2.12420e-02,  8.64130e-02,  6.67600e-03,\n",
       "        6.79300e-03,  1.25850e-02,  3.54220e-02,  2.25600e-03,\n",
       "        3.03400e-03,  1.14050e-02,  4.52600e-03,  2.19230e-02,\n",
       "        2.35760e-02,  2.37229e-01,  1.82380e-02,  2.80180e-02,\n",
       "        5.45380e-02,  2.27950e-02,  1.01930e-02,  1.18710e-02,\n",
       "        1.20710e-02,  5.42520e-02,  1.68680e-02,  6.01560e-02,\n",
       "        9.66200e-03,  7.30700e-03,  6.86500e-03,  1.64700e-02,\n",
       "        1.60910e-02,  6.83200e-03,  7.08000e-03,  6.69560e-02,\n",
       "        2.01500e-02,  2.19800e-02,  1.39403e-01,  1.45614e-01,\n",
       "        1.06450e-02,  2.18610e-02,  2.54320e-02,  1.05863e-01,\n",
       "        1.74320e-02,  9.16690e-02,  1.10495e-01,  2.59660e-02,\n",
       "        1.50720e-02,  1.01170e-02,  8.61500e-03,  1.09516e-01,\n",
       "        1.92140e-01,  5.32100e-03,  4.77600e-03,  1.82960e-02,\n",
       "        4.38600e-03,  3.86990e-02,  4.83400e-03,  6.30640e-02,\n",
       "        1.34075e-01,  1.72887e-01,  1.27420e-02,  1.07170e-02,\n",
       "        7.66700e-03,  1.88400e-02,  8.68410e-02,  3.98000e-03,\n",
       "        1.35530e-02,  1.29620e-02,  6.37400e-03,  1.38880e-02,\n",
       "        1.27635e-01,  8.73400e-03,  7.88700e-02,  5.77200e-03,\n",
       "        1.03330e-02,  8.08200e-03,  1.77930e-02,  1.77750e-02,\n",
       "        9.53000e-03,  8.35460e-02,  2.19970e-02,  1.08090e-02,\n",
       "        3.17350e-02,  5.18400e-03,  3.74496e-01,  3.12840e-02,\n",
       "        2.87671e-01,  3.56640e-02,  3.70140e-02,  9.14300e-03,\n",
       "        8.31000e-03,  9.69300e-03,  3.04144e-01,  3.72900e-03,\n",
       "        1.10030e-02,  1.38970e-02,  1.07370e-02,  4.63900e-03,\n",
       "        1.64720e-02,  1.67530e-02,  8.80700e-03,  1.93900e-03,\n",
       "        8.55200e-03,  8.38000e-04,  4.00500e-03,  2.27200e-03,\n",
       "        3.21300e-03,  6.87600e-03,  7.03400e-03,  2.37700e-02,\n",
       "        8.66000e-03,  1.27210e-02,  5.63800e-03,  7.40500e-03,\n",
       "        1.10680e-02,  7.31200e-03,  8.70700e-03,  2.00970e-02,\n",
       "        1.13060e-02,  1.82370e-02,  1.03980e-02,  6.59670e-02,\n",
       "        1.21300e-03,  1.61870e-02,  1.16830e-02,  2.58160e-02,\n",
       "        4.51470e-02,  1.48360e-02,  7.02000e-03,  5.62730e-02,\n",
       "        1.86225e-01,  7.80500e-03,  2.97510e-02,  1.51920e-02,\n",
       "        9.01700e-03,  5.88300e-03,  5.29980e-02,  1.94639e-01,\n",
       "        1.50090e-02,  2.91500e-03,  4.21230e-02,  1.23850e-02,\n",
       "        1.09008e-01,  1.97480e-02,  1.73680e-02,  1.25500e-02,\n",
       "        1.22780e-02,  1.30330e-02,  6.41300e-03,  7.77600e-03,\n",
       "        1.42470e-02,  1.15550e-02,  1.58010e-02,  1.30510e-02,\n",
       "        2.33170e-02,  9.13400e-03,  1.54170e-02,  2.91430e-02,\n",
       "        8.23000e-03,  1.34550e-02,  5.14380e-02,  7.93590e-02,\n",
       "        1.32170e-02,  6.69900e-03,  1.18170e-02,  1.20614e-01,\n",
       "        7.32000e-03,  1.46720e-02,  9.74300e-03,  7.04700e-03,\n",
       "        5.16830e-02,  7.25170e-02,  1.75430e-02,  1.54543e-01,\n",
       "        1.80450e-02,  1.32670e-02,  1.94080e-02,  2.32210e-02,\n",
       "        1.58480e-02,  8.51100e-03,  1.82380e-02,  4.48660e-02,\n",
       "        1.04440e-02,  1.32850e-02,  8.57600e-03,  5.93620e-02,\n",
       "        2.07310e-02,  9.55400e-03,  9.15620e-02,  1.68950e-02,\n",
       "        1.02980e-02,  1.76290e-02,  1.22620e-02,  2.03960e-02,\n",
       "        1.71590e-02,  1.59230e-02,  1.15260e-02,  1.39010e-02,\n",
       "        1.42600e-02,  3.00489e-01,  1.01410e-02,  1.52380e-02,\n",
       "        1.54260e-02,  1.01020e-02,  3.22040e-02,  2.21210e-02,\n",
       "        4.43165e-01,  1.34550e-02,  9.25500e-03,  8.80300e-03,\n",
       "        1.44640e-02,  7.98930e-02,  1.49880e-02,  8.11200e-03,\n",
       "        4.04730e-02,  1.08470e-02,  2.03200e-02,  2.00170e-02,\n",
       "        2.99860e-02,  1.92870e-02,  6.06800e-02,  7.90100e-03,\n",
       "        2.13772e-01,  8.70800e-03,  7.38430e-02,  1.84650e-02,\n",
       "        4.15040e-02,  2.91070e-02,  1.69590e-02,  6.60100e-03,\n",
       "       -1.42000e-04,  8.38600e-03,  1.23690e-02,  1.59290e-02,\n",
       "        8.40990e-02,  6.70320e-02,  2.63970e-02,  3.10220e-02,\n",
       "        6.96900e-03,  3.65210e-02, -2.58900e-03,  3.11990e-02,\n",
       "        1.06778e-01,  2.69410e-02,  2.29370e-02,  8.97200e-03,\n",
       "        1.27050e-02,  1.20250e-02,  8.94100e-03,  1.33630e-02,\n",
       "        1.61875e-01,  2.99151e-01,  9.90580e-02,  1.49310e-02,\n",
       "        2.65940e-02,  4.12320e-02,  4.42620e-02,  3.58930e-02,\n",
       "        9.20020e-02,  2.12520e-02,  1.34660e-02,  2.64180e-02,\n",
       "        2.42530e-02,  2.09440e-02,  4.11279e-01,  8.92730e-02,\n",
       "       -1.47200e-02,  3.34336e-01,  1.23920e-02,  1.98400e-02,\n",
       "        4.49530e-02,  9.65630e-02,  3.61610e-02,  5.42480e-02,\n",
       "        4.29270e-02,  3.66802e-01,  6.81340e-02,  2.23720e-02,\n",
       "        2.07700e-02,  1.29450e-02,  2.21130e-02,  8.79400e-03,\n",
       "        4.22640e-02,  2.20440e-02,  1.25230e-02,  3.11230e-02,\n",
       "        5.34560e-02,  3.89921e-01,  1.14050e-02,  1.53432e-01,\n",
       "        5.66980e-02,  3.30269e-01,  3.97500e-02,  7.99600e-02,\n",
       "        2.51850e-02,  1.68660e-02,  1.65909e-01,  7.00320e-02,\n",
       "        2.15270e-02,  2.07270e-02,  3.61040e-02,  2.08470e-02,\n",
       "        2.13173e-01,  1.53830e-02,  8.28110e-02,  7.16600e-03,\n",
       "        1.80200e-02,  5.72180e-02,  1.09850e-02,  4.43630e-02,\n",
       "        6.09800e-03,  4.38500e-02,  1.79600e-02,  4.27610e-02,\n",
       "        8.58500e-03,  8.44760e-02,  1.26129e-01,  1.24450e-02,\n",
       "        9.27900e-03,  7.17700e-03,  1.40710e-02,  1.36330e-02,\n",
       "        7.21070e-02,  4.13400e-03,  1.57833e-01,  1.43030e-02,\n",
       "        2.44450e-02,  1.24740e-02,  1.03070e-02,  2.61950e-02,\n",
       "        1.72910e-02,  7.16800e-03,  1.19750e-02,  5.02900e-03,\n",
       "        2.77250e-02,  8.99600e-03,  1.76360e-02,  1.45550e-02,\n",
       "        1.45800e-03,  7.80820e-02,  4.38500e-02,  7.35870e-02,\n",
       "        2.54660e-02,  3.39390e-02,  4.52660e-02,  1.61920e-02,\n",
       "        6.63610e-02,  1.00790e-02,  6.44000e-03,  6.16500e-03,\n",
       "       -1.29600e-03,  1.00755e-01,  6.05560e-02,  3.33990e-02,\n",
       "        5.51830e-02,  3.24380e-02,  1.46563e-01,  1.64460e-02,\n",
       "        1.95770e-02,  3.40890e-02,  2.23010e-02,  2.04220e-02,\n",
       "        1.36740e-02,  2.84000e-02,  4.21020e-02,  5.00320e-02,\n",
       "        1.97180e-02,  3.32160e-02,  2.87940e-02,  2.14610e-02,\n",
       "        5.34350e-02,  5.26990e-02,  2.34248e-01,  1.47096e-01,\n",
       "        2.00430e-02,  2.39440e-02,  1.65717e-01,  8.26700e-03,\n",
       "        1.43593e-01,  1.52850e-02,  7.04490e-02,  2.30880e-02,\n",
       "        1.88648e-01,  1.06145e-01,  1.00742e-01,  3.00850e-02,\n",
       "        1.32410e-02,  2.13620e-02,  3.07440e-02,  1.88610e-02,\n",
       "        4.00210e-02,  1.86350e-02,  4.21650e-02,  8.07400e-03,\n",
       "        3.53060e-02,  9.68100e-03,  4.56300e-03,  5.90020e-02,\n",
       "        7.58400e-03,  2.67490e-02,  5.52180e-02,  1.01677e-01,\n",
       "        1.07334e-01,  1.10720e-02,  5.58600e-02,  2.57790e-02,\n",
       "        3.35800e-02,  1.70400e-02,  8.53590e-02,  2.37740e-02,\n",
       "        4.56970e-02,  3.26750e-02,  3.15230e-02,  4.01980e-02,\n",
       "        1.83040e-02,  2.76190e-02,  3.54540e-02,  4.09270e-02,\n",
       "        4.06700e-02,  1.64670e-02,  4.15910e-02,  2.50820e-02,\n",
       "        1.60415e-01,  1.67330e-02,  1.12570e-02,  6.15200e-03,\n",
       "        2.25430e-02,  2.35370e-02,  1.86040e-02,  2.72930e-02,\n",
       "        1.50500e-02,  2.21140e-02,  3.18710e-02,  3.51040e-02,\n",
       "        5.95290e-02,  7.38820e-02,  9.35420e-02,  1.86520e-02,\n",
       "        5.50400e-03,  9.64700e-03,  1.92100e-02,  2.08270e-02,\n",
       "        2.73990e-02,  2.64160e-02,  1.96260e-02,  3.16860e-02,\n",
       "        1.90848e-01,  1.74022e-01,  2.62740e-02,  1.37243e-01,\n",
       "        1.06890e-02,  2.36540e-02,  5.23900e-02,  2.63820e-02,\n",
       "        4.73290e-02,  4.72000e-02,  2.91250e-02,  1.67110e-02,\n",
       "        1.13171e-01,  7.93230e-02,  2.83280e-02,  5.77940e-02,\n",
       "        1.13562e-01,  1.04908e-01,  4.29820e-02,  1.41648e-01,\n",
       "        3.54150e-02,  7.14780e-02,  7.62220e-02,  3.28270e-02,\n",
       "        2.10690e-02,  9.80880e-02,  2.50140e-01,  1.22511e-01,\n",
       "        1.06570e-01,  4.10440e-02,  1.04900e-03,  1.38300e-02,\n",
       "        1.02100e-02,  2.58590e-02,  4.53590e-02,  2.44500e-02,\n",
       "        6.24740e-02,  3.19560e-02,  3.38480e-02,  2.73260e-02,\n",
       "        2.30580e-02,  3.32190e-02,  3.26780e-02,  7.61560e-02,\n",
       "        4.94760e-02,  9.21190e-02,  6.94540e-02,  3.10770e-02,\n",
       "        3.92426e-01, -1.45000e-04,  2.42110e-01,  7.28500e-03,\n",
       "        1.69030e-01,  1.15320e-02,  1.66830e-02,  1.51660e-02,\n",
       "        2.45637e-01,  1.41390e-02], dtype=float32)"
      ]
     },
     "execution_count": 108,
     "metadata": {},
     "output_type": "execute_result"
    }
   ],
   "source": [
    "y_pred=y_pred.round(6)\n",
    "y_pred"
   ]
  },
  {
   "cell_type": "code",
   "execution_count": 109,
   "id": "65dfcbb9-941b-49b3-8940-92392e0ab2a4",
   "metadata": {},
   "outputs": [],
   "source": [
    "x_pred=model.predict(x)"
   ]
  },
  {
   "cell_type": "code",
   "execution_count": 110,
   "id": "29e33037-9165-4151-8935-0ad7b315b0a6",
   "metadata": {},
   "outputs": [
    {
     "data": {
      "text/plain": [
       "array([0.10228758, 0.6749211 , 0.00431809, ..., 0.00758762, 0.01148912,\n",
       "       0.00535652], dtype=float32)"
      ]
     },
     "execution_count": 110,
     "metadata": {},
     "output_type": "execute_result"
    }
   ],
   "source": [
    "x_pred"
   ]
  },
  {
   "cell_type": "code",
   "execution_count": 111,
   "id": "0943b3a0-9d09-4c0e-9d2d-61b72086e4cc",
   "metadata": {},
   "outputs": [
    {
     "data": {
      "text/plain": [
       "0.9948827066694461"
      ]
     },
     "execution_count": 111,
     "metadata": {},
     "output_type": "execute_result"
    }
   ],
   "source": [
    "r2_score(y,x_pred)"
   ]
  },
  {
   "cell_type": "code",
   "execution_count": 112,
   "id": "0c7cd025-1370-4492-ae5e-ef9a1fc1a068",
   "metadata": {},
   "outputs": [],
   "source": [
    "submission= pd.DataFrame()"
   ]
  },
  {
   "cell_type": "code",
   "execution_count": 113,
   "id": "17236380-de7c-4781-a780-24841dd8c2c7",
   "metadata": {},
   "outputs": [],
   "source": [
    "submission[\"campaign_id\"]=df_test.campaign_id"
   ]
  },
  {
   "cell_type": "code",
   "execution_count": 114,
   "id": "f1c45dc4-5bd5-4ba4-aa1e-1e13a4771fca",
   "metadata": {},
   "outputs": [],
   "source": [
    "submission[\"click_rate\"] = y_pred "
   ]
  },
  {
   "cell_type": "code",
   "execution_count": 115,
   "id": "2222f827-be5c-405b-8b71-8c06cf9a0096",
   "metadata": {},
   "outputs": [
    {
     "data": {
      "text/html": [
       "<div>\n",
       "<style scoped>\n",
       "    .dataframe tbody tr th:only-of-type {\n",
       "        vertical-align: middle;\n",
       "    }\n",
       "\n",
       "    .dataframe tbody tr th {\n",
       "        vertical-align: top;\n",
       "    }\n",
       "\n",
       "    .dataframe thead th {\n",
       "        text-align: right;\n",
       "    }\n",
       "</style>\n",
       "<table border=\"1\" class=\"dataframe\">\n",
       "  <thead>\n",
       "    <tr style=\"text-align: right;\">\n",
       "      <th></th>\n",
       "      <th>campaign_id</th>\n",
       "      <th>click_rate</th>\n",
       "    </tr>\n",
       "  </thead>\n",
       "  <tbody>\n",
       "    <tr>\n",
       "      <th>8</th>\n",
       "      <td>1897</td>\n",
       "      <td>-0.000250</td>\n",
       "    </tr>\n",
       "    <tr>\n",
       "      <th>24</th>\n",
       "      <td>1913</td>\n",
       "      <td>-0.000743</td>\n",
       "    </tr>\n",
       "    <tr>\n",
       "      <th>25</th>\n",
       "      <td>1914</td>\n",
       "      <td>-0.001972</td>\n",
       "    </tr>\n",
       "    <tr>\n",
       "      <th>81</th>\n",
       "      <td>1970</td>\n",
       "      <td>-0.002309</td>\n",
       "    </tr>\n",
       "    <tr>\n",
       "      <th>93</th>\n",
       "      <td>1982</td>\n",
       "      <td>-0.002352</td>\n",
       "    </tr>\n",
       "    <tr>\n",
       "      <th>99</th>\n",
       "      <td>1988</td>\n",
       "      <td>-0.002591</td>\n",
       "    </tr>\n",
       "    <tr>\n",
       "      <th>104</th>\n",
       "      <td>1993</td>\n",
       "      <td>-0.003689</td>\n",
       "    </tr>\n",
       "    <tr>\n",
       "      <th>106</th>\n",
       "      <td>1995</td>\n",
       "      <td>-0.000840</td>\n",
       "    </tr>\n",
       "    <tr>\n",
       "      <th>124</th>\n",
       "      <td>2013</td>\n",
       "      <td>-0.001004</td>\n",
       "    </tr>\n",
       "    <tr>\n",
       "      <th>132</th>\n",
       "      <td>2021</td>\n",
       "      <td>-0.004735</td>\n",
       "    </tr>\n",
       "    <tr>\n",
       "      <th>488</th>\n",
       "      <td>2377</td>\n",
       "      <td>-0.000142</td>\n",
       "    </tr>\n",
       "    <tr>\n",
       "      <th>498</th>\n",
       "      <td>2387</td>\n",
       "      <td>-0.002589</td>\n",
       "    </tr>\n",
       "    <tr>\n",
       "      <th>524</th>\n",
       "      <td>2413</td>\n",
       "      <td>-0.014720</td>\n",
       "    </tr>\n",
       "    <tr>\n",
       "      <th>608</th>\n",
       "      <td>2497</td>\n",
       "      <td>-0.001296</td>\n",
       "    </tr>\n",
       "    <tr>\n",
       "      <th>753</th>\n",
       "      <td>2642</td>\n",
       "      <td>-0.000145</td>\n",
       "    </tr>\n",
       "  </tbody>\n",
       "</table>\n",
       "</div>"
      ],
      "text/plain": [
       "     campaign_id  click_rate\n",
       "8           1897   -0.000250\n",
       "24          1913   -0.000743\n",
       "25          1914   -0.001972\n",
       "81          1970   -0.002309\n",
       "93          1982   -0.002352\n",
       "99          1988   -0.002591\n",
       "104         1993   -0.003689\n",
       "106         1995   -0.000840\n",
       "124         2013   -0.001004\n",
       "132         2021   -0.004735\n",
       "488         2377   -0.000142\n",
       "498         2387   -0.002589\n",
       "524         2413   -0.014720\n",
       "608         2497   -0.001296\n",
       "753         2642   -0.000145"
      ]
     },
     "execution_count": 115,
     "metadata": {},
     "output_type": "execute_result"
    }
   ],
   "source": [
    "submission[submission['click_rate']<0]"
   ]
  },
  {
   "cell_type": "code",
   "execution_count": 116,
   "id": "3b992c55-db47-44b8-83ad-8ad83a64404e",
   "metadata": {},
   "outputs": [
    {
     "data": {
      "text/plain": [
       "(762, 2)"
      ]
     },
     "execution_count": 116,
     "metadata": {},
     "output_type": "execute_result"
    }
   ],
   "source": [
    "submission.shape"
   ]
  },
  {
   "cell_type": "code",
   "execution_count": 117,
   "id": "575b7b8d-67a7-4916-bf16-a0da0c956147",
   "metadata": {},
   "outputs": [],
   "source": [
    "submission['click_rate']=submission['click_rate'].apply(lambda x: abs(x) if x<0 else x)"
   ]
  },
  {
   "cell_type": "code",
   "execution_count": 118,
   "id": "5ec48d43-d9f5-4a11-a0ef-013e5bb81117",
   "metadata": {},
   "outputs": [
    {
     "data": {
      "text/plain": [
       "Series([], Name: click_rate, dtype: float64)"
      ]
     },
     "execution_count": 118,
     "metadata": {},
     "output_type": "execute_result"
    }
   ],
   "source": [
    "submission[submission['click_rate']<0]['click_rate']"
   ]
  },
  {
   "cell_type": "code",
   "execution_count": 119,
   "id": "fa252aef-8456-456b-a37b-a7918c9d1704",
   "metadata": {},
   "outputs": [
    {
     "data": {
      "text/plain": [
       "(762, 2)"
      ]
     },
     "execution_count": 119,
     "metadata": {},
     "output_type": "execute_result"
    }
   ],
   "source": [
    "submission.shape"
   ]
  },
  {
   "cell_type": "code",
   "execution_count": 120,
   "id": "10b929d2-260a-415f-90c3-0367a1c4b1a2",
   "metadata": {},
   "outputs": [],
   "source": [
    "submission.to_csv(\"Submission-5.csv\",index=False)"
   ]
  },
  {
   "cell_type": "code",
   "execution_count": 121,
   "id": "ff3c564a-b677-4994-ba15-47df2437d86e",
   "metadata": {},
   "outputs": [
    {
     "data": {
      "text/html": [
       "<div>\n",
       "<style scoped>\n",
       "    .dataframe tbody tr th:only-of-type {\n",
       "        vertical-align: middle;\n",
       "    }\n",
       "\n",
       "    .dataframe tbody tr th {\n",
       "        vertical-align: top;\n",
       "    }\n",
       "\n",
       "    .dataframe thead th {\n",
       "        text-align: right;\n",
       "    }\n",
       "</style>\n",
       "<table border=\"1\" class=\"dataframe\">\n",
       "  <thead>\n",
       "    <tr style=\"text-align: right;\">\n",
       "      <th></th>\n",
       "      <th>campaign_id</th>\n",
       "      <th>click_rate</th>\n",
       "    </tr>\n",
       "  </thead>\n",
       "  <tbody>\n",
       "    <tr>\n",
       "      <th>132</th>\n",
       "      <td>2021</td>\n",
       "      <td>0.004735</td>\n",
       "    </tr>\n",
       "  </tbody>\n",
       "</table>\n",
       "</div>"
      ],
      "text/plain": [
       "     campaign_id  click_rate\n",
       "132         2021    0.004735"
      ]
     },
     "execution_count": 121,
     "metadata": {},
     "output_type": "execute_result"
    }
   ],
   "source": [
    "submission[submission['campaign_id'] == 2021]"
   ]
  },
  {
   "cell_type": "code",
   "execution_count": null,
   "id": "dc4d697b-45cd-4eb1-b073-6f95eb7ea12b",
   "metadata": {},
   "outputs": [],
   "source": []
  }
 ],
 "metadata": {
  "kernelspec": {
   "display_name": "Python 3 (ipykernel)",
   "language": "python",
   "name": "python3"
  },
  "language_info": {
   "codemirror_mode": {
    "name": "ipython",
    "version": 3
   },
   "file_extension": ".py",
   "mimetype": "text/x-python",
   "name": "python",
   "nbconvert_exporter": "python",
   "pygments_lexer": "ipython3",
   "version": "3.9.12"
  }
 },
 "nbformat": 4,
 "nbformat_minor": 5
}
